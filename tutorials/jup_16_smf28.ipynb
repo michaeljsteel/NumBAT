{
 "cells": [
  {
   "cell_type": "markdown",
   "id": "ae9968e4",
   "metadata": {},
   "source": [
    "# Jupyter Notebook for NumBAT "
   ]
  },
  {
   "cell_type": "markdown",
   "id": "64063288",
   "metadata": {},
   "source": [
    "This notebook demonstrates basic use of NumBAT within the Jupyter environment."
   ]
  },
  {
   "cell_type": "markdown",
   "id": "c8e3b69f",
   "metadata": {},
   "source": [
    "### Make some standard inputs."
   ]
  },
  {
   "cell_type": "code",
   "execution_count": null,
   "id": "79ce8021",
   "metadata": {},
   "outputs": [],
   "source": [
    "%load_ext autoreload\n",
    "%autoreload 2\n",
    "\n",
    "import sys\n",
    "import matplotlib\n",
    "import matplotlib.pyplot as plt\n",
    "from IPython.display import Image, display\n",
    "import glob\n",
    "import numpy as np"
   ]
  },
  {
   "cell_type": "code",
   "execution_count": null,
   "id": "b2d93a8e",
   "metadata": {},
   "outputs": [],
   "source": [
    "sys.path.append(\"../backend/\")  # or whereever you have NumBAT installed\n",
    "import materials\n",
    "import objects\n",
    "import mode_calcs\n",
    "import integration\n",
    "import plotting\n",
    "from fortran import NumBAT\n"
   ]
  },
  {
   "cell_type": "markdown",
   "id": "bd3c8f93",
   "metadata": {},
   "source": [
    "### Specify the geometry"
   ]
  },
  {
   "cell_type": "code",
   "execution_count": null,
   "id": "c44df3d3",
   "metadata": {},
   "outputs": [],
   "source": [
    "wl_nm = 1550\n",
    "unitcell_x = 5*wl_nm\n",
    "unitcell_y = unitcell_x\n",
    "inc_a_x = 550\n",
    "inc_a_y = inc_a_x\n",
    "inc_shape = 'circular'\n",
    "\n",
    "num_modes_EM_pump = 20\n",
    "num_modes_EM_Stokes = num_modes_EM_pump\n",
    "num_modes_AC = 40\n",
    "EM_ival_pump = 0\n",
    "EM_ival_Stokes = 0\n",
    "AC_ival = 'All'\n"
   ]
  },
  {
   "cell_type": "markdown",
   "id": "9c8ef009",
   "metadata": {},
   "source": [
    "### Make the structure"
   ]
  },
  {
   "cell_type": "code",
   "execution_count": null,
   "id": "d66dafcc",
   "metadata": {},
   "outputs": [],
   "source": [
    "mat_bkg = materials.make_material(\"Vacuum\")\n",
    "mat_a   = materials.make_material(\"SiO2_2016_Smith\")\n",
    "                          \n",
    "        \n",
    "wguide = objects.Structure(unitcell_x,inc_a_x,unitcell_y,inc_a_y,inc_shape,\n",
    "                          material_bkg=mat_bkg, material_a=mat_a,\n",
    "                          lc_bkg=.1, lc_refine_1=10, lc_refine_2=10)"
   ]
  },
  {
   "cell_type": "markdown",
   "id": "c78f7050",
   "metadata": {},
   "source": [
    "### Calculate the EM modes"
   ]
  },
  {
   "cell_type": "code",
   "execution_count": null,
   "id": "9d5a62a2",
   "metadata": {},
   "outputs": [],
   "source": [
    "neff_est = 1.4\n",
    "\n",
    "sim_EM_pump = wguide.calc_EM_modes(num_modes_EM_pump, wl_nm, n_eff=neff_est)"
   ]
  },
  {
   "cell_type": "markdown",
   "id": "c286860d",
   "metadata": {},
   "source": [
    "Find the backward Stokes fields"
   ]
  },
  {
   "cell_type": "code",
   "execution_count": null,
   "id": "35a17635",
   "metadata": {},
   "outputs": [],
   "source": [
    "sim_EM_Stokes = mode_calcs.bkwd_Stokes_modes(sim_EM_pump)"
   ]
  },
  {
   "cell_type": "markdown",
   "id": "93600c1c",
   "metadata": {},
   "source": [
    "### Generate EM mode fields"
   ]
  },
  {
   "cell_type": "markdown",
   "id": "4d00ef08",
   "metadata": {},
   "source": [
    "We are now ready to plot EM field profiles, but how many should we ask for?\n",
    "\n",
    "The $V$-number of this waveguide can be estimated as $V=\\frac{2 \\pi a}{\\lambda} \\sqrt{n_c^2-n_{cl}^2}$:"
   ]
  },
  {
   "cell_type": "code",
   "execution_count": null,
   "id": "64dac048",
   "metadata": {},
   "outputs": [],
   "source": [
    "V=2 *pi/wl_nm * inc_a_x * np.sqrt(np.real(mat_a.refindex_n**2 \n",
    "                                  - mat_bkg.refindex_n**2))\n",
    "print('V={0:.4f}'.format(V))"
   ]
  },
  {
   "cell_type": "markdown",
   "id": "776c021b",
   "metadata": {},
   "source": [
    "We thus expect only a couple of guided modes and to save time and disk space, only ask for the first few to be generated:"
   ]
  },
  {
   "cell_type": "code",
   "execution_count": null,
   "id": "bbaf9e98",
   "metadata": {},
   "outputs": [],
   "source": [
    "prefix = 'tut_15'\n",
    "\n",
    "plotting.plot_mode_fields(sim_EM_pump, EM_AC='EM_E',\n",
    "        xlim_min=0.2, xlim_max=0.2, ylim_min=0.2, ylim_max=0.2,\n",
    "        prefix=prefix, ivals=range(5))\n"
   ]
  },
  {
   "cell_type": "markdown",
   "id": "7697af40",
   "metadata": {},
   "source": [
    "Get a list of the generated files. By sorting the list, the modes will be in order from lowest ($m=0$) to highest."
   ]
  },
  {
   "cell_type": "code",
   "execution_count": null,
   "id": "bc4d8186",
   "metadata": {},
   "outputs": [],
   "source": [
    "emfields = glob.glob(prefix_str+'-fields/EM*.png')\n",
    "emfields.sort()"
   ]
  },
  {
   "cell_type": "markdown",
   "id": "0428dfa5",
   "metadata": {},
   "source": [
    "In Jupyter, we can display images using the `display(Image(filename=f))` construct."
   ]
  },
  {
   "cell_type": "code",
   "execution_count": null,
   "id": "cf9577e2",
   "metadata": {},
   "outputs": [],
   "source": [
    "for f in emfields[0:3]:\n",
    "    print('\\n\\n',f)\n",
    "    display(Image(filename=f))"
   ]
  },
  {
   "cell_type": "markdown",
   "id": "c1b540bb",
   "metadata": {},
   "source": [
    "### Calculate the acoustic modes"
   ]
  },
  {
   "cell_type": "markdown",
   "id": "4d423d2c",
   "metadata": {},
   "source": [
    "Now let's turn to the acoustic modes.\n",
    "\n",
    "For backwards SBS, we set the desired acoustic wavenumber to the difference between the pump and Stokes wavenumbers.\n",
    "        $\\Omega$\n",
    "    We specify a 'shift' frequency as a starting location of the frequency to look for solutions "
   ]
  },
  {
   "cell_type": "code",
   "execution_count": null,
   "id": "1070ebe7",
   "metadata": {},
   "outputs": [],
   "source": [
    "q_AC = np.real(sim_EM_pump.kz_EM(EM_ival_pump) - sim_EM_Stokes.kz_EM(EM_ival_Stokes))\n",
    "\n",
    "NuShift_Hz = 4e9\n",
    "\n",
    "sim_AC = wguide.calc_AC_modes(num_modes_AC, q_AC, EM_sim=sim_EM_pump, shift_Hz=NuShift_Hz)\n"
   ]
  },
  {
   "cell_type": "code",
   "execution_count": null,
   "id": "88967b4a",
   "metadata": {},
   "outputs": [],
   "source": [
    "plotting.plot_mode_fields(sim_AC, prefix=prefix, ivals=range(10))"
   ]
  },
  {
   "cell_type": "code",
   "execution_count": null,
   "id": "0b060405",
   "metadata": {},
   "outputs": [],
   "source": [
    "acfields = glob.glob(prefix+'-fields/AC*.png')\n",
    "acfields.sort()\n"
   ]
  },
  {
   "cell_type": "code",
   "execution_count": null,
   "id": "1becc5af",
   "metadata": {},
   "outputs": [],
   "source": [
    "for f in acfields[0:6]:\n",
    "    print('\\n\\n',f)\n",
    "    display(Image(filename=f))"
   ]
  },
  {
   "cell_type": "code",
   "execution_count": null,
   "id": "490a8884",
   "metadata": {},
   "outputs": [],
   "source": []
  }
 ],
 "metadata": {
  "kernelspec": {
   "display_name": "Python 3 (ipykernel)",
   "language": "python",
   "name": "python3"
  },
  "language_info": {
   "codemirror_mode": {
    "name": "ipython",
    "version": 3
   },
   "file_extension": ".py",
   "mimetype": "text/x-python",
   "name": "python",
   "nbconvert_exporter": "python",
   "pygments_lexer": "ipython3",
   "version": "3.11.4"
  }
 },
 "nbformat": 4,
 "nbformat_minor": 5
}
