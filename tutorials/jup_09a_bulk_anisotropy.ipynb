{
 "cells": [
  {
   "cell_type": "markdown",
   "metadata": {},
   "source": [
    "# Tutorial 9a - Bulk elastic anisotropy"
   ]
  },
  {
   "cell_type": "markdown",
   "metadata": {},
   "source": [
    "Although much of the SBS literature assumes that the elastic materials are isotropic, anisotropy of the elastic response can be an important effect. In general, anisotropy is often more significant in elastic physics than electromagnetic physics, because of the more involved tensor nature of the elastic theory. For instance, *cubic* materials such as silicon have an isotropic linear electromagnetic response but an anisotropic elastic linear response.\n",
    "\n",
    "NumBAT supports arbitrary elastic nonlinearity in calculating elastic modes and the SBS gain of a waveguide. However, even the bulk elastic wave properties of anistropic materials is quite complex. This tutorial explores some of these effects. \n",
    "\n",
    "This exercise is most naturally performed interactively and so this example is written as a Jupyter notebook (see Tutorial 9 for an introduction to NumBAT in Jupyter)."
   ]
  },
  {
   "cell_type": "markdown",
   "metadata": {},
   "source": [
    "## Theory\n",
    "\n",
    "Bulk wave modes in linear elastic materials are found as eigen-solutions of the elastic wave equation for a uniform material.  \n",
    "Starting from the elastic wave equation\n",
    "$$\n",
    "\\nabla \\cdot \\bar{T} + \\omega^2 \\rho(x,y) \\vec U = 0,\n",
    "$$\n",
    "and using the constitutive equation\n",
    "$$\n",
    "\\bar{T} = \\bar{c} : \\bar{S} \\qquad \\leftrightarrow \\qquad T_{ij} = c_{ijkl} S_{kl},\n",
    "$$\n",
    "where $\\bar{c}$ is the stiffness tensor and $\\bar{S}$ the strain tensor, we find\n",
    "\\begin{align*}\n",
    "\\nabla \\cdot (\\bar{c} : \\bar{S}) + \\omega^2 \\rho(x,y) \\vec U &= 0 \\\\\n",
    "\\nabla \\cdot (\\bar{c} : \\nabla_s \\vec{U}) + \\omega^2 \\rho(x,y) \\vec U &= 0 ,\n",
    "\\end{align*}\n",
    "where $\\nabla_S$ denotes the *symmetric gradient*.\n",
    "\n",
    "## Bulk wave modes\n",
    "\n",
    "Looking for plane wave solutions of the form\n",
    "$$\n",
    "  \\vec U =  \\vec u e^{i (\\vec k \\cdot \\vec r -\\Omega t) } +  \\vec u^* e^{-i (\\vec k \\cdot \\vec r -\\Omega t) } ,\n",
    "$$\n",
    "leads to the 3x3 matrix eigenvalue equation (see Auld. vol 1, chapter 7)\n",
    "$$\n",
    "k^2 \\Gamma \\vec u = \\rho \\Omega^2 \\vec u, \n",
    "$$\n",
    "or in index form\n",
    "$$ \n",
    "(k^2 \\Gamma_{ij} - \\rho \\Omega^2 \\delta_{ij} )u_j = 0,\n",
    "$$\n",
    "which is known as the *Christoffel* equation.\n",
    "\n",
    "The 3x3 matrix operator $\\Gamma$ is most conveniently written using the compact Voigt notation as follows. Writing the wavevector $\\vec k= k \\hat \\kappa$ in terms of the unit vector $\\hat \\kappa$, we define the matrix\n",
    "$$\n",
    "\\mathrm{M}=\n",
    "\\begin{bmatrix}\n",
    "\\kappa_x & 0 & 0 & 0 & \\kappa_z & \\kappa_y \\\\\n",
    "0 & \\kappa_y & 0 &  \\kappa_z & 0 & \\kappa_x \\\\\n",
    " 0 & 0 & \\kappa_z & \\kappa_y & \\kappa_x & 0 .\n",
    "\\end{bmatrix}\n",
    "$$\n",
    "Then one can check by direct multiplication that $\\Gamma$ has the form\n",
    "$$\n",
    "\\Gamma(\\vec \\kappa) = \\mathrm{M} C_{IJ} \\mathrm{M}^t,\n",
    "$$\n",
    "where $C_{IJ}$ is the 6x6 Voigt matrix for the stiffness tensor.\n",
    "\n",
    "Since the stiffness is invariably treated as frequency independent, we can rewrite the Christoffel equation as \n",
    "$$ \n",
    "\\left( \\frac{1}{\\rho} \\Gamma_{ij} - \\frac{\\Omega^2}{k^2} \\delta_{ij} \\right) u_j = 0,\n",
    "$$\n",
    "and identify the eigenvalue as the square of the phase speed $v = \\Omega/k$:\n",
    "$$ \n",
    "\\left( \\frac{1}{\\rho} \\Gamma_{ij}(\\vec \\kappa) - v^2 \\delta_{ij} \\right) u_j = 0.\n",
    "$$\n",
    "\n",
    "If we neglect the viscosity, $\\Gamma$ is a real symmetric matrix, so we are guaranteed to find three propagating wave modes with \n",
    "real phase velocities $v_i$ and orthogonal polarisation vectors $\\vec u_i$.\n",
    "\n",
    "\n",
    "In isotropic materials, the Christoffel equation has the expected solutions of one longitudinal wave, and two slower shear waves.\n",
    "In anisotropic materials, the polarisations can be more complicated. However, as $\\Gamma$ is a symmetric matrix, \n",
    "the three wave modes are always orthogonal."
   ]
  },
  {
   "cell_type": "markdown",
   "metadata": {
    "vscode": {
     "languageId": "plaintext"
    }
   },
   "source": [
    "## Group velocity\n",
    "Continuing to neglect any linear wave damping, we can identify the *group velocity*\n",
    "$$\n",
    "\\vec v_g \\equiv \\nabla_{\\vec k}  \\Omega,\n",
    "$$\n",
    "while the *energy velocity* $\\vec v_e$, defined as the ratio of the power flux and the energy density, is\n",
    "$$\n",
    "\\vec v_g \\equiv \\frac{P_e}{u_e}  = \\frac{- \\frac{1}{2}\\vec v \\cdot \\bar {T}}{\\bar{S} : \\bar{C} : \\bar{S}}.\n",
    "$$\n",
    "\n",
    "In this way, we can find both the phase velocity and group velocity as functions of the wavevector direction $\\vec \\kappa$.\n",
    "In the excellent approximation of zero material dispersion, these two velocities are independent of the wave frequency $\\Omega$. This is *not* true in waveguides, where the spatial confinement does lead to signficant dispersion.\n"
   ]
  },
  {
   "cell_type": "markdown",
   "metadata": {
    "vscode": {
     "languageId": "plaintext"
    }
   },
   "source": [
    "## Wave surfaces\n",
    "\n",
    "To understand the directional dependence of the different wave properties, it is common to plot several scalar quantities\n",
    "* the *slowness surface*, which is the reciprocal of the wave speed $\\frac{1}{v_p(\\vec \\kappa)}$\n",
    "* the *normal* or *phase velocity* surface, which is simply the wave speed function $v_p(\\vec \\kappa)$\n",
    "* the *ray surface*, which is the magnitude of the group velocity $|\\vec v_g(\\vec \\kappa)|$\n",
    "\n",
    "Note that while both the phase and group velocities are vectors, since the phase velocity is everywhere parallel to the wavevector direction\n",
    "$\\vec \\kappa$, it is convenient to simply refer to the wave speed $v_p$ written as a scalar. We can't do this with the group velocity, which for anisotropic materials, is not generally parallel to the wavevector."
   ]
  },
  {
   "cell_type": "code",
   "execution_count": null,
   "metadata": {},
   "outputs": [],
   "source": [
    "%load_ext autoreload\n",
    "%autoreload 3\n",
    "\n",
    "import sys\n",
    "import numpy as np\n",
    "from IPython.display import Image, display\n",
    "\n",
    "sys.path.append(\"../backend\")\n",
    "import numbattools\n",
    "import materials"
   ]
  },
  {
   "cell_type": "markdown",
   "metadata": {},
   "source": [
    "## Wave properties of isotropic materials\n",
    "\n",
    "Let's start by calculating the above properties for an isotropic medium, say fused silica.\n",
    "We create the material and print out a few of its basic properties."
   ]
  },
  {
   "cell_type": "code",
   "execution_count": null,
   "metadata": {},
   "outputs": [],
   "source": [
    "mat_a = materials.make_material(\"SiO2_2021_Poulton\")\n",
    "\n",
    "print(mat_a, '\\n')\n",
    "\n",
    "print(mat_a.elastic_properties())\n",
    "\n"
   ]
  },
  {
   "cell_type": "markdown",
   "metadata": {},
   "source": [
    "Observe that this material has a *crystal class* of *Isotropic*, and that its stiffness values satisfy the constraint\n",
    "$c_{44} = (c_{11}-c_{12})/2$ which holds for any isotropic material.  \n",
    "\n",
    "Further, being isotropic, it has a well-defined Young's modulus and Poisson ratio. In fact, for isotropic materials, NumBAT allows the material properties to be specified in terms of those quantities rather than the stiffness values if desired.\n",
    "\n",
    "The longitudinal and shear phase speeds are given for propagation along $z$ with $\\vec \\kappa = (0,0,1)$. Of course for this isotropic material, the phase speeds are actually the same in every direction."
   ]
  },
  {
   "cell_type": "markdown",
   "metadata": {},
   "source": [
    "We can examine the complete material tensors directly and confirm that they have the expected forms for an isotropic material:"
   ]
  },
  {
   "cell_type": "code",
   "execution_count": null,
   "metadata": {},
   "outputs": [],
   "source": [
    "print('\\n\\nStiffness:', mat_a.stiffness_c_IJ)\n",
    "\n",
    "print('\\n\\nPhotoelasticity:', mat_a.photoel_p_IJ)\n"
   ]
  },
  {
   "cell_type": "markdown",
   "metadata": {},
   "source": [
    "## Crystal rotations"
   ]
  },
  {
   "cell_type": "markdown",
   "metadata": {},
   "source": [
    "NumBAT materials support several mechanisms for applying crystal rotations. This allows modelling of waveguides fabricated using different *cuts* of the same material.\n",
    "\n",
    "For an isotropic material, a crystal rotation should have no consequential effect.  Let's check that this holds.\n",
    "\n",
    "The following code creates a copy of the original material, and then rotates its crystal properties by an angle $\\pi/3$ around the direction of the vector $\\vec n=[1.0,1.0,1.0]$ (which need not be normalised) in the positive right-hand sense."
   ]
  },
  {
   "cell_type": "code",
   "execution_count": null,
   "metadata": {
    "scrolled": true
   },
   "outputs": [],
   "source": [
    "mat_b = mat_a.copy()\n",
    "\n",
    "nvec = np.array([1.0,1.0,1.0])\n",
    "phi = np.pi/3.\n",
    "\n",
    "mat_b.rotate(nvec, phi)\n",
    "\n",
    "print(mat_b.elastic_properties())\n",
    "\n",
    "print(mat_b.stiffness_c_IJ)\n",
    "\n",
    "# Measure the difference in the original and rotated stiffness tensors \n",
    "\n",
    "err = np.linalg.norm(mat_b.stiffness_c_IJ.mat - mat_a.stiffness_c_IJ.mat)/np.abs(mat_a.stiffness_c_IJ.mat).max()\n",
    "print(f'\\n\\n Relative change in stiffness tensor: {err:.4e}')"
   ]
  },
  {
   "cell_type": "markdown",
   "metadata": {},
   "source": [
    "We can see that all the properties are unchanged to numerical precision."
   ]
  },
  {
   "cell_type": "markdown",
   "metadata": {},
   "source": [
    "### Crystal orientation diagram\n",
    "However, not *everything* is identical in NumBAT's representations of the original and rotated material, even though the two materials are physically the same .\n",
    "\n",
    "NumBAT materials include internal *crystal axes* $\\{\\hat{c}_x, \\hat{c}_y, \\hat{c}_z\\}$ that are distinct from the waveguide (laboratory) axes $\\{\\hat{x}, \\hat{y}, \\hat{z}\\}$.  In NumBAT calculations, the waveguide cross-section lies in the $\\hat{x}-\\hat{y}$ lab plane and the propagation direction is always along $\\hat{z}$. To ensure a right-handed coordinate set, $\\hat{z}$ should be viewed as pointing *out* of the screen. (It's not often that we need to worry about the distinction between propagation in or out of the screen, but it does play a role in determining the correct relative signs of the different field components).\n",
    "\n",
    "The crystal axes define the intrinsic directions for specifying the material stiffness, photoelastic and viscosity tensors.\n",
    "When a material is first loaded from its `json` file, the two sets of axes coincide, so that the Voigt indices $1..6$ correspond to the pairs $xx$, $yy$, $zz$, $xz$, $yz$, $xy$.\n",
    "When a rotation is performed, it is the *crystal* axes that change, so that the anisotropic material properties are \"dragged through\" the stationary waveguide structure. \n",
    "This can be quite confusing. \n",
    "\n",
    "To help ensure the correct orientation is selected, both sets of axes can be plotted together using the `Material.make_crystal_axes_plot` as follows:"
   ]
  },
  {
   "cell_type": "code",
   "execution_count": null,
   "metadata": {},
   "outputs": [],
   "source": [
    "prefa = 'tmp_mata'\n",
    "prefb = 'tmp_matb'\n",
    "\n",
    "mat_a.make_crystal_axes_plot(prefa)\n",
    "mat_b.make_crystal_axes_plot(prefb)\n",
    "\n",
    "display(Image(prefa+'-crystal.png', width=300))\n",
    "\n",
    "display(Image(prefb+'-crystal.png', width=300))\n"
   ]
  },
  {
   "cell_type": "markdown",
   "metadata": {},
   "source": [
    "Observe that the crystal axes for the first material are in the default orientation aligned with the laboratory axes. The crystal axes for the second material have been rotated as described above. \n",
    "The blue box gives a sense of the orientation of the waveguide with propagation out of the screen along $\\vec k \\propto \\hat{z}$."
   ]
  },
  {
   "cell_type": "markdown",
   "metadata": {},
   "source": [
    "## Anistropic materials\n",
    "\n",
    "We now turn to anisotropic materials and consider GaAs which is a cubic material.\n",
    "\n"
   ]
  },
  {
   "cell_type": "code",
   "execution_count": null,
   "metadata": {},
   "outputs": [],
   "source": [
    "mat_gaas = materials.make_material(\"GaAs_1970_Auld\")\n",
    "\n",
    "print(mat_gaas, '\\n')\n",
    "\n",
    "print(mat_gaas.elastic_properties())"
   ]
  },
  {
   "cell_type": "markdown",
   "metadata": {},
   "source": [
    "With the default orientation, the separation into longitudinal and shear modes is simple, and the phase and group velocities for each mode are the same. As expected the longitudinal mode is oriented along $z$ and the degenerate shear modes like in the $x$-$y$ plane.\n",
    "\n",
    "Things get more interesting if we start rotating the crystal. \n",
    "\n",
    "First, let's make a $\\pi/2$ rotation around the $y$ axis:\n"
   ]
  },
  {
   "cell_type": "code",
   "execution_count": null,
   "metadata": {},
   "outputs": [],
   "source": [
    "nvec = np.array([0.0,1.0,0.0])\n",
    "phi = np.pi/2.\n",
    "\n",
    "mat_gaas2= mat_gaas.copy()\n",
    "\n",
    "mat_gaas2.rotate(nvec, phi)\n",
    "\n",
    "print(mat_gaas2.elastic_properties())"
   ]
  },
  {
   "cell_type": "markdown",
   "metadata": {},
   "source": [
    "Nothing changes! Since the crystal symmetry is cubic, this rotation has left the material unchanged and all the wave properties are the same.\n",
    "\n",
    "Now let's try a $\\pi/4$ rotation around the $y$ axis:"
   ]
  },
  {
   "cell_type": "code",
   "execution_count": null,
   "metadata": {},
   "outputs": [],
   "source": [
    "nvec = np.array([0.0,1.0,0.0])\n",
    "phi = np.pi/4.\n",
    "\n",
    "mat_gaas2= mat_gaas.copy()\n",
    "\n",
    "mat_gaas2.rotate(nvec, phi)\n",
    "\n",
    "print(mat_gaas2.elastic_properties())"
   ]
  },
  {
   "cell_type": "markdown",
   "metadata": {},
   "source": [
    "Observe that the polarisation states indicated by the components of the $\\vec u$ vectors are unchanged: there is a  longitudinal mode oriented along $z$ and two shear modes with vibrations in the $x$-y$y$ plane. But the shear modes are no longer degenerate: they have different phase and group speeds."
   ]
  },
  {
   "cell_type": "markdown",
   "metadata": {},
   "source": [
    "Things get really interesting if we apply a rotation that is not commenusare with the crytal symmetries: a positive $\\pi/3$ rotation around the $[1,1,1]$ direction:"
   ]
  },
  {
   "cell_type": "code",
   "execution_count": null,
   "metadata": {},
   "outputs": [],
   "source": [
    "nvec = np.array([1.0,1.0,1.0])\n",
    "phi = np.pi/3.\n",
    "\n",
    "mat_gaas2= mat_gaas.copy()\n",
    "\n",
    "mat_gaas2.rotate(nvec, phi)\n",
    "\n",
    "print(mat_gaas2.elastic_properties())"
   ]
  },
  {
   "cell_type": "markdown",
   "metadata": {},
   "source": [
    "Now the phase and group velocities are different and the states are hybrid modes with polarisation vectors pointing along irregular directions. Nevertheless, the first mode is close to longitudinal, the second mode is close to shear, and the third is pure shear."
   ]
  },
  {
   "cell_type": "markdown",
   "metadata": {},
   "source": [
    "### Dispersion diagrams### \n",
    "We can obtain a much fuller picture by plotting several bulk dispersion properties as a function of the wavevector in 2D and 3D:"
   ]
  },
  {
   "cell_type": "code",
   "execution_count": null,
   "metadata": {},
   "outputs": [],
   "source": [
    "prefix = 'tmpgaas'\n",
    "\n",
    "mat_gaas.plot_bulk_dispersion(prefix)\n",
    "\n",
    "display(Image(prefix+'-bulkdisp.png'))"
   ]
  },
  {
   "cell_type": "markdown",
   "metadata": {},
   "source": [
    "These plots respectively show contours of the *slowness* surface $1/v_p(\\vec \\kappa)$  (top-left), the *phase velocity* surface (top-right), the *ray* or group velocity surface (bottom-left) and the full 3D slowness surface (bottom-right).\n",
    "\n",
    "The colours in the first three plots correspond to the component of each wave mode's elastic polarisation along the propagation direction, ie $r=\\hat{\\kappa} \\cdot \\hat{u} = \\hat{z} \\cdot \\hat{u}$. The lines and dots also indicate the polarisation states. It is apparent that the pink coloured mode is close to longitudinal and the blue modes are close to transverse (shear). It turns out that for a given wavevector, the group velocity is *normal* to the slowness surface. Tracing around the outer curve quasi-shear mode in the first plot can help to understand the cusps in the corresponding curve of the group velocity plot.\n",
    "\n",
    "These plots are always shown in the $x-z$ plane. To see other cuts, we can rotate the crystal. Here is the case for the material that we rotated previously:"
   ]
  },
  {
   "cell_type": "code",
   "execution_count": null,
   "metadata": {},
   "outputs": [],
   "source": [
    "prefix = 'tmpgaas2'\n",
    "\n",
    "\n",
    "mat_gaas2.plot_bulk_dispersion(prefix)\n",
    "\n",
    "display(Image(prefix+'-bulkdisp.png'))"
   ]
  },
  {
   "cell_type": "markdown",
   "metadata": {},
   "source": [
    "## Special crystal orientations"
   ]
  },
  {
   "cell_type": "markdown",
   "metadata": {},
   "source": [
    "Rotations can be specified in several ways.\n",
    "\n",
    "As well as the angle and unit vector, the coordinate axes can be named directly, and rotation calls can be made successively\n",
    "to apply sequences of rotations:"
   ]
  },
  {
   "cell_type": "code",
   "execution_count": null,
   "metadata": {},
   "outputs": [],
   "source": [
    "mat_3 = mat_a.copy()\n",
    "\n",
    "mat_3.rotate('x-axis', np.pi/4)        # Apply a positive pi/4 rotation around the lab x axis\n",
    "mat_3.rotate('z', np.pi/5)             # Now apply a positive pi/5 rotation around the lab z axis\n",
    "mat_3.rotate('x-axis', -4*np.pi/3)     # Now apply a negative -4pi/3 rotation around the lab x axis\n",
    "\n",
    "pref='tmp3'\n",
    "mat_3.make_crystal_axes_plot(pref)\n",
    "\n",
    "display(Image(pref+'-crystal.png', width=300))"
   ]
  },
  {
   "cell_type": "markdown",
   "metadata": {},
   "source": [
    "To return to the starting configuration, use `reset_orientation()` (or just make a new material from scratch)."
   ]
  },
  {
   "cell_type": "code",
   "execution_count": null,
   "metadata": {},
   "outputs": [],
   "source": [
    "mat_3.reset_orientation()\n",
    "mat_3.make_crystal_axes_plot(pref)\n",
    "\n",
    "display(Image(pref+'-crystal.png', width=300))"
   ]
  },
  {
   "cell_type": "markdown",
   "metadata": {},
   "source": [
    "Some materials define special directions which are commonly desired. For example, a number of materials like lithium niobate can be obtained in *x-cut*, *y-cut* or *z-cut* varieties.\n",
    "\n",
    "The appropriate orientations can be applied using the above commands, but it is also possible to define specific rotations in the `.json` file.\n",
    "\n",
    "For lithium niobate, which has trigonal symmetry, the default orientation is *x-cut*, with the optical symmetry axis $\\hat{c}_z$ pointing along the $\\hat{z}$ direction.\n",
    "Selecting the *z-cut* orientation moves the $\\hat{c}_z$ axis to point along $-\\hat{y}$ by applying a $\\pi/2$ rotation around the positive $\\hat{x}$ axis:\n"
   ]
  },
  {
   "cell_type": "code",
   "execution_count": null,
   "metadata": {},
   "outputs": [],
   "source": [
    "mat_LiNb_x = materials.make_material('LiNbO3aniso_2021_Steel')\n",
    "pref='tmp_linb'\n",
    "\n",
    "mat_LiNb_x.make_crystal_axes_plot(pref+'-xcut')\n",
    "display(Image(pref+'-xcut-crystal.png', width=300))\n",
    "\n",
    "\n",
    "mat_LiNb_z = mat_LiNb_x.copy()\n",
    "mat_LiNb_z.set_orientation('z-cut') \n",
    "\n",
    "mat_LiNb_z.make_crystal_axes_plot(pref+'-zcut')\n",
    "display(Image(pref+'-zcut-crystal.png', width=300))\n",
    "\n"
   ]
  },
  {
   "cell_type": "markdown",
   "metadata": {},
   "source": [
    "This difference is reflected in the bulk dispersion properties of the two cases. The 3D plots are identical, but the projections in the $x$-$z$ plane are different. The $z$-cut case shows the full 6-fold symmetry of the hexagonal crystal. The orientation of the $x$-cut case leads to a 4-fold symmetry for propagation in the $x$-$z$ plane."
   ]
  },
  {
   "cell_type": "code",
   "execution_count": null,
   "metadata": {},
   "outputs": [],
   "source": [
    "\n",
    "mat_LiNb_x.plot_bulk_dispersion(pref+'-xcut', label='LiNbO3 x-cut')\n",
    "\n",
    "mat_LiNb_z.plot_bulk_dispersion(pref+'-zcut', label='LiNbO3 z-cut')\n"
   ]
  },
  {
   "cell_type": "markdown",
   "metadata": {},
   "source": [
    "## Bulk dispersion and core-cladding guidance"
   ]
  },
  {
   "cell_type": "markdown",
   "metadata": {},
   "source": [
    "A useful application of the bulk dispersion curves is as a tool to predict the guidance properties of two media by comparing their slowness curves.\n",
    "\n",
    "Consider the first non-fibre conventional waveguide to show SBS: a chalcogenide ($\\mathrm{As}_2\\mathrm{S}_3$) strip waveguide on a silica substrate. \n",
    "\n"
   ]
  },
  {
   "cell_type": "code",
   "execution_count": null,
   "metadata": {},
   "outputs": [],
   "source": [
    "mat_SiO2 = materials.make_material('SiO2_2021_Poulton')\n",
    "mat_As2S3 = materials.make_material('As2S3_2021_Poulton')\n",
    "\n",
    "print(mat_SiO2.elastic_properties(), '\\n\\n')\n",
    "\n",
    "print(mat_As2S3.elastic_properties())"
   ]
  },
  {
   "cell_type": "markdown",
   "metadata": {},
   "source": [
    "Noting that the chalcogenide refractive index is higher, we are motivated by optical guidance to use it as the core material.\n",
    "\n",
    "We then note that both the elastic wave velocities for the chalcogenide are lower than the shear velocity for the silica. Consequently, we can expect\n",
    "the chalcogenide to form a suitable elastic cladding, which is indeed the case and explains why this system successfully showed SBS in 2012.\n",
    "\n",
    "For isotropic materials, this is sufficient investigation, but we can confirm the result by comparing the slowness curves for both materials on one plot:"
   ]
  },
  {
   "cell_type": "code",
   "execution_count": null,
   "metadata": {},
   "outputs": [],
   "source": [
    "materials.compare_bulk_dispersion(mat_SiO2, mat_As2S3, 'comp_sio2_as2s3')"
   ]
  },
  {
   "cell_type": "markdown",
   "metadata": {},
   "source": [
    "The slowness curves for silica are shown in red/orange, those for the chalcogenide are shown in blue and magenta. Since the latter are entirely contained in the former, the chalcogenide is an elastically slow material and forms an ideal cladding."
   ]
  },
  {
   "cell_type": "markdown",
   "metadata": {},
   "source": [
    "Now consider the silicon/silica or SOI system."
   ]
  },
  {
   "cell_type": "code",
   "execution_count": null,
   "metadata": {},
   "outputs": [],
   "source": [
    "mat_SiO2 = materials.make_material('SiO2_2021_Poulton')\n",
    "mat_Si = materials.make_material('Si_1970_Auld')\n",
    "\n",
    "print(mat_SiO2.elastic_properties(), '\\n\\n')\n",
    "\n",
    "print(mat_Si.elastic_properties())"
   ]
  },
  {
   "cell_type": "code",
   "execution_count": null,
   "metadata": {},
   "outputs": [],
   "source": [
    "materials.compare_bulk_dispersion(mat_SiO2, mat_Si, 'comp_sio2_si')"
   ]
  },
  {
   "cell_type": "markdown",
   "metadata": {},
   "source": [
    "Here we see that the slowness curves are interleaved but both families of waves are slower in silica than their corresponding modes in silicon. Consequently, we can't guide both sound and light in a conventional SOI waveguide, and all SBS demonstrations in this class of platform have involved special techniques such as undercut waveguides or pillar structures."
   ]
  },
  {
   "cell_type": "markdown",
   "metadata": {},
   "source": [
    "A similar case arises with lithium niobate and silica (and a number of other potential substrates). Lithium niobate and silica form an excellent core-cladding combination for light guidance but the elastic wave situation is as follows:"
   ]
  },
  {
   "cell_type": "code",
   "execution_count": null,
   "metadata": {},
   "outputs": [],
   "source": [
    "\n",
    "materials.compare_bulk_dispersion(mat_SiO2, mat_LiNb_x, 'comp_sio2_linb_x')\n",
    "\n",
    "materials.compare_bulk_dispersion(mat_SiO2, mat_LiNb_z, 'comp_sio2_linb_z')"
   ]
  },
  {
   "cell_type": "markdown",
   "metadata": {},
   "source": [
    "This material combination fails for both common crystal orientations.\n",
    "\n",
    "However, as several groups have realised, while these elastic properties forbid total internal reflection elastic guidance\n",
    "in a conventional waveguide, and it does not forbid efficient elastic guidance as a Rayleigh-like surface mode."
   ]
  }
 ],
 "metadata": {
  "kernelspec": {
   "display_name": "Python 3 (ipykernel)",
   "language": "python",
   "name": "python3"
  },
  "language_info": {
   "codemirror_mode": {
    "name": "ipython",
    "version": 3
   },
   "file_extension": ".py",
   "mimetype": "text/x-python",
   "name": "python",
   "nbconvert_exporter": "python",
   "pygments_lexer": "ipython3",
   "version": "3.12.3"
  }
 },
 "nbformat": 4,
 "nbformat_minor": 2
}
