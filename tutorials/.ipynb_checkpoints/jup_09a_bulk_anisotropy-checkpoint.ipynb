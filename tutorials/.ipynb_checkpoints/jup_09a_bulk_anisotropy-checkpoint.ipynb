{
 "cells": [
  {
   "cell_type": "markdown",
   "metadata": {},
   "source": [
    "# Tutorial 9a - Bulk elastic anisotropy"
   ]
  },
  {
   "cell_type": "markdown",
   "metadata": {},
   "source": [
    "Although much of the SBS literature assumes that the elastic materials are isotropic, anisotropy of the elastic response can be an important effect. In general, anisotropy is often more significant in elastic physics than electromagnetic physics, because of the more involved tensor nature of the elastic theory. For instance, *cubic* materials such as silicon have an isotropic linear electromagnetic response but an anisotropic elastic linear response.\n",
    "\n",
    "NumBAT supports arbitrary elastic nonlinearity in calculating elastic modes and the SBS gain of a waveguide. However, even the bulk elastic wave properties of anistropic materials is quite complex. This tutorial explores some of these effects. \n",
    "\n",
    "This exercise is most naturally performed interactively and so this example is written as a Jupyter notebook (see Tutorial 9 for an introduction to NumBAT in Jupyter)."
   ]
  },
  {
   "cell_type": "markdown",
   "metadata": {},
   "source": [
    "## Theory\n",
    "\n",
    "Bulk wave modes in linear elastic materials are found as eigen-solutions of the elastic wave equation for a uniform material.  \n",
    "Starting from the elastic wave equation\n",
    "$$\n",
    "\\nabla \\cdot \\bar{T} + \\omega^2 \\rho(x,y) \\vec U = 0,\n",
    "$$\n",
    "using the constitutive equation\n",
    "$$\n",
    "\\bar{T} = \\bar{c} : \\bar{S} \\qquad \\leftrightarrow \\qquad T_{ij} = c_{ijkl} S_{kl},\n",
    "$$\n",
    "where $\\bar{c}$ is the stiffness tensor and $\\bar{S}$ the strain tensor, we find\n",
    "\\begin{align*}\n",
    "\\nabla \\cdot (\\bar{c} : \\bar{S}) + \\omega^2 \\rho(x,y) \\vec U &= 0 \\\\\n",
    "\\nabla \\cdot (\\bar{c} : \\nabla_s \\vec{U}) + \\omega^2 \\rho(x,y) \\vec U &= 0 ,\n",
    "\\end{align*}\n",
    "where $\\nabla_S$ denotes the *symmetric gradient*.\n",
    "\n",
    "## Bulk wave modes\n",
    "\n",
    "Looking for plane wave solutions of the form\n",
    "$$\n",
    "  \\vec U =  \\vec u e^{i (\\vec q \\cdot \\vec r -\\Omega t) } +  \\vec u^* e^{-i (\\vec q \\cdot \\vec r -\\Omega t) } ,\n",
    "$$\n",
    "leads to the 3x3 matrix eigenvalue equation (see Auld. vol 1, chapter 7)\n",
    "$$\n",
    "k^2 \\Gamma \\vec u = \\rho \\Omega^2 \\vec u \n",
    "$$\n",
    "or in index form\n",
    "$$ \n",
    "k^2 \\Gamma_{ij} - \\rho \\Omega^2 \\delta_{ij} u_j = 0.\n",
    "$$\n",
    "known as the *Christoffel* equation.\n",
    "\n",
    "The matrix operator $\\Gamma$ is most conveniently written using the compact Voigt notation as follows. Writing the wavevector $\\vec k= k \\hat \\kappa$ in terms of the unit vector $\\hat \\kappa$, we define the matrix\n",
    "$$\n",
    "\\mathrm{M}=\n",
    "\\begin{bmatrix}\n",
    "\\kappa_x & 0 & 0 & 0 & \\kappa_z & \\kappa_y \\\\\n",
    "0 & \\kappa_y & 0 &  \\kappa_z & 0 & \\kappa_x \\\\\n",
    " 0 & 0 & \\kappa_z & \\kappa_y & \\kappa_x & 0 .\n",
    "\\end{bmatrix}\n",
    "$$\n",
    "Then $\\Gamma$ has the form\n",
    "$$\n",
    "\\Gamma(\\vec \\kappa) = \\mathrm{M} C_{IJ} \\mathrm{M}^t,\n",
    "$$\n",
    "where $C_{IJ}$ is the 6x6 Voigt matrix for the stiffness tensor.\n",
    "\n",
    "Since the stiffness is invariably treated as frequency independent, we can rewrite the Christoffel equation as \n",
    "$$ \n",
    "\\left( \\frac{1}{\\rho} \\Gamma_{ij} - \\frac{\\Omega^2}{k^2} \\delta_{ij} \\right) u_j = 0,\n",
    "$$\n",
    "and identify the eigenvalue as the square of the phase speed $v = \\Omega/k$:\n",
    "$$ \n",
    "\\left( \\frac{1}{\\rho} \\Gamma_{ij}(\\vec \\kappa) - v^2 \\delta_{ij} \\right) u_j = 0.\n",
    "$$\n",
    "\n",
    "If we neglect the viscosity, $\\Gamma$ is a real symmetric matrix, so we are guaranteed to find three propagating wave modes with \n",
    "real phase velocities $v_i$ and orthogonal polarisation vectors $\\vec u_i$.\n",
    "\n",
    "\n",
    "In isotropic materials, the Christoffel equation has the expected solutions of one longitudinal wave, and two slower shear waves.\n",
    "In anisotropic materials, the polarisations can be more complicated. However, as $\\Gamma$ is a symmetric matrix, \n",
    "the three wave modes are always orthogonal."
   ]
  },
  {
   "cell_type": "markdown",
   "metadata": {
    "vscode": {
     "languageId": "plaintext"
    }
   },
   "source": [
    "## Group velocity\n",
    "Continuing to neglect any linear wave damping, we can identify the *group velocity*\n",
    "$$\n",
    "\\vec v_g \\equiv \\nabla_{\\vec k}  \\Omega,\n",
    "$$\n",
    "with the *energy velocity* $\\vec v_e$, defined as the ratio of the power flux and the energy density:\n",
    "$$\n",
    "\\vec v_g \\equiv \\frac{P_e}{u_e}  = \\frac{- \\frac{1}{2}\\vec v \\cdot \\bar {T}}{\\bar{S} : \\bar{C} : \\bar{S}}.\n",
    "$$\n",
    "\n",
    "In this way, we can find both the phase velocity and group velocity as functions of the wavevector direction $\\vec \\kappa$.\n",
    "In the (excellent) dispersionless approximation, these are independent of the wave frequency $\\Omega$. (This of course is *not* true in waveguides.)\n"
   ]
  },
  {
   "cell_type": "markdown",
   "metadata": {
    "vscode": {
     "languageId": "plaintext"
    }
   },
   "source": [
    "## Wave surfaces\n",
    "\n",
    "It is common to plot several quantities\n",
    "* the *slowness surface*, which is the reciprocal of the wave speed $\\frac{1}{v_p(\\vec \\kappa)}$\n",
    "* the *normal* or *phase velocity* surface, which is simply the wave speed function $v_p(\\vec \\kappa)$\n",
    "* the *ray surface*, which is the magnitude of the group velocity $|\\vec v_g(\\vec \\kappa)|$\n",
    "\n",
    "Note that while both the phase and group velocities are vectors, since the phase velocity is everywhere parallel to the wavevector direction\n",
    "$\\vec \\kappa$, it is convenient to simply refer to the wave speed $v_p$ written as a scalar."
   ]
  },
  {
   "cell_type": "code",
   "execution_count": 12,
   "metadata": {},
   "outputs": [
    {
     "name": "stdout",
     "output_type": "stream",
     "text": [
      "The autoreload extension is already loaded. To reload it, use:\n",
      "  %reload_ext autoreload\n"
     ]
    }
   ],
   "source": [
    "%load_ext autoreload\n",
    "%autoreload 3\n",
    "\n",
    "import sys\n",
    "import numpy as np\n",
    "from IPython.display import Image, display\n",
    "\n",
    "sys.path.append(\"../backend\")\n",
    "#import numbat\n",
    "import materials"
   ]
  },
  {
   "cell_type": "markdown",
   "metadata": {},
   "source": [
    "## Wave properties of isotropic materials\n",
    "\n",
    "Let's start by calculating the above properties for an isotropic medium, say fused silica.\n",
    "We create the material and print out a few of its basic properties."
   ]
  },
  {
   "cell_type": "code",
   "execution_count": 20,
   "metadata": {},
   "outputs": [
    {
     "name": "stdout",
     "output_type": "stream",
     "text": [
      "Material: SiO2\n",
      "  File: SiO2_2021_Poulton\n",
      "  Source: Poulton\n",
      "  Date: 2021 \n",
      "\n",
      "Elastic properties of material SiO2_2021_Poulton\n",
      "  Density:        2200.000 kg/m^3\n",
      "  Ref. index:     1.4500+0.0000j \n",
      "  Crystal class:  Isotropic\n",
      "  c11:            78.500 GPa\n",
      "  c12:            16.100 GPa\n",
      "  c44:            31.200 GPa\n",
      "  Young's mod E:  73.020 GPa\n",
      "  Poisson ratio:  0.170\n",
      "  Velocity long.: 5973.426 m/s\n",
      "  Velocity shear: 3765.875 m/s\n"
     ]
    }
   ],
   "source": [
    "mat_a = materials.make_material(\"SiO2_2021_Poulton\")\n",
    "\n",
    "print(mat_a, '\\n')\n",
    "\n",
    "print(mat_a.elastic_properties())\n",
    "\n"
   ]
  },
  {
   "cell_type": "markdown",
   "metadata": {},
   "source": [
    "Observe that this material has a *crystal class* of *Isotropic*, and that its stiffness values satisfy the constraint\n",
    "$c_{44} = (c_{11}-c_{12})/2$ which holds for any isotropic material.  \n",
    "\n",
    "Further, being isotropic, it has a well-defined Young's modulus and Poisson ratio. In fact, for isotropic materials, NumBAT allows the material properties to be specified in terms of those quantities rather than the stiffness values if desired.\n",
    "\n",
    "The longitudinal and shear phase speeds are given for propagation along $z$ with $\\vec \\kappa = (0,0,1)$. Of course for this material, the values are the same in every direction."
   ]
  },
  {
   "cell_type": "markdown",
   "metadata": {},
   "source": [
    "We can examine the complete material tensors directly:"
   ]
  },
  {
   "cell_type": "code",
   "execution_count": 21,
   "metadata": {},
   "outputs": [
    {
     "name": "stdout",
     "output_type": "stream",
     "text": [
      "\n",
      "\n",
      "Stiffness: \n",
      "Voigt tensor SiO2_2021_Poulton, stiffness c, unit: GPa. \n",
      "[[78.5 16.1 16.1  0.   0.   0. ]\n",
      " [16.1 78.5 16.1  0.   0.   0. ]\n",
      " [16.1 16.1 78.5  0.   0.   0. ]\n",
      " [ 0.   0.   0.  31.2  0.   0. ]\n",
      " [ 0.   0.   0.   0.  31.2  0. ]\n",
      " [ 0.   0.   0.   0.   0.  31.2]]\n",
      "\n",
      "\n",
      "Photoelasticity: \n",
      "Voigt tensor SiO2_2021_Poulton, photoelasticity p.\n",
      "[[ 0.121  0.271  0.271  0.     0.     0.   ]\n",
      " [ 0.271  0.121  0.271  0.     0.     0.   ]\n",
      " [ 0.271  0.271  0.121  0.     0.     0.   ]\n",
      " [ 0.     0.     0.    -0.075  0.     0.   ]\n",
      " [ 0.     0.     0.     0.    -0.075  0.   ]\n",
      " [ 0.     0.     0.     0.     0.    -0.075]]\n"
     ]
    }
   ],
   "source": [
    "print('\\n\\nStiffness:', mat_a.c_tensor)\n",
    "\n",
    "print('\\n\\nPhotoelasticity:', mat_a.p_tensor)\n"
   ]
  },
  {
   "cell_type": "markdown",
   "metadata": {},
   "source": [
    "## Crystal rotations"
   ]
  },
  {
   "cell_type": "markdown",
   "metadata": {},
   "source": [
    "NumBAT materials support several mechanisms for applying crystal rotations. This allows modelling of waveguides using different *cuts* of the same material.\n",
    "\n",
    "For an isotropic material, a crystal rotation should have no consequential effect.  Let's check that this holds.\n",
    "\n",
    "The following code creates a copy of the original material, and then rotates its crystal properties by an angle $\\pi/3$ around the direction of the vector $\\vec n=[1.0,1.0,1.0]$ (which need not be normalised) in the positive right-hand sense."
   ]
  },
  {
   "cell_type": "code",
   "execution_count": 22,
   "metadata": {
    "scrolled": true
   },
   "outputs": [
    {
     "name": "stderr",
     "output_type": "stream",
     "text": [
      "\n",
      "Fatal error: \n",
      " Can't convert 1.0471975511965976 to a 3-element unit vector.\n",
      "\n",
      "\n"
     ]
    },
    {
     "ename": "SystemExit",
     "evalue": "1",
     "output_type": "error",
     "traceback": [
      "An exception has occurred, use %tb to see the full traceback.\n",
      "\u001b[0;31mSystemExit\u001b[0m\u001b[0;31m:\u001b[0m 1\n"
     ]
    }
   ],
   "source": [
    "mat_b = mat_a.copy()\n",
    "\n",
    "nvec = np.array([1.0,1.0,1.0])\n",
    "phi = np.pi/3.\n",
    "\n",
    "mat_b.rotate(nvec, phi)\n",
    "\n",
    "print(mat_b.elastic_properties())\n",
    "\n",
    "print(mat_b.c_tensor)\n",
    "\n",
    "err = np.linalg.norm(mat_b.c_tensor.mat - mat_a.c_tensor.mat)/np.abs(mat_a.c_tensor.mat).max()\n",
    "print(f'\\n\\n Relative change in stiffness tensor: {err:.4e}')"
   ]
  },
  {
   "cell_type": "markdown",
   "metadata": {},
   "source": [
    "We can see that all the properties are unchanged to numerical precision."
   ]
  },
  {
   "cell_type": "markdown",
   "metadata": {},
   "source": [
    "### Crystal orientation diagram\n",
    "However, not *everything* is identical.\n",
    "\n",
    "NumBAT materials include internal *crystal axes* $\\{\\hat{c}_x, \\hat{c}_y, \\hat{c}_z\\}$ that are distinct from the waveguide (laboratory) axes $\\{\\hat{x}, \\hat{y}, \\hat{z}\\}$.  In NumBAT calculations, the waveguide cross-section lies in the $\\hat{x}-\\hat{y}$ plane and the propagation direction is always along $\\hat{z}$. To ensure a right-handed coordinate set, $\\hat{z}$ should be viewed as pointing out of the screen. \n",
    "\n",
    "The crystal axes define the intrinsic directions for specifying the material stiffness, photoelastic and viscosity tensors.\n",
    "When a material is first loaded from its `json` file, the two sets of axes coincide, so that the Voigt indices $1..6$ correspond to the pairs $xx$, $yy$, $zz$, $xz$, $yz$, $xy$.\n",
    "When a rotation is performed, it is the crystal axes that change, so that the anisotropic material properties are \"dragged through\" the stationary waveguide structure. \n",
    "This can be quite confusing. \n",
    "\n",
    "To help ensure the correct orientation is selected, both sets of axes can be plotted together using the `Material.make_crystal_axes_plot` as follows:"
   ]
  },
  {
   "cell_type": "code",
   "execution_count": null,
   "metadata": {},
   "outputs": [],
   "source": [
    "prefa = 'tmp_mata'\n",
    "prefb = 'tmp_matb'\n",
    "\n",
    "mat_a.make_crystal_axes_plot(prefa)\n",
    "mat_b.make_crystal_axes_plot(prefb)\n",
    "\n",
    "display(Image(prefa+'-crystal.png', width=300))\n",
    "\n",
    "display(Image(prefb+'-crystal.png', width=300))\n"
   ]
  },
  {
   "cell_type": "markdown",
   "metadata": {},
   "source": [
    "Observe that the crystal axes for the first material are in the default orientation aligned with the laboratory axes. The crystal axes for the second material have been rotated as described above. \n",
    "The blue box gives a sense of the orientation of the waveguide with propagation out of the screen along $\\vec k \\propto \\hat{z}$."
   ]
  },
  {
   "cell_type": "markdown",
   "metadata": {},
   "source": [
    "## Anistropic materials\n",
    "\n",
    "We now turn to anisotropic materials and consider GaAs which is a cubic material.\n",
    "\n"
   ]
  },
  {
   "cell_type": "code",
   "execution_count": null,
   "metadata": {},
   "outputs": [],
   "source": [
    "mat_gaas = materials.make_material(\"GaAs_1970_Auld\")\n",
    "\n",
    "print(mat_gaas, '\\n')\n",
    "\n",
    "print(mat_gaas.elastic_properties())"
   ]
  },
  {
   "cell_type": "markdown",
   "metadata": {},
   "source": [
    "With the default orientation, the separation into longitudinal and shear modes is simple, and the phase and group velocities are identical.\n",
    "\n",
    "Things change if we rotate the crystal:"
   ]
  },
  {
   "cell_type": "code",
   "execution_count": 19,
   "metadata": {},
   "outputs": [
    {
     "ename": "NameError",
     "evalue": "name 'mat_gaas' is not defined",
     "output_type": "error",
     "traceback": [
      "\u001b[0;31m---------------------------------------------------------------------------\u001b[0m",
      "\u001b[0;31mNameError\u001b[0m                                 Traceback (most recent call last)",
      "Cell \u001b[0;32mIn[19], line 4\u001b[0m\n\u001b[1;32m      1\u001b[0m nvec \u001b[38;5;241m=\u001b[39m np\u001b[38;5;241m.\u001b[39marray([\u001b[38;5;241m1.0\u001b[39m,\u001b[38;5;241m1.0\u001b[39m,\u001b[38;5;241m1.0\u001b[39m])\n\u001b[1;32m      2\u001b[0m phi \u001b[38;5;241m=\u001b[39m np\u001b[38;5;241m.\u001b[39mpi\u001b[38;5;241m/\u001b[39m\u001b[38;5;241m3.\u001b[39m\n\u001b[0;32m----> 4\u001b[0m mat_gaas2\u001b[38;5;241m=\u001b[39m \u001b[43mmat_gaas\u001b[49m\u001b[38;5;241m.\u001b[39mcopy()\n\u001b[1;32m      6\u001b[0m mat_gaas2\u001b[38;5;241m.\u001b[39mrotate(nvec, phi)\n\u001b[1;32m      8\u001b[0m \u001b[38;5;28mprint\u001b[39m(mat_gaas2\u001b[38;5;241m.\u001b[39melastic_properties())\n",
      "\u001b[0;31mNameError\u001b[0m: name 'mat_gaas' is not defined"
     ]
    }
   ],
   "source": [
    "nvec = np.array([1.0,1.0,1.0])\n",
    "phi = np.pi/3.\n",
    "\n",
    "mat_gaas2= mat_gaas.copy()\n",
    "\n",
    "mat_gaas2.rotate(nvec, phi)\n",
    "\n",
    "print(mat_gaas2.elastic_properties())"
   ]
  },
  {
   "cell_type": "markdown",
   "metadata": {},
   "source": [
    "Now the phase and group velocities are different and the polarisation vectors point along irregular directions."
   ]
  },
  {
   "cell_type": "markdown",
   "metadata": {},
   "source": [
    "We can obtain a much fuller picture by plotting several bulk dispersion properties:"
   ]
  },
  {
   "cell_type": "code",
   "execution_count": null,
   "metadata": {},
   "outputs": [],
   "source": [
    "prefix = 'tmpgaas'\n",
    "\n",
    "mat_gaas.plot_bulk_dispersion(prefix)\n",
    "\n",
    "#display(Image(prefix+'-bulkdisp.png'))"
   ]
  },
  {
   "cell_type": "markdown",
   "metadata": {},
   "source": [
    "These plots respectively show contours of the *slowness* surface $1/v_p(\\vec \\kappa)$  (top-left), the *phase velocity* surface (top-right), the *ray* or group velocity surface (bottom-left) and the full 3D slowness surface (bottom-right).\n",
    "\n",
    "The colours in the first three plots correspond to the component of each wave mode's elastic polarisation along the propagation direction, ie $r=\\hat{\\kappa} \\cdot \\hat{u} = \\hat{z} \\cdot \\hat{u}$. The lines and dots also indicate the polarisation states. It is apparent that the pink coloured mode is close to longitudinal and the blue modes are close to transverse (shear). It turns out that for a given wavevector, the group velocity is *normal* to the slowness surface. Tracing around the outer curve quasi-shear mode in the first plot can help to understand the cusps in the corresponding curve of the group velocity plot.\n",
    "\n",
    "These plots are always shown in the $x-z$ plane. To see other cuts, we can rotate the crystal. Here is the case for the material that we rotated previously:"
   ]
  },
  {
   "cell_type": "code",
   "execution_count": null,
   "metadata": {},
   "outputs": [],
   "source": [
    "prefix = 'tmpgaas2'\n",
    "\n",
    "mat_gaas2.plot_bulk_dispersion(prefix)"
   ]
  },
  {
   "cell_type": "markdown",
   "metadata": {},
   "source": [
    "## Special crystal orientations"
   ]
  },
  {
   "cell_type": "markdown",
   "metadata": {},
   "source": [
    "Rotations can be specified in several ways.\n",
    "\n",
    "As well as the angle and unit vector, the coordinate axes can be named directly, and rotation calls can be made successively\n",
    "to apply sequences of rotations:"
   ]
  },
  {
   "cell_type": "code",
   "execution_count": 18,
   "metadata": {},
   "outputs": [
    {
     "name": "stderr",
     "output_type": "stream",
     "text": [
      "\n",
      "Fatal error: \n",
      " Can't convert 0.7853981633974483 to a 3-element unit vector.\n",
      "\n",
      "\n"
     ]
    },
    {
     "ename": "SystemExit",
     "evalue": "1",
     "output_type": "error",
     "traceback": [
      "An exception has occurred, use %tb to see the full traceback.\n",
      "\u001b[0;31mSystemExit\u001b[0m\u001b[0;31m:\u001b[0m 1\n"
     ]
    }
   ],
   "source": [
    "mat_3 = mat_a.copy()\n",
    "\n",
    "mat_3.rotate('x-axis', np.pi/4)\n",
    "mat_3.rotate('z', np.pi/5)\n",
    "mat_3.rotate('x-axis', -4*np.pi/3)\n",
    "\n",
    "pref='tmp3'\n",
    "mat_3.make_crystal_axes_plot(pref)\n",
    "\n",
    "display(Image(pref+'-crystal.png', width=300))"
   ]
  },
  {
   "cell_type": "markdown",
   "metadata": {},
   "source": [
    "To return the starting configuration, use `reset_orientation()`"
   ]
  },
  {
   "cell_type": "code",
   "execution_count": null,
   "metadata": {},
   "outputs": [],
   "source": [
    "mat_3.reset_orientation()\n",
    "mat_3.make_crystal_axes_plot(pref)\n",
    "\n",
    "display(Image(pref+'-crystal.png', width=300))"
   ]
  },
  {
   "cell_type": "markdown",
   "metadata": {},
   "source": [
    "Some materials define special directions which are commonly desired. For example, a number of materials like lithium niobate can be obtained in *x-cut* or *z-cut* varieties.\n",
    "\n",
    "The appropriate orientations can be applied using the above commands, but it is also possible to define specific rotations in the `.json` file.\n",
    "\n",
    "For lithium niobate, which has trigonal symmetry, the default orientation is *x-cut*, with the optical symmetry axis $\\hat{c}_z$ pointing along the $\\hat{z}$ direction.\n",
    "Selecting the *z-cut* orientation moves the $\\hat{c}_z$ axis to point along $\\hat{y}$ by applying a $pi/2$ rotation around the positive $\\hat{x}$ axis:\n"
   ]
  },
  {
   "cell_type": "code",
   "execution_count": null,
   "metadata": {},
   "outputs": [],
   "source": [
    "mat_LiNb_x = materials.make_material('LiNbO3aniso_2021_Steel')\n",
    "pref='tmp_linb'\n",
    "\n",
    "mat_LiNb_x.make_crystal_axes_plot(pref+'-xcut')\n",
    "display(Image(pref+'-xcut-crystal.png', width=300))\n",
    "\n",
    "\n",
    "mat_LiNb_z = mat_LiNb_x.copy()\n",
    "mat_LiNb_z.set_orientation('z-cut') \n",
    "\n",
    "mat_LiNb_z.make_crystal_axes_plot(pref+'-zcut')\n",
    "display(Image(pref+'-zcut-crystal.png', width=300))\n",
    "\n"
   ]
  },
  {
   "cell_type": "markdown",
   "metadata": {},
   "source": [
    "This difference is reflected in the bulk dispersion properties of the two."
   ]
  },
  {
   "cell_type": "code",
   "execution_count": null,
   "metadata": {},
   "outputs": [],
   "source": [
    "\n",
    "mat_LiNb_x.plot_bulk_dispersion(pref+'-xcut', label='LiNbO3 x-cut')\n",
    "\n",
    "mat_LiNb_z.plot_bulk_dispersion(pref+'-zcut', label='LiNbO3 z-cut')\n"
   ]
  },
  {
   "cell_type": "markdown",
   "metadata": {},
   "source": [
    "## Bulk dispersion and core-cladding guidance"
   ]
  },
  {
   "cell_type": "markdown",
   "metadata": {},
   "source": [
    "A useful application of the bulk dispersion curves is as a tool to predict the guidance properties of two media by comparing their slowness curves.\n",
    "\n",
    "Consider the first non-fibre conventional waveguide to show SBS: the chalcogenide ($\\mathrm{As}_2\\mathrm{S}_3$) and silica strip waveguide. \n",
    "\n"
   ]
  },
  {
   "cell_type": "code",
   "execution_count": null,
   "metadata": {},
   "outputs": [],
   "source": [
    "mat_SiO2 = materials.make_material('SiO2_2021_Poulton')\n",
    "mat_As2S3 = materials.make_material('As2S3_2021_Poulton')\n",
    "\n",
    "print(mat_SiO2.elastic_properties(), '\\n\\n')\n",
    "\n",
    "print(mat_As2S3.elastic_properties())"
   ]
  },
  {
   "cell_type": "markdown",
   "metadata": {},
   "source": [
    "Noting that the chalcogenide refractive index is higher, we are motivated by optical guidance to use it as the core material.\n",
    "\n",
    "We then note that both the elastic wave velocities for the chalcogenide are lower than the shear velocity for the silica. Consequently, we can expect\n",
    "the chalcogenide to form a suitable elastic cladding, which is indeed the case and explains why this system successfully showed SBS in 2012.\n",
    "\n",
    "For isotropic materials, this is sufficient investigation, but we can confirm the result by comparing the slowness curves for both materials on one plot:"
   ]
  },
  {
   "cell_type": "code",
   "execution_count": null,
   "metadata": {},
   "outputs": [],
   "source": [
    "materials.compare_bulk_dispersion(mat_SiO2, mat_As2S3, 'comp_sio2_as2s3')"
   ]
  },
  {
   "cell_type": "markdown",
   "metadata": {},
   "source": [
    "The slowness curves for silica are shown in red/orange, those for the chalcogenide are shown in blue and magenta. Since the latter are entirely contained in the former, the chalcogenide is an elastically slow material and forms an ideal cladding."
   ]
  },
  {
   "cell_type": "markdown",
   "metadata": {},
   "source": [
    "Now consider the silicon/silica or SOI system."
   ]
  },
  {
   "cell_type": "code",
   "execution_count": null,
   "metadata": {},
   "outputs": [],
   "source": [
    "mat_SiO2 = materials.make_material('SiO2_2021_Poulton')\n",
    "mat_Si = materials.make_material('Si_1970_Auld')\n",
    "\n",
    "print(mat_SiO2.elastic_properties(), '\\n\\n')\n",
    "\n",
    "print(mat_Si.elastic_properties())"
   ]
  },
  {
   "cell_type": "code",
   "execution_count": null,
   "metadata": {},
   "outputs": [],
   "source": [
    "materials.compare_bulk_dispersion(mat_SiO2, mat_Si, 'comp_sio2_si')"
   ]
  },
  {
   "cell_type": "markdown",
   "metadata": {},
   "source": [
    "Here we see that the slowness curves are interleaved but both families of waves are slower in silica than their corresponding modes in silicon. Consequently, we can't guide both sound and light in a conventional SOI waveguide, and all SBS demonstrations have involved special techniques such as undercut waveguides or pillar structures."
   ]
  },
  {
   "cell_type": "markdown",
   "metadata": {},
   "source": [
    "A similar case arises with lithium niobate and silica (and a number of other potential substrates). Lithium niobate and silica form an excellent core-cladding combination for light guidance but the elastic wave situation is as follows:"
   ]
  },
  {
   "cell_type": "code",
   "execution_count": null,
   "metadata": {},
   "outputs": [],
   "source": [
    "\n",
    "materials.compare_bulk_dispersion(mat_SiO2, mat_LiNb_x, 'comp_sio2_linb_x')\n",
    "\n",
    "materials.compare_bulk_dispersion(mat_SiO2, mat_LiNb_z, 'comp_sio2_linb_z')"
   ]
  },
  {
   "cell_type": "markdown",
   "metadata": {},
   "source": [
    "This material combination fails for both common crystal orientations.\n",
    "\n",
    "However, as several groups have realised, while these elastic properties forbid total internal reflection elastic guidance\n",
    "in a conventional waveguide, and it does not forbid efficient elastic guidance as a Rayleigh-like surface mode."
   ]
  },
  {
   "cell_type": "code",
   "execution_count": null,
   "metadata": {},
   "outputs": [],
   "source": []
  }
 ],
 "metadata": {
  "kernelspec": {
   "display_name": "Python 3 (ipykernel)",
   "language": "python",
   "name": "python3"
  },
  "language_info": {
   "codemirror_mode": {
    "name": "ipython",
    "version": 3
   },
   "file_extension": ".py",
   "mimetype": "text/x-python",
   "name": "python",
   "nbconvert_exporter": "python",
   "pygments_lexer": "ipython3",
   "version": "3.12.3"
  }
 },
 "nbformat": 4,
 "nbformat_minor": 2
}
