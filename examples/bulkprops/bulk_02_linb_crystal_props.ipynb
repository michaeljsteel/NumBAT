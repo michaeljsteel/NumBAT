{
 "cells": [
  {
   "cell_type": "markdown",
   "metadata": {},
   "source": [
    "# Introduction to piezoelectric properties with lithium niobate"
   ]
  },
  {
   "cell_type": "markdown",
   "metadata": {},
   "source": [
    "Continuing the study of bulk material elastic properties from the previous tutorial, let's take a closer look at the orientational dependence of the dispersion of lithium niobate, an increasingly important material in SBS.\n",
    "\n",
    "The numerical values for the $\\mathrm{LiNbO}_3$ material properties  are taken from [Rodrigues et al, JOSA B 40, D56 (2023)](https://doi.org//10.1364/JOSAB.482656).\n"
   ]
  },
  {
   "cell_type": "code",
   "execution_count": 148,
   "metadata": {},
   "outputs": [
    {
     "name": "stdout",
     "output_type": "stream",
     "text": [
      "The autoreload extension is already loaded. To reload it, use:\n",
      "  %reload_ext autoreload\n"
     ]
    }
   ],
   "source": [
    "%load_ext autoreload\n",
    "%autoreload 3\n",
    "\n",
    "import sys\n",
    "import numpy as np\n",
    "from IPython.display import Image, display\n",
    "\n",
    "sys.path.append(\"../../backend\")\n",
    "\n",
    "from plotting.ipythontools import img_single, img_pair, img_triple\n",
    "import materials\n",
    "\n",
    "import numbat  # Just to get plotprefs defined. have a default that doesn't need this.\n",
    "nbapp = numbat.NumBATApp()"
   ]
  },
  {
   "cell_type": "markdown",
   "metadata": {},
   "source": [
    "## Stiffness tensor under crystal rotations\n",
    "\n"
   ]
  },
  {
   "cell_type": "markdown",
   "metadata": {},
   "source": [
    "### The default orientation:  $Y$-cut\n",
    "\n",
    "To review, in NumBAT, the *laboratory* axes $x$, $y$ and $z$ are fixed. Propagation always occurs along the $z$ direction and the vertical direction out of the substrate is always along $y$.\n",
    "\n",
    "The *crystal* axes of a material, denoted $X$, $Y$ and $Z$, or equivalently $\\hat{c}_x$, $\\hat{c}_y$, $\\hat{c}_z$ can be rotated.\n",
    "\n",
    "The material is defined in the definition json files with the crystal and laboratory axes aligned, and is thus in $Y$-cut form: the crystal $\\hat{c}_y$ axis points up out of the waveguide, with the crystal symmetry axis $\\hat{c}_z$ lying along the propagation direction $z$.\n"
   ]
  },
  {
   "cell_type": "markdown",
   "metadata": {},
   "source": [
    "We'll look at this for a material file describing lithium niobate. (Remember that in NumBAT, the same material can have multiple definition files to allow exact comparison with literature references that might choose slightly different values for some quantities.)"
   ]
  },
  {
   "cell_type": "code",
   "execution_count": 149,
   "metadata": {},
   "outputs": [],
   "source": [
    "mat_LiNbO3 = materials.make_material(\"LiNbO3_2023_Rodrigues\")\n",
    "mat_LiNbO3_y = mat_LiNbO3  # for naming convenience later"
   ]
  },
  {
   "cell_type": "markdown",
   "metadata": {},
   "source": [
    "Here is the default orientation as just described with the crystal and laboratory axes aligned.\n"
   ]
  },
  {
   "cell_type": "code",
   "execution_count": 150,
   "metadata": {},
   "outputs": [
    {
     "data": {
      "text/html": [
       "\n",
       "        <div style=\"margin-right: 10px;\">\n",
       "            <img src=\"tmp_LiNbO3-ycut-crystal.png?1754875322366\" height=\"300px\">\n",
       "            <p style=\"text-align: left;\"></p>\n",
       "        </div>"
      ],
      "text/plain": [
       "<IPython.core.display.HTML object>"
      ]
     },
     "metadata": {},
     "output_type": "display_data"
    }
   ],
   "source": [
    "pref='tmp_LiNbO3'\n",
    "fnimg = mat_LiNbO3.make_crystal_axes_plot(pref+'-ycut')\n",
    "img_single(fnimg, height=300)"
   ]
  },
  {
   "cell_type": "markdown",
   "metadata": {},
   "source": [
    "The crystal properties show that for this orientation the two shear modes for propagation along $z$ are degenerate. Both have a phase velocity of $v_p$=3.5879 km/s. "
   ]
  },
  {
   "cell_type": "code",
   "execution_count": 151,
   "metadata": {},
   "outputs": [
    {
     "name": "stdout",
     "output_type": "stream",
     "text": [
      "Material: LiNbO3\n",
      "  File: LiNbO3_2023_Rodrigues\n",
      "  Source: Rodrigues\n",
      "  Date: 2023\n",
      "  Crystal class:  Trigonal\n",
      "  Crystal group:  3m\n",
      "\n",
      " Optical dielectric constant eps_ij., unit: dimensionless.\n",
      "   Plain 2-tensor:\n",
      "    [[4.8841+0.j 0.    +0.j 0.    +0.j]\n",
      "     [0.    +0.j 4.8841+0.j 0.    +0.j]\n",
      "     [0.    +0.j 0.    +0.j 4.8841+0.j]]\n",
      "\n",
      " Stiffness c_IJ, unit: GPa.\n",
      "   Voigt 4-tensor:\n",
      "    [[198.83   54.64   68.23    7.83    0.      0.   ]\n",
      "     [ 54.64  198.83   68.23   -7.83    0.      0.   ]\n",
      "     [ 68.23   68.23  235.71    0.      0.      0.   ]\n",
      "     [  7.83   -7.83    0.     59.86    0.      0.   ]\n",
      "     [  0.      0.      0.      0.     59.86    7.83 ]\n",
      "     [  0.      0.      0.      0.      7.83   72.095]]\n",
      "\n",
      " Viscosity eta_IJ., unit: dimensionless.\n",
      "   Voigt 4-tensor:\n",
      "    [[ 6.547e-04  2.275e-04  2.499e-04 -6.870e-05  0.000e+00  0.000e+00]\n",
      "     [ 2.275e-04  6.547e-04  2.499e-04  6.870e-05  0.000e+00  0.000e+00]\n",
      "     [ 3.377e-04  2.499e-04  3.377e-04  0.000e+00  0.000e+00  0.000e+00]\n",
      "     [ 1.765e-04  6.870e-05  0.000e+00  1.765e-04  0.000e+00  0.000e+00]\n",
      "     [ 0.000e+00  0.000e+00  0.000e+00  0.000e+00  1.765e-04 -6.870e-05]\n",
      "     [ 0.000e+00  0.000e+00  0.000e+00  0.000e+00 -6.870e-05  2.136e-04]]\n",
      "\n",
      " Photoelasticity p_IJ., unit: dimensionless.\n",
      "   Voigt 4-tensor:\n",
      "    [[-0.026  0.088  0.134 -0.083  0.     0.   ]\n",
      "     [ 0.088 -0.026  0.134  0.083  0.     0.   ]\n",
      "     [ 0.177  0.177  0.07   0.     0.     0.   ]\n",
      "     [-0.151  0.151  0.     0.145  0.     0.   ]\n",
      "     [ 0.     0.     0.     0.     0.145 -0.151]\n",
      "     [ 0.     0.     0.     0.    -0.083 -0.057]]\n",
      "\n",
      "\n",
      " Piezoelectric properties:\n",
      "  Piezo effects enabled:\n",
      " \n",
      " Strain piezo coefficient d_iJ, unit: pC/N.\n",
      "   Voigt 3-tensor:\n",
      "    [[  0.0000   0.0000   0.0000   0.0000  66.2531 -40.3462]\n",
      "     [-20.1731  20.1731  -0.0000  66.2531   0.0000   0.0000]\n",
      "     [ -0.8781  -0.8781   7.8054  -0.0000   0.0000   0.0000]]\n",
      " \n",
      " Stress piezo coefficient e_iJ, unit: C/m^2.\n",
      "   Voigt 3-tensor:\n",
      "    [[ 0.0000  0.0000  0.0000  0.0000  3.6500 -2.3900]\n",
      "     [-2.3900  2.3900  0.0000  3.6500  0.0000  0.0000]\n",
      "     [ 0.3100  0.3100  1.7200  0.0000  0.0000  0.0000]]\n",
      " \n",
      " Constant strain dielectric tensor eps^S_ij., unit: dimensionless.\n",
      "   Plain 2-tensor:\n",
      "    [[ 44.9500   0.0000   0.0000]\n",
      "     [  0.0000  44.9500   0.0000]\n",
      "     [  0.0000   0.0000  24.0600]]\n",
      " \n",
      " Constant stress dielectric tensor eps^T_ij., unit: dimensionless.\n",
      "   Plain 2-tensor:\n",
      "    [[ 83.1524   0.0000   0.0000]\n",
      "     [  0.0000  83.1524   0.0000]\n",
      "     [  0.0000   0.0000  25.5148]]\n",
      "\n"
     ]
    }
   ],
   "source": [
    "print(mat_LiNbO3.full_str())"
   ]
  },
  {
   "cell_type": "code",
   "execution_count": 152,
   "metadata": {},
   "outputs": [
    {
     "name": "stdout",
     "output_type": "stream",
     "text": [
      "Elastic properties of material LiNbO3_2023_Rodrigues\n",
      "  Density:        4650.000 kg/m^3\n",
      "  Ref. index:     2.2100+0.0000j \n",
      "  Crystal class:  Trigonal\n",
      "  Crystal group:  3m\n",
      "   \n",
      " Stiffness c_IJ, unit: GPa.\n",
      "   Voigt 4-tensor:\n",
      "    [[198.8300  54.6400  68.2300   7.8300   0.0000   0.0000]\n",
      "     [ 54.6400 198.8300  68.2300  -7.8300   0.0000   0.0000]\n",
      "     [ 68.2300  68.2300 235.7100   0.0000   0.0000   0.0000]\n",
      "     [  7.8300  -7.8300   0.0000  59.8600   0.0000   0.0000]\n",
      "     [  0.0000   0.0000   0.0000   0.0000  59.8600   7.8300]\n",
      "     [  0.0000   0.0000   0.0000   0.0000   7.8300  72.0950]]\n",
      "\n",
      "  Wave mode 1: v_p=7.1197 km/s,  |v_g|=7.1197 km/s,  u_j=[ 0.0000  0.0000  1.0000],  v_g=[ 0.0000  0.0000  7.1197] km/s\n",
      "  Wave mode 2: v_p=3.5879 km/s,  |v_g|=3.6185 km/s,  u_j=[ 1.0000  0.0000  0.0000],  v_g=[ 0.0000  0.4693  3.5879] km/s\n",
      "  Wave mode 3: v_p=3.5879 km/s,  |v_g|=3.6185 km/s,  u_j=[ 0.0000  1.0000  0.0000],  v_g=[ 0.0000 -0.4693  3.5879] km/s\n",
      "\n",
      " Piezoelectric properties:\n",
      "  Piezo effects enabled:\n",
      " \n",
      " Strain piezo coefficient d_iJ, unit: pC/N.\n",
      "   Voigt 3-tensor:\n",
      "    [[  0.0000   0.0000   0.0000   0.0000  66.2531 -40.3462]\n",
      "     [-20.1731  20.1731  -0.0000  66.2531   0.0000   0.0000]\n",
      "     [ -0.8781  -0.8781   7.8054  -0.0000   0.0000   0.0000]]\n",
      " \n",
      " Stress piezo coefficient e_iJ, unit: C/m^2.\n",
      "   Voigt 3-tensor:\n",
      "    [[ 0.0000  0.0000  0.0000  0.0000  3.6500 -2.3900]\n",
      "     [-2.3900  2.3900  0.0000  3.6500  0.0000  0.0000]\n",
      "     [ 0.3100  0.3100  1.7200  0.0000  0.0000  0.0000]]\n",
      " \n",
      " Constant strain dielectric tensor eps^S_ij., unit: dimensionless.\n",
      "   Plain 2-tensor:\n",
      "    [[ 44.9500   0.0000   0.0000]\n",
      "     [  0.0000  44.9500   0.0000]\n",
      "     [  0.0000   0.0000  24.0600]]\n",
      " \n",
      " Constant stress dielectric tensor eps^T_ij., unit: dimensionless.\n",
      "   Plain 2-tensor:\n",
      "    [[ 83.1524   0.0000   0.0000]\n",
      "     [  0.0000  83.1524   0.0000]\n",
      "     [  0.0000   0.0000  25.5148]]\n"
     ]
    }
   ],
   "source": [
    "print(mat_LiNbO3.elastic_properties())"
   ]
  },
  {
   "cell_type": "markdown",
   "metadata": {},
   "source": [
    "This degeneracy is lost if the wave vector direction in the $x$-$z$ plane is varied.\n",
    "\n",
    "As we saw in the previous tutorial, by solving the Christoffel equation as the wave vector rotates in the $x$-$z$ plane we can map out curves of the phase velocity, inverse phase velocity (or \"slowness\"), and the magnitude of the group velocity $|v_g(\\kappa)|$.\n",
    "\n",
    "The faint circular lines mark radial velocities at 1 km/s intervals:"
   ]
  },
  {
   "cell_type": "code",
   "execution_count": 153,
   "metadata": {},
   "outputs": [
    {
     "data": {
      "text/html": [
       "\n",
       "        <div style=\"margin-right: 10px;\">\n",
       "            <img src=\"tmp_LiNbO3-ycut-bulkdisp-all.png?1754875387372\" height=\"400px\">\n",
       "            <p style=\"text-align: left;\"></p>\n",
       "        </div>"
      ],
      "text/plain": [
       "<IPython.core.display.HTML object>"
      ]
     },
     "metadata": {},
     "output_type": "display_data"
    }
   ],
   "source": [
    "imgdisp_y = mat_LiNbO3.plot_bulk_dispersion_all(pref+'-ycut')\n",
    "img_single(imgdisp_y, height=400)"
   ]
  },
  {
   "cell_type": "markdown",
   "metadata": {},
   "source": [
    "For this material, it is quite hard to see the difference between the phase and group velocity plots. That is more obvious in some other materials.\n",
    "\n",
    "These plots can also be generated without the polarisation state markers:"
   ]
  },
  {
   "cell_type": "code",
   "execution_count": 154,
   "metadata": {},
   "outputs": [
    {
     "data": {
      "text/html": [
       "\n",
       "        <div style=\"margin-right: 10px;\">\n",
       "            <img src=\"tmp_LiNbO3-bulkdisp-all.png?1754875407023\" height=\"400px\">\n",
       "            <p style=\"text-align: left;\"></p>\n",
       "        </div>"
      ],
      "text/plain": [
       "<IPython.core.display.HTML object>"
      ]
     },
     "metadata": {},
     "output_type": "display_data"
    }
   ],
   "source": [
    "imgdisp_yb = mat_LiNbO3.plot_bulk_dispersion_all(pref, show_poln=False)\n",
    "img_single(imgdisp_yb, height=400)"
   ]
  },
  {
   "cell_type": "markdown",
   "metadata": {},
   "source": [
    "### The $Z$-cut orientation"
   ]
  },
  {
   "cell_type": "markdown",
   "metadata": {},
   "source": [
    "Now let's rotate the starting crystal so the primary crystal symmetry axis $\\hat{c}_z$ points upwards along $\\hat{y}$, \n",
    "with the $\\hat{c}_y$ axis along $-\\hat{z}$. This corresponds to Fig. 2a in Rodrigues et al."
   ]
  },
  {
   "cell_type": "code",
   "execution_count": 155,
   "metadata": {},
   "outputs": [],
   "source": [
    "mat_LiNbO3_z = mat_LiNbO3.copy()\n",
    "mat_LiNbO3_z.set_orientation('z-cut')"
   ]
  },
  {
   "cell_type": "code",
   "execution_count": 156,
   "metadata": {},
   "outputs": [
    {
     "data": {
      "text/html": [
       "\n",
       "        <div style=\"margin-right: 10px;\">\n",
       "            <img src=\"tmp_LiNbO3-zcut-crystal.png?1754875434060\" height=\"300px\">\n",
       "            <p style=\"text-align: left;\"></p>\n",
       "        </div>"
      ],
      "text/plain": [
       "<IPython.core.display.HTML object>"
      ]
     },
     "metadata": {},
     "output_type": "display_data"
    }
   ],
   "source": [
    "fimg = mat_LiNbO3_z.make_crystal_axes_plot(pref+'-zcut')\n",
    "img_single(fimg, height=300)"
   ]
  },
  {
   "cell_type": "markdown",
   "metadata": {},
   "source": [
    "With the 6-fold symmetry axis $Z$ pointing up along $y$, the dispersion cuts in the $x$-$z$ plane now display the full 6-fold symmetry associated with the trigonal structure of lithium niobate:"
   ]
  },
  {
   "cell_type": "code",
   "execution_count": 157,
   "metadata": {},
   "outputs": [
    {
     "data": {
      "text/html": [
       "\n",
       "        <div style=\"margin-right: 10px;\">\n",
       "            <img src=\"tmp_LiNbO3-zcut-bulkdisp-all.png?1754875439659\" height=\"500px\">\n",
       "            <p style=\"text-align: left;\"></p>\n",
       "        </div>"
      ],
      "text/plain": [
       "<IPython.core.display.HTML object>"
      ]
     },
     "metadata": {},
     "output_type": "display_data"
    }
   ],
   "source": [
    "imgdisp_z = mat_LiNbO3_z.plot_bulk_dispersion_all(pref+'-zcut')\n",
    "img_single(imgdisp_z, height=500)"
   ]
  },
  {
   "cell_type": "markdown",
   "metadata": {},
   "source": [
    "### The $X$-cut orientation"
   ]
  },
  {
   "cell_type": "markdown",
   "metadata": {},
   "source": [
    "For completeness, we can look at the $X$-cut properties:"
   ]
  },
  {
   "cell_type": "code",
   "execution_count": 158,
   "metadata": {},
   "outputs": [
    {
     "name": "stdout",
     "output_type": "stream",
     "text": [
      "Elastic properties of material LiNbO3_2023_Rodrigues\n",
      "  Density:        4650.000 kg/m^3\n",
      "  Ref. index:     2.2100+0.0000j \n",
      "  Crystal class:  Trigonal\n",
      "  Crystal group:  3m\n",
      "   \n",
      " Stiffness c_IJ, unit: GPa.\n",
      "   Voigt 4-tensor:\n",
      "    [[198.8300  54.6400  68.2300  -0.0000   7.8300   0.0000]\n",
      "     [ 54.6400 198.8300  68.2300   0.0000  -7.8300   0.0000]\n",
      "     [ 68.2300  68.2300 235.7100   0.0000   0.0000  -0.0000]\n",
      "     [ -0.0000   0.0000   0.0000  59.8600   0.0000  -7.8300]\n",
      "     [  7.8300  -7.8300   0.0000   0.0000  59.8600  -0.0000]\n",
      "     [ -0.0000   0.0000  -0.0000  -7.8300  -0.0000  72.0950]]\n",
      "\n",
      "  Wave mode 1: v_p=7.1197 km/s,  |v_g|=7.1197 km/s,  u_j=[ 0.0000  0.0000  1.0000],  v_g=[ 0.0000  0.0000  7.1197] km/s\n",
      "  Wave mode 2: v_p=3.5879 km/s,  |v_g|=3.6185 km/s,  u_j=[ 0.0000  1.0000  0.0000],  v_g=[-0.4693  0.0000  3.5879] km/s\n",
      "  Wave mode 3: v_p=3.5879 km/s,  |v_g|=3.6185 km/s,  u_j=[ 1.0000 -0.0000  0.0000],  v_g=[ 0.4693 -0.0000  3.5879] km/s\n",
      "\n",
      " Piezoelectric properties:\n",
      "  Piezo effects enabled:\n",
      " \n",
      " Strain piezo coefficient d_iJ, unit: pC/N.\n",
      "   Voigt 3-tensor:\n",
      "    [[-20.1731  20.1731   0.0000  -0.0000  66.2531   0.0000]\n",
      "     [  0.0000  -0.0000  -0.0000  66.2531  -0.0000  40.3462]\n",
      "     [ -0.8781  -0.8781   7.8054  -0.0000   0.0000  -0.0000]]\n",
      " \n",
      " Stress piezo coefficient e_iJ, unit: C/m^2.\n",
      "   Voigt 3-tensor:\n",
      "    [[-2.3900  2.3900  0.0000  0.0000  3.6500  0.0000]\n",
      "     [ 0.0000 -0.0000  0.0000  3.6500 -0.0000  2.3900]\n",
      "     [ 0.3100  0.3100  1.7200  0.0000  0.0000  0.0000]]\n",
      " \n",
      " Constant strain dielectric tensor eps^S_ij., unit: dimensionless.\n",
      "   Plain 2-tensor:\n",
      "    [[ 44.9500   0.0000   0.0000]\n",
      "     [  0.0000  44.9500   0.0000]\n",
      "     [  0.0000   0.0000  24.0600]]\n",
      " \n",
      " Constant stress dielectric tensor eps^T_ij., unit: dimensionless.\n",
      "   Plain 2-tensor:\n",
      "    [[83.1524  0.0000 -0.0000]\n",
      "     [-0.0000 83.1524  0.0000]\n",
      "     [-0.0000  0.0000 25.5148]]\n"
     ]
    }
   ],
   "source": [
    "mat_LiNbO3_x =  mat_LiNbO3.copy()\n",
    "mat_LiNbO3_x.set_orientation('x-cut')\n",
    "\n",
    "print(mat_LiNbO3_x.elastic_properties())"
   ]
  },
  {
   "cell_type": "code",
   "execution_count": 159,
   "metadata": {},
   "outputs": [
    {
     "data": {
      "text/html": [
       "\n",
       "        <div style=\"margin-right: 10px;\">\n",
       "            <img src=\"tmp_LiNbO3-xcut-crystal.png?1754875453456\" height=\"300px\">\n",
       "            <p style=\"text-align: left;\"></p>\n",
       "        </div>"
      ],
      "text/plain": [
       "<IPython.core.display.HTML object>"
      ]
     },
     "metadata": {},
     "output_type": "display_data"
    }
   ],
   "source": [
    "fnimg = mat_LiNbO3_x.make_crystal_axes_plot(pref+'-xcut')\n",
    "img_single(fnimg, height=300)"
   ]
  },
  {
   "cell_type": "markdown",
   "metadata": {},
   "source": [
    "The distinction between the $X$-cut and $Y$-cut dispersion is subtle, and it helpful to plot them side by side.\n",
    "Notice that the $Y$-cut plots have reflection symmetry along both the coordinate axes, whereas the $X$-cut case has only 2-fold rotational symmetry and no reflection symmetries."
   ]
  },
  {
   "cell_type": "code",
   "execution_count": 161,
   "metadata": {},
   "outputs": [
    {
     "data": {
      "text/html": [
       "\n",
       "    <div style=\"display: flex; justify-content: center; align-items: flex-start;\">\n",
       "        <div style=\"margin-right: 10px;\">\n",
       "            <img src=\"tmp_LiNbO3-ycut-bulkdisp-all.png?1754875583472\" height=\"400px\">\n",
       "            <p style=\"text-align: center;\">Y cut</p>\n",
       "        </div>\n",
       "        <div>\n",
       "            <img src=\"tmp_LiNbO3-xcut-bulkdisp-all.png?1754875583472\" height=\"400px\">\n",
       "            <p style=\"text-align: center;\">X cut</p>\n",
       "        </div>\n",
       "    </div>"
      ],
      "text/plain": [
       "<IPython.core.display.HTML object>"
      ]
     },
     "metadata": {},
     "output_type": "display_data"
    }
   ],
   "source": [
    "imgdisp_x = mat_LiNbO3_x.plot_bulk_dispersion_all(pref+'-xcut')\n",
    "img_pair(imgdisp_y, imgdisp_x, 'Y cut', 'X cut', 400, 400)"
   ]
  },
  {
   "cell_type": "markdown",
   "metadata": {},
   "source": [
    "## Photoelastic response"
   ]
  },
  {
   "cell_type": "markdown",
   "metadata": {},
   "source": [
    "Now let's consider the influence of crystal orientation on the *photoelastic* coupling.\n",
    "\n",
    "The photoelastic tensor elements $p_{ijkl}$ also change in value as the crystal is rotated. \n",
    "Once again, we can plot the coefficients in the lab frame coordinates, as a crystal of given orientation is imagined to be rotated around the $y$ axis.\n",
    "\n",
    "The desired elements of the tensor are specified in the Voigt notation $p_{IJ}$.\n",
    "\n",
    "As with the results above, the $Z$-cut crystal exhibits the 3-fold trigonal symmetry, while the other two cuts have more complex behaviour."
   ]
  },
  {
   "cell_type": "code",
   "execution_count": 162,
   "metadata": {},
   "outputs": [
    {
     "data": {
      "text/html": [
       "\n",
       "        <div style=\"margin-right: 10px;\">\n",
       "            <img src=\"tmp_LiNbO3-pijkl.png?1754875608528\" height=\"300px\">\n",
       "            <p style=\"text-align: left;\">Photoelastic tensor components for Z-cut LiNbO3</p>\n",
       "        </div>"
      ],
      "text/plain": [
       "<IPython.core.display.HTML object>"
      ]
     },
     "metadata": {},
     "output_type": "display_data"
    }
   ],
   "source": [
    "fn = mat_LiNbO3_z.plot_photoelastic_IJ(pref, (\"11\",\"12\", \"13\", \"14\", \"15\"))\n",
    "img_single(fn, 'Photoelastic tensor components for Z-cut LiNbO3', 300)"
   ]
  },
  {
   "cell_type": "code",
   "execution_count": 163,
   "metadata": {},
   "outputs": [
    {
     "data": {
      "text/html": [
       "\n",
       "        <div style=\"margin-right: 10px;\">\n",
       "            <img src=\"tmp_LiNbO3-pijkl.png?1754875609614\" height=\"300px\">\n",
       "            <p style=\"text-align: left;\">Photoelastic tensor components for X-cut LiNbO3</p>\n",
       "        </div>"
      ],
      "text/plain": [
       "<IPython.core.display.HTML object>"
      ]
     },
     "metadata": {},
     "output_type": "display_data"
    }
   ],
   "source": [
    "fn = mat_LiNbO3_x.plot_photoelastic_IJ(pref, (\"11\",\"12\", \"13\", \"14\", \"15\"))\n",
    "img_single(fn, 'Photoelastic tensor components for X-cut LiNbO3', 300)"
   ]
  },
  {
   "cell_type": "code",
   "execution_count": 164,
   "metadata": {},
   "outputs": [
    {
     "data": {
      "text/html": [
       "\n",
       "        <div style=\"margin-right: 10px;\">\n",
       "            <img src=\"tmp_LiNbO3-pijkl.png?1754875610309\" height=\"300px\">\n",
       "            <p style=\"text-align: left;\">Photoelastic tensor components for Y-cut LiNbO3</p>\n",
       "        </div>"
      ],
      "text/plain": [
       "<IPython.core.display.HTML object>"
      ]
     },
     "metadata": {},
     "output_type": "display_data"
    }
   ],
   "source": [
    "fn = mat_LiNbO3_y.plot_photoelastic_IJ(pref, (\"11\",\"12\", \"13\", \"14\", \"15\"))\n",
    "img_single(fn, 'Photoelastic tensor components for Y-cut LiNbO3', 300)"
   ]
  },
  {
   "cell_type": "markdown",
   "metadata": {},
   "source": [
    "# Piezolectric properties of lithium niobate"
   ]
  },
  {
   "cell_type": "markdown",
   "metadata": {},
   "source": [
    "Next, let's consider the piezoelectric response of lithium niobate. Piezoelectricity refers to a coupling between the elastic and electromagnetic properties of the material. Note that here we are referring to the *microwave* or RF domain electromagnetic properties at the same frequency as the elastic waves.\n",
    "\n",
    "The behaviour can be described by generalising the relations $\\vec D = \\epsilon \\vec E$ and \n",
    "$\\bar{T} = \\bar{\\bar{c}} \\bar{S}$ to a pair of constitutive relations as follows:\n",
    "\n",
    "$$\n",
    "\\vec D =  \\epsilon^S \\cdot \\vec E + \\bar{e} : \\bar{S} \\\\\n",
    "\\bar{T} = - \\bar{e} \\cdot \\vec E + \\bar{\\bar{c}}^E : \\bar{S} .\n",
    "$$\n",
    "where $\\epsilon^S$ and $\\bar{\\bar{c}}^E$ are defined under conditions of constant strain.\n",
    "\n",
    "The `.json` material file for lithium niobate and other piezoelectric materials has additional quantities defined: the *strain piezo coefficient* $d_{iJ}$ and the *stress piezo coefficient* $e_{iJ}$. These are $3\\times 6$  tensors with mixed ordinary and Voigt indices. There also symbols to define the *constant-strain dielectric tensor* $\\epsilon^S$ and *constant-stress dielectric tensor* $\\epsilon^T$.\n",
    "\n",
    "Since these quantities are not all independent, additional symbols `piezo_use_e` and `piezo_use_epsT` control which parameters are used if both $d_{iJ}$ and $e_{iJ}$ or both $\\epsilon^S$ and $\\epsilon^T$ are provided."
   ]
  },
  {
   "cell_type": "markdown",
   "metadata": {},
   "source": [
    "## Piezo slowness curves for x-cut\n",
    "\n",
    "There are a number of quite complex piezoelectric phenomena that involve coupling of the optical field and a material-related polarisation field. Perhaps the most basic effect is a \"piezo-stiffening\" of the stiffness tensor (a genuinely confusing terminology).\n",
    "This effect is discussed in Auld volume 1, section 8.F.\n",
    "\n",
    "To good approximation this is an adjustment to the elastic properties only, in which the \"raw\" stiffness tensor $c_{IJ}$ is modified by the piezo influence.\n",
    "\n",
    "It is described by a change to the Christoffel equation so that the bulk optical modes are altered. The revised Christoffel equation has the form \n",
    "$$\n",
    "q^2 \\Gamma_{ij} v_j = \\rho \\Omega^2 v_i,\n",
    "$$\n",
    "where \n",
    "$$\n",
    "\\Gamma_{ij} = l_{iK} c_{KL} l_{Lj},\n",
    "$$\n",
    "and the matrix $l_{Lj}$ indexed by Voigt ($L$) and Cartesian indices ($j$) is composed of the wavevector components $\\vec \\kappa $:\n",
    "\n",
    "$$\n",
    "l_{Lj} = \\begin{bmatrix} \n",
    "\\kappa_x & 0 & 0 \\\\\n",
    "0 & \\kappa_y & 0  \\\\\n",
    "0 & 0& \\kappa_z \\\\\n",
    "0 & \\kappa_z & \\kappa_y \\\\\n",
    "\\kappa_z & 0 & \\kappa_x \\\\\n",
    "\\kappa_y & \\kappa_x & 0\n",
    "\\end{bmatrix}.\n",
    "$$ \n",
    "\n",
    "The *piezoelastically stiffened elastic constant* is\n",
    "$$\n",
    "c^{p}_{KL}=c^{E}_{KL} + \\frac{[e_{Kj} l_j][l_i e_{iL}]}{l_i \\epsilon^{S}_{ij} l_j}.\n",
    "$$\n"
   ]
  },
  {
   "cell_type": "markdown",
   "metadata": {},
   "source": [
    "We can explore this for different crystal cuts with piezo effects both disabled and active."
   ]
  },
  {
   "cell_type": "code",
   "execution_count": 167,
   "metadata": {},
   "outputs": [],
   "source": [
    "mat_LiNbO3 = materials.make_material(\"LiNbO3_2023_Rodrigues\")\n",
    "\n",
    "mat_LiNbO3_x = mat_LiNbO3.copy()\n",
    "mat_LiNbO3_x.set_orientation('negx-cut')"
   ]
  },
  {
   "cell_type": "markdown",
   "metadata": {},
   "source": [
    "### Piezo effects disabled"
   ]
  },
  {
   "cell_type": "markdown",
   "metadata": {},
   "source": [
    "Starting with piezo effects disabled, the slowness curve (top right) in the first plot below corresponds to Fig. 8.9 in Auld volume 1."
   ]
  },
  {
   "cell_type": "code",
   "execution_count": 168,
   "metadata": {},
   "outputs": [
    {
     "data": {
      "text/html": [
       "\n",
       "    <div style=\"display: flex; justify-content: center; align-items: flex-start;\">\n",
       "        <div style=\"margin-right: 10px;\">\n",
       "            <img src=\"tmp_xcut_piezo_off-bulkdisp-all.png?1754876711980\" height=\"360px\">\n",
       "            <p style=\"text-align: center;\">X-cut, no piezo - NumBAT</p>\n",
       "        </div>\n",
       "        <div>\n",
       "            <img src=\"images/auld_fig8_9.png?1754876711980\" height=\"360px\">\n",
       "            <p style=\"text-align: center;\">X-cut, no piezo - Auld Fig. 8.9</p>\n",
       "        </div>\n",
       "    </div>"
      ],
      "text/plain": [
       "<IPython.core.display.HTML object>"
      ]
     },
     "metadata": {},
     "output_type": "display_data"
    }
   ],
   "source": [
    "mat_LiNbO3_x.disable_piezoelectric_effects()\n",
    "imgoffx = mat_LiNbO3_x.plot_bulk_dispersion_all(\"tmp_xcut_piezo_off\", show_poln=False)\n",
    "img_pair(imgoffx, \"images/auld_fig8_9.png\",  'X-cut, no piezo - NumBAT', 'X-cut, no piezo - Auld Fig. 8.9', 360, 360)"
   ]
  },
  {
   "cell_type": "markdown",
   "metadata": {},
   "source": [
    "To make this comparison clearer, we can plot just the slowness curve (inverse phase velocity) in the top right. The ``flip_x=True`` flag reverses the sense of the $x$-axis. This compensates for NumBAT plotting dispersion in the $q_x$-$q_z$ plane, while Auld uses the $q_x$-$q_y$ plane."
   ]
  },
  {
   "cell_type": "code",
   "execution_count": 169,
   "metadata": {},
   "outputs": [
    {
     "data": {
      "text/html": [
       "\n",
       "    <div style=\"display: flex; justify-content: center; align-items: flex-start;\">\n",
       "        <div style=\"margin-right: 10px;\">\n",
       "            <img src=\"tmp_xcut_piezo_offb-bulkdisp-ivp.png?1754876767408\" height=\"360px\">\n",
       "            <p style=\"text-align: center;\">X-cut, piezo off - NumBAT</p>\n",
       "        </div>\n",
       "        <div>\n",
       "            <img src=\"images/auld_fig8_9.png?1754876767408\" height=\"360px\">\n",
       "            <p style=\"text-align: center;\">X cut, piezo off - Auld Fig. 8.9</p>\n",
       "        </div>\n",
       "    </div>"
      ],
      "text/plain": [
       "<IPython.core.display.HTML object>"
      ]
     },
     "metadata": {},
     "output_type": "display_data"
    }
   ],
   "source": [
    "imgoff2 = mat_LiNbO3_x.plot_bulk_dispersion_ivp(\"tmp_xcut_piezo_offb\", show_poln=False)\n",
    "img_pair(imgoff2, \"images/auld_fig8_9.png\",  'X-cut, piezo off - NumBAT', 'X cut, piezo off - Auld Fig. 8.9', 360, 360)"
   ]
  },
  {
   "cell_type": "markdown",
   "metadata": {},
   "source": [
    "And looking at the other two cuts:"
   ]
  },
  {
   "cell_type": "code",
   "execution_count": 170,
   "metadata": {},
   "outputs": [
    {
     "data": {
      "text/html": [
       "\n",
       "    <div style=\"display: flex; justify-content: center; align-items: flex-start;\">\n",
       "        <div style=\"margin-right: 10px;\">\n",
       "            <img src=\"tmp_ycut_piezo_offb-bulkdisp-ivp.png?1754876782180\" height=\"400px\">\n",
       "            <p style=\"text-align: center;\">Y-cut, piezo off - NumBAT</p>\n",
       "        </div>\n",
       "        <div>\n",
       "            <img src=\"tmp_zcut_piezo_offb-bulkdisp-ivp.png?1754876782180\" height=\"400px\">\n",
       "            <p style=\"text-align: center;\">Z-cut, piezo off - NumBAT</p>\n",
       "        </div>\n",
       "    </div>"
      ],
      "text/plain": [
       "<IPython.core.display.HTML object>"
      ]
     },
     "metadata": {},
     "output_type": "display_data"
    }
   ],
   "source": [
    "mat_LiNbO3_y = mat_LiNbO3.copy()\n",
    "mat_LiNbO3_y.set_orientation('y-cut')\n",
    "mat_LiNbO3_z = mat_LiNbO3.copy()\n",
    "mat_LiNbO3_z.set_orientation('z-cut')\n",
    "mat_LiNbO3_y.disable_piezoelectric_effects()\n",
    "mat_LiNbO3_z.disable_piezoelectric_effects()\n",
    "\n",
    "imgoffy = mat_LiNbO3_y.plot_bulk_dispersion_ivp(\"tmp_ycut_piezo_offb\", show_poln=True)\n",
    "imgoffz = mat_LiNbO3_z.plot_bulk_dispersion_ivp(\"tmp_zcut_piezo_offb\", show_poln=True)\n",
    "\n",
    "img_pair(imgoffy, imgoffz,  'Y-cut, piezo off - NumBAT', 'Z-cut, piezo off - NumBAT', 400, 400)"
   ]
  },
  {
   "cell_type": "markdown",
   "metadata": {},
   "source": [
    "### Piezo effects enabled"
   ]
  },
  {
   "cell_type": "markdown",
   "metadata": {},
   "source": [
    "We now perform the same calculations with piezo effects enabled.\n",
    "\n",
    "For completeness, we show the behaviour in different cut-planes, both by rotating the crystal (first column), and by specifying the desired\n",
    "cut-plane (second column)."
   ]
  },
  {
   "cell_type": "code",
   "execution_count": 174,
   "metadata": {},
   "outputs": [
    {
     "data": {
      "text/html": [
       "\n",
       "    <div style=\"display: flex; justify-content: center; align-items: flex-start;\">\n",
       "        <div style=\"margin-right: 10px;\">\n",
       "            <img src=\"otmp1-bulkdisp-ivp.png?1754876909147\" height=\"300px\">\n",
       "            <p style=\"text-align: center;\">Starting Y-cut</p>\n",
       "        </div>\n",
       "        <div>\n",
       "            <img src=\"otmp4-bulkdisp-ivp.png?1754876909147\" height=\"300px\">\n",
       "            <p style=\"text-align: center;\">xz slice in starting Y-cut orientation</p>\n",
       "        </div>\n",
       "    </div>"
      ],
      "text/plain": [
       "<IPython.core.display.HTML object>"
      ]
     },
     "metadata": {},
     "output_type": "display_data"
    },
    {
     "data": {
      "text/html": [
       "\n",
       "    <div style=\"display: flex; justify-content: center; align-items: flex-start;\">\n",
       "        <div style=\"margin-right: 10px;\">\n",
       "            <img src=\"otmp3-bulkdisp-ivp.png?1754876909148\" height=\"300px\">\n",
       "            <p style=\"text-align: center;\">Rotated to X-cut</p>\n",
       "        </div>\n",
       "        <div>\n",
       "            <img src=\"otmp6-bulkdisp-ivp.png?1754876909148\" height=\"300px\">\n",
       "            <p style=\"text-align: center;\">yz slice in starting Y-cut orientation</p>\n",
       "        </div>\n",
       "        <div>\n",
       "            <img src=\"images/auld_fig8_11.png?1754876909148\" height=\"300px\">\n",
       "            <p style=\"text-align: center;\">Auld</p>\n",
       "        </div>\n",
       "    </div>"
      ],
      "text/plain": [
       "<IPython.core.display.HTML object>"
      ]
     },
     "metadata": {},
     "output_type": "display_data"
    },
    {
     "data": {
      "text/html": [
       "\n",
       "    <div style=\"display: flex; justify-content: center; align-items: flex-start;\">\n",
       "        <div style=\"margin-right: 10px;\">\n",
       "            <img src=\"otmp2-bulkdisp-ivp.png?1754876909148\" height=\"300px\">\n",
       "            <p style=\"text-align: center;\">Rotated to Z-cut</p>\n",
       "        </div>\n",
       "        <div>\n",
       "            <img src=\"otmp5-bulkdisp-ivp.png?1754876909148\" height=\"300px\">\n",
       "            <p style=\"text-align: center;\">xy slice in starting Y-cut orientation</p>\n",
       "        </div>\n",
       "        <div>\n",
       "            <img src=\"images/auld_fig8_12.png?1754876909148\" height=\"300px\">\n",
       "            <p style=\"text-align: center;\">Auld</p>\n",
       "        </div>\n",
       "    </div>"
      ],
      "text/plain": [
       "<IPython.core.display.HTML object>"
      ]
     },
     "metadata": {},
     "output_type": "display_data"
    }
   ],
   "source": [
    "mat_LiNbO3_y = mat_LiNbO3.copy()\n",
    "mat_LiNbO3_x = mat_LiNbO3.copy()\n",
    "mat_LiNbO3_x.set_orientation('negx-cut')\n",
    "mat_LiNbO3_z = mat_LiNbO3.copy()\n",
    "mat_LiNbO3_z.set_orientation('z-cut')\n",
    "\n",
    "mat_LiNbO3_x.enable_piezoelectric_effects()\n",
    "mat_LiNbO3_y.enable_piezoelectric_effects()\n",
    "mat_LiNbO3_z.enable_piezoelectric_effects()\n",
    "\n",
    "mvs= (1/1.8e-4,)\n",
    "img_y_on = mat_LiNbO3_y.plot_bulk_dispersion_ivp(\"otmp1\", show_poln=True, mark_velocities=mvs)\n",
    "img_z_on = mat_LiNbO3_z.plot_bulk_dispersion_ivp(\"otmp2\", show_poln=True, mark_velocities=mvs)\n",
    "img_x_on = mat_LiNbO3_x.plot_bulk_dispersion_ivp(\"otmp3\", show_poln=True, mark_velocities=mvs)\n",
    "\n",
    "img_xz_on = mat_LiNbO3_y.plot_bulk_dispersion_ivp(\"otmp4\", show_poln=True, cut_plane='xz', mark_velocities=mvs)\n",
    "img_xy_on = mat_LiNbO3_y.plot_bulk_dispersion_ivp(\"otmp5\", show_poln=True, cut_plane='xy', mark_velocities=mvs)\n",
    "img_yz_on = mat_LiNbO3_y.plot_bulk_dispersion_ivp(\"otmp6\", show_poln=True, cut_plane='yz', mark_velocities=mvs)\n",
    "\n",
    "img_pair(img_y_on, img_xz_on,  'Starting Y-cut', 'xz slice in starting Y-cut orientation', 300, 300 )\n",
    "img_triple(img_x_on, img_yz_on, 'images/auld_fig8_11.png', 'Rotated to X-cut', 'yz slice in starting Y-cut orientation', 'Auld', 300, 300, 300 )\n",
    "img_triple(img_z_on, img_xy_on, 'images/auld_fig8_12.png','Rotated to Z-cut', 'xy slice in starting Y-cut orientation', 'Auld', 300, 300, 300 )\n"
   ]
  },
  {
   "cell_type": "markdown",
   "metadata": {},
   "source": [
    "# Other material comparisons"
   ]
  },
  {
   "cell_type": "markdown",
   "metadata": {},
   "source": [
    "Cubic material: GaAs"
   ]
  },
  {
   "cell_type": "code",
   "execution_count": 175,
   "metadata": {},
   "outputs": [],
   "source": [
    "mat_GaAs = materials.make_material(\"GaAs_1970_Auld\")"
   ]
  },
  {
   "cell_type": "markdown",
   "metadata": {},
   "source": [
    "The slowness plot (top-right) below reproduces Fig. 7.2 of Auld vol. 1, while\n",
    "the ray surface plot (lower-left) reproduces Fig. 7.9."
   ]
  },
  {
   "cell_type": "code",
   "execution_count": 179,
   "metadata": {},
   "outputs": [
    {
     "data": {
      "text/html": [
       "\n",
       "        <div style=\"margin-right: 10px;\">\n",
       "            <img src=\"tmp_defcut-bulkdisp-all.png?1754877064174\" height=\"400px\">\n",
       "            <p style=\"text-align: left;\">GaAs bulk dispersion</p>\n",
       "        </div>"
      ],
      "text/plain": [
       "<IPython.core.display.HTML object>"
      ]
     },
     "metadata": {},
     "output_type": "display_data"
    }
   ],
   "source": [
    "mat_GaAs.disable_piezoelectric_effects()\n",
    "\n",
    "fimg = mat_GaAs.plot_bulk_dispersion_all(\"tmp_defcut\", show_poln=False)\n",
    "img_single(fimg, 'GaAs bulk dispersion', height=400)"
   ]
  },
  {
   "cell_type": "markdown",
   "metadata": {},
   "source": [
    "The following plots show comparison with results from Auld."
   ]
  },
  {
   "cell_type": "code",
   "execution_count": null,
   "metadata": {},
   "outputs": [
    {
     "data": {
      "text/html": [
       "\n",
       "    <div style=\"display: flex; justify-content: center; align-items: flex-start;\">\n",
       "        <div style=\"margin-right: 10px;\">\n",
       "            <img src=\"tmp_zcut_piezo_on-bulkdisp-ivp.png?1754877067983\" height=\"300px\">\n",
       "            <p style=\"text-align: center;\">Y-cut, piezo off - NumBAT</p>\n",
       "        </div>\n",
       "        <div>\n",
       "            <img src=\"images/auld_fig7_2.png?1754877067983\" height=\"300px\">\n",
       "            <p style=\"text-align: center;\">Y-cut, piezo off - Auld Fig. 7.2</p>\n",
       "        </div>\n",
       "    </div>"
      ],
      "text/plain": [
       "<IPython.core.display.HTML object>"
      ]
     },
     "metadata": {},
     "output_type": "display_data"
    },
    {
     "data": {
      "text/html": [
       "\n",
       "    <div style=\"display: flex; justify-content: center; align-items: flex-start;\">\n",
       "        <div style=\"margin-right: 10px;\">\n",
       "            <img src=\"tmp_zcut_piezo_on-bulkdisp-vg.png?1754877068088\" height=\"300px\">\n",
       "            <p style=\"text-align: center;\">Y-cut, piezo off - NumBAT</p>\n",
       "        </div>\n",
       "        <div>\n",
       "            <img src=\"images/auld_fig7_9.png?1754877068088\" height=\"300px\">\n",
       "            <p style=\"text-align: center;\">Y-cut, piezo off - Auld Fig. 7.9</p>\n",
       "        </div>\n",
       "    </div>"
      ],
      "text/plain": [
       "<IPython.core.display.HTML object>"
      ]
     },
     "metadata": {},
     "output_type": "display_data"
    }
   ],
   "source": [
    "\n",
    "imggaasy = mat_GaAs.plot_bulk_dispersion_ivp(\"tmp_zcut_piezo_on\", show_poln=True, flip_x=True)\n",
    "img_pair(imggaasy, \"images/auld_fig7_2.png\",  'Y-cut, piezo off - NumBAT', 'Y-cut, piezo off - Auld Fig. 7.2')\n",
    "\n",
    "imggaasy = mat_GaAs.plot_bulk_dispersion_vg(\"tmp_zcut_piezo_on\", show_poln=True, flip_x=True)\n",
    "img_pair(imggaasy, \"images/auld_fig7_9.png\",  'Y-cut, piezo off - NumBAT', 'Y-cut, piezo off - Auld Fig. 7.9')"
   ]
  },
  {
   "cell_type": "markdown",
   "metadata": {},
   "source": [
    "Now let's reproduce Fig. 7.3.\n",
    "To preserve the $z$ axis, rotate $[1,-1,0]$ into the $x$ axis and $[1,-1,1]$ into the horizontal plane, \n",
    "we need a $\\pi/4$ rotation around $z$: "
   ]
  },
  {
   "cell_type": "code",
   "execution_count": 181,
   "metadata": {},
   "outputs": [
    {
     "data": {
      "image/png": "[encoded data removed]",
      "text/plain": [
       "<IPython.core.display.Image object>"
      ]
     },
     "metadata": {
      "image/png": {
       "width": 300
      }
     },
     "output_type": "display_data"
    }
   ],
   "source": [
    "mat_rot = mat_GaAs.copy()\n",
    "mat_rot.rotate([0,0,1], np.pi/4)\n",
    "fimg = mat_rot.make_crystal_axes_plot('ttx')\n",
    "display(Image(fimg, width=300))"
   ]
  },
  {
   "cell_type": "code",
   "execution_count": 182,
   "metadata": {},
   "outputs": [
    {
     "data": {
      "text/html": [
       "\n",
       "    <div style=\"display: flex; justify-content: center; align-items: flex-start;\">\n",
       "        <div style=\"margin-right: 10px;\">\n",
       "            <img src=\"tmp_rot1_piezo_on-bulkdisp-ivp.png?1754877093745\" height=\"300px\">\n",
       "            <p style=\"text-align: center;\">rotatedcut, piezo off - NumBAT</p>\n",
       "        </div>\n",
       "        <div>\n",
       "            <img src=\"images/auld_fig7_3.png?1754877093745\" height=\"300px\">\n",
       "            <p style=\"text-align: center;\">rotated, piezo off - Auld Fig. 7.3</p>\n",
       "        </div>\n",
       "    </div>"
      ],
      "text/plain": [
       "<IPython.core.display.HTML object>"
      ]
     },
     "metadata": {},
     "output_type": "display_data"
    }
   ],
   "source": [
    "imggaasrot1 = mat_rot.plot_bulk_dispersion_ivp(\"tmp_rot1_piezo_on\", show_poln=True, flip_x=True)\n",
    "img_pair(imggaasrot1, \"images/auld_fig7_3.png\",  'rotatedcut, piezo off - NumBAT', 'rotated, piezo off - Auld Fig. 7.3')"
   ]
  },
  {
   "cell_type": "markdown",
   "metadata": {},
   "source": [
    "### A hexagonal material: Cadmium sulfide\n",
    "Here's an example of a material with yet another symmetry. Cadmium sulfide is a hexagonal crystal with symmetry group 6mm."
   ]
  },
  {
   "cell_type": "code",
   "execution_count": 188,
   "metadata": {},
   "outputs": [
    {
     "data": {
      "text/html": [
       "\n",
       "    <div style=\"display: flex; justify-content: center; align-items: flex-start;\">\n",
       "        <div style=\"margin-right: 10px;\">\n",
       "            <img src=\"tmp_cds_xcut_piezo-off-bulkdisp-ivp.png?1754877278981\" height=\"300px\">\n",
       "            <p style=\"text-align: center;\">X-cut CdS, piezo off - NumBAT</p>\n",
       "        </div>\n",
       "        <div>\n",
       "            <img src=\"images/auld_fig7_6.png?1754877278981\" height=\"300px\">\n",
       "            <p style=\"text-align: center;\">X-cut, piezo off - Auld Fig. 7.6</p>\n",
       "        </div>\n",
       "    </div>"
      ],
      "text/plain": [
       "<IPython.core.display.HTML object>"
      ]
     },
     "metadata": {},
     "output_type": "display_data"
    }
   ],
   "source": [
    "mat_CdS = materials.make_material(\"CdS_1973_Auld\")\n",
    "mat_CdS.disable_piezoelectric_effects()\n",
    "mat_CdS.set_orientation('x-cut')\n",
    "imgcds = mat_CdS.plot_bulk_dispersion_ivp(\"tmp_cds_xcut_piezo-off\", show_poln=True, flip_x=True)\n",
    "img_pair(imgcds, \"images/auld_fig7_6.png\",  'X-cut CdS, piezo off - NumBAT', 'X-cut, piezo off - Auld Fig. 7.6')"
   ]
  },
  {
   "cell_type": "markdown",
   "metadata": {},
   "source": [
    "We rotate to the $Z$-cut orientation to get a cut through the horizontal symmetry plane for which the dispersion curves have circular symmetry."
   ]
  },
  {
   "cell_type": "code",
   "execution_count": 187,
   "metadata": {},
   "outputs": [
    {
     "data": {
      "text/html": [
       "\n",
       "        <div style=\"margin-right: 10px;\">\n",
       "            <img src=\"tmp_defcut-bulkdisp-all.png?1754877212318\" height=\"400px\">\n",
       "            <p style=\"text-align: left;\">CdS bulk dispersion</p>\n",
       "        </div>"
      ],
      "text/plain": [
       "<IPython.core.display.HTML object>"
      ]
     },
     "metadata": {},
     "output_type": "display_data"
    }
   ],
   "source": [
    "mat_CdS.set_orientation('z-cut')\n",
    "fimg = mat_CdS.plot_bulk_dispersion_all(\"tmp_defcut\", show_poln=False)\n",
    "img_single(fimg, 'CdS bulk dispersion', height=400)"
   ]
  }
 ],
 "metadata": {
  "kernelspec": {
   "display_name": "nbpy3",
   "language": "python",
   "name": "python3"
  },
  "language_info": {
   "codemirror_mode": {
    "name": "ipython",
    "version": 3
   },
   "file_extension": ".py",
   "mimetype": "text/x-python",
   "name": "python",
   "nbconvert_exporter": "python",
   "pygments_lexer": "ipython3",
   "version": "3.13.3"
  }
 },
 "nbformat": 4,
 "nbformat_minor": 2
}
