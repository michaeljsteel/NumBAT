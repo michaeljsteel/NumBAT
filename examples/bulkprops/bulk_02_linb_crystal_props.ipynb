{
 "cells": [
  {
   "cell_type": "markdown",
   "metadata": {},
   "source": [
    "# Introduction to piezoelectric properties with lithium niobate"
   ]
  },
  {
   "cell_type": "markdown",
   "metadata": {},
   "source": [
    "Continuing the study of bulk material elastic properties from the previous tutorial, let's take a look at the orientational dependence of lithium niobate, an increasingly important material in SBS.\n",
    "\n",
    "The numerical values for the $\\mathrm{LiNbO}_3$ material properties  are taken from [Rodrigues et al, JOSA B 40, D56 (2023)](https://doi.org//10.1364/JOSAB.482656).\n"
   ]
  },
  {
   "cell_type": "code",
   "execution_count": 1,
   "metadata": {},
   "outputs": [],
   "source": [
    "%load_ext autoreload\n",
    "%autoreload 3\n",
    "\n",
    "import sys\n",
    "#import os\n",
    "import time\n",
    "import numpy as np\n",
    "from IPython.display import Image, display, HTML\n",
    "\n",
    "sys.path.append(\"../../backend\")\n",
    "import materials\n",
    "\n",
    "def img_single(fn, cap='', width=300):\n",
    "    cache_buster=int(time.time() * 1000)\n",
    "    #<div style=\"display: flex; justify-content: center; align-items: flex-start;\">\n",
    "    #</div>\n",
    "\n",
    "    html_string = f\"\"\"\n",
    "        <div style=\"margin-right: 10px;\">\n",
    "            <img src=\"{fn}?{cache_buster}\" width=\"{width}px\">\n",
    "            <p style=\"text-align: center;\">{cap}</p>\n",
    "        </div>\"\"\"\n",
    "\n",
    "    display(HTML(html_string))\n",
    "\n",
    "def img_pair(fn1, fn2, cap1='', cap2='', width1=300, width2=300):\n",
    "    cache_buster=int(time.time() * 1000)\n",
    "    html_string = f\"\"\"\n",
    "    <div style=\"display: flex; justify-content: center; align-items: flex-start;\">\n",
    "        <div style=\"margin-right: 10px;\">\n",
    "            <img src=\"{fn1}?{cache_buster}\" width=\"{width1}px\">\n",
    "            <p style=\"text-align: center;\">{cap1}</p>\n",
    "        </div>\n",
    "        <div>\n",
    "            <img src=\"{fn2}?{cache_buster}\" width=\"{width2}px\">\n",
    "            <p style=\"text-align: center;\">{cap2}</p>\n",
    "        </div>\n",
    "    </div>\"\"\"\n",
    "\n",
    "    display(HTML(html_string))"
   ]
  },
  {
   "cell_type": "markdown",
   "metadata": {},
   "source": [
    "## Stiffness tensor under crystal rotations\n",
    "\n"
   ]
  },
  {
   "cell_type": "markdown",
   "metadata": {},
   "source": [
    "### The default orientation:  $y$-cut\n",
    "\n",
    "To review, in NumBAT, the *laboratory* axes $x$, $y$ and $z$ are fixed. Propagation always occurs along the $z$ direction and the vertical direction out of the substrate is always along $y$.\n",
    "\n",
    "The *crystal* axes of a material, denoted $X$, $Y$ and $Z$, or $\\hat{c}_x$, $\\hat{c}_y$, $\\hat{c}_z$ can be rotated.\n",
    "\n",
    "The material is defined in the definition json files with the crystal and laboratory axes aligned, and is thus in $y$-cut form: the crystal $\\hat{c}_y$ axis points up out of the waveguide, with the crystal symmetry axis $\\hat{c}_z$ lying along the propagation direction $z$.\n"
   ]
  },
  {
   "cell_type": "markdown",
   "metadata": {},
   "source": [
    "We'll look at this for a material file describing lithium niobate. (Remember that NumBAT, the same material can have multiple definition files to allow exact comparison with literature references.)"
   ]
  },
  {
   "cell_type": "code",
   "execution_count": null,
   "metadata": {},
   "outputs": [],
   "source": [
    "mat_LiNbO3 = materials.make_material(\"LiNbO3_2023_Rodrigues\")\n",
    "mat_LiNbO3_y = mat_LiNbO3  # for naming convenience later"
   ]
  },
  {
   "cell_type": "markdown",
   "metadata": {},
   "source": [
    "Here is the default orientation as just described with the crystal and laboratory axes aligned.\n"
   ]
  },
  {
   "cell_type": "code",
   "execution_count": null,
   "metadata": {},
   "outputs": [],
   "source": [
    "pref='tmp_LiNbO3'\n",
    "fnimg = mat_LiNbO3.make_crystal_axes_plot(pref+'-ycut')\n",
    "img_single(fnimg, width=300)"
   ]
  },
  {
   "cell_type": "markdown",
   "metadata": {},
   "source": [
    "The crystal properties show that for this orientation the two shear modes for propagation along $z$ are degenerate:"
   ]
  },
  {
   "cell_type": "code",
   "execution_count": null,
   "metadata": {},
   "outputs": [],
   "source": [
    "print(mat_LiNbO3.elastic_properties())"
   ]
  },
  {
   "cell_type": "markdown",
   "metadata": {},
   "source": [
    "This is not true if the wave vector direction in the $x$-$z$ plane is varied.\n",
    "\n",
    "By solving the Christoffel equation as the wave vector rotates in the $x$-$z$ plane we can map out curves of the phase velocity, inverse phase velocity (or \"slowness\"), and the magnitude of the group velocity $|v_g(\\kappa)|$.\n",
    "\n",
    "The faint circular lines mark radial velocities at 1 km/s intervals.\n"
   ]
  },
  {
   "cell_type": "code",
   "execution_count": null,
   "metadata": {},
   "outputs": [],
   "source": [
    "imgdisp_y = mat_LiNbO3.plot_bulk_dispersion(pref+'-ycut')\n",
    "img_single(imgdisp_y, width=400)"
   ]
  },
  {
   "cell_type": "markdown",
   "metadata": {},
   "source": [
    "For this material, it is quite hard to see the difference between the phase and group velocity plots. That is more obvious in some other materials.\n",
    "\n",
    "These plots can also be generated without the polarisation state markers:"
   ]
  },
  {
   "cell_type": "code",
   "execution_count": null,
   "metadata": {},
   "outputs": [],
   "source": [
    "imgdisp_yb = mat_LiNbO3.plot_bulk_dispersion(pref, show_poln=False)\n",
    "img_single(imgdisp_yb, width=400)"
   ]
  },
  {
   "cell_type": "markdown",
   "metadata": {},
   "source": [
    "### The $z$-cut orientation"
   ]
  },
  {
   "cell_type": "markdown",
   "metadata": {},
   "source": [
    "Now let's rotate the starting crystal so the primary crystal symmetry axis $\\hat{c}_z$ points upwards along $\\hat{y}$, \n",
    "with the $\\hat{c}_y$ axis along $-\\hat{z}$. This corresponds to Fig. 2a in Rodrigues et al."
   ]
  },
  {
   "cell_type": "code",
   "execution_count": null,
   "metadata": {},
   "outputs": [],
   "source": [
    "mat_LiNbO3_z = mat_LiNbO3.copy()\n",
    "mat_LiNbO3_z.set_orientation('z-cut')"
   ]
  },
  {
   "cell_type": "code",
   "execution_count": null,
   "metadata": {},
   "outputs": [],
   "source": [
    "fimg = mat_LiNbO3_z.make_crystal_axes_plot(pref+'-zcut')\n",
    "img_single(fimg, width=300)"
   ]
  },
  {
   "cell_type": "markdown",
   "metadata": {},
   "source": [
    "With the 6-fold symmetry axis $Z$ pointing up along $y$, the dispersion cuts in the $x$-$z$ plane now display the full 6-fold symmetry associated with the trigonal structure of lithium niobate:"
   ]
  },
  {
   "cell_type": "code",
   "execution_count": null,
   "metadata": {},
   "outputs": [],
   "source": [
    "imgdisp_z = mat_LiNbO3_z.plot_bulk_dispersion(pref+'-zcut')\n",
    "img_single(imgdisp_z,width=500)"
   ]
  },
  {
   "cell_type": "markdown",
   "metadata": {},
   "source": [
    "### The $x$-cut orientation"
   ]
  },
  {
   "cell_type": "markdown",
   "metadata": {},
   "source": [
    "For completeness, we can look at the $x$-cut properties:"
   ]
  },
  {
   "cell_type": "code",
   "execution_count": null,
   "metadata": {},
   "outputs": [],
   "source": [
    "mat_LiNbO3_x =  mat_LiNbO3.copy()\n",
    "mat_LiNbO3_x.set_orientation('x-cut')\n",
    "\n",
    "print(mat_LiNbO3_x.elastic_properties())"
   ]
  },
  {
   "cell_type": "code",
   "execution_count": null,
   "metadata": {},
   "outputs": [],
   "source": [
    "fnimg = mat_LiNbO3_x.make_crystal_axes_plot(pref+'-xcut')\n",
    "img_single(fnimg,width=300)"
   ]
  },
  {
   "cell_type": "markdown",
   "metadata": {},
   "source": [
    "The distinction between the $x$-cut and $y$-cut dispersion is subtle, and it helpful to plot them side by side."
   ]
  },
  {
   "cell_type": "code",
   "execution_count": null,
   "metadata": {},
   "outputs": [],
   "source": [
    "imgdisp_x = mat_LiNbO3_x.plot_bulk_dispersion(pref+'-xcut')\n",
    "img_pair(imgdisp_y, imgdisp_x, 'Y cut', 'X cut', 400, 400)"
   ]
  },
  {
   "cell_type": "markdown",
   "metadata": {},
   "source": [
    "## Photoelastic response"
   ]
  },
  {
   "cell_type": "markdown",
   "metadata": {},
   "source": [
    "Now let's consider the influence of crystal orientation on the photoelastic coupling.\n",
    "\n",
    "The photoelastic tensor elements $p_{ijkl}$ also change in value as the crystal is rotated. \n",
    "Once again, we can plot the coefficients in the lab frame coordinates, as a crystal of given orientation is imagined to be rotated around the $y$ axis.\n",
    "\n",
    "The desired elements of the tensor are specified in the Voigt notation $p_{IJ}$.\n",
    "\n",
    "As with the results above, the $Z$-cut crystal exhibits the 3-fold trigonal symmetry, while the other two cuts have more complex behaviour."
   ]
  },
  {
   "cell_type": "code",
   "execution_count": null,
   "metadata": {},
   "outputs": [],
   "source": [
    "mat_LiNbO3_z.plot_photoelastic_IJ(pref, (\"11\",\"12\", \"13\", \"14\", \"15\"))"
   ]
  },
  {
   "cell_type": "code",
   "execution_count": null,
   "metadata": {},
   "outputs": [],
   "source": [
    "mat_LiNbO3_x.plot_photoelastic_IJ(pref, (\"11\",\"12\", \"13\", \"14\", \"15\"))"
   ]
  },
  {
   "cell_type": "code",
   "execution_count": null,
   "metadata": {},
   "outputs": [],
   "source": [
    "mat_LiNbO3_y.plot_photoelastic_IJ(pref, (\"11\",\"12\", \"13\", \"14\", \"15\"))"
   ]
  },
  {
   "cell_type": "markdown",
   "metadata": {},
   "source": [
    "# Piezolectric properties of lithium niobate"
   ]
  },
  {
   "cell_type": "markdown",
   "metadata": {},
   "source": [
    "Now let's turn to the piezoelectric response of lithium niobate.\n",
    "\n",
    "This version of lithium niobate has additional piezoelectric quantities defined: the strain piezo coefficient $d_{iJ}$ and the stress piezo coefficient $e_{iJ}$. These are $3\\times 6$  tensors with mixed ordinary and Voigt indices.\n",
    "\n"
   ]
  },
  {
   "cell_type": "markdown",
   "metadata": {},
   "source": [
    "## Piezo slowness curves for x-cut\n",
    "\n",
    "There are a number of piezoelectric phenomena that involve coupling of the optical field and a material-related polarisation field. Perhaps the most basic effect is a \"piezo-stiffening\" of the stiffness tensor (a genuinely confusing terminology).\n",
    "This effect is discussed in Auld volume 1, section 8.F.\n",
    "\n",
    "To good approximation this is an adjustment to the optical properties only in which the \"raw\" stiffness tensor $c_{IJ}$ is modified by the piezo influence.\n",
    "\n",
    "It is described by a change to the Christoffel equation so that the bulk optical modes are altered. The revised Christoffel equation has the form \n",
    "$$\n",
    "q^2 \\Gamma_{ij} v_j = \\rho \\Omega^2 v_i,\n",
    "$$\n",
    "where \n",
    "$$\n",
    "\\Gamma_{ij} = l_{iK} c_{KL} l_{Lj},\n",
    "$$\n",
    "and the matrix $l_{Lj}$ indexed by Voigt ($L$) and Cartesian indices ($j$) is composed of the wavevector components $\\vec \\kappa $:\n",
    "\n",
    "$$\n",
    "l_{Lj} = \\begin{bmatrix} \n",
    "\\kappa_x & 0 & 0 \\\\\n",
    "0 & \\kappa_y & 0  \\\\\n",
    "0 & 0& \\kappa_z \\\\\n",
    "0 & \\kappa_z & \\kappa_y \\\\\n",
    "\\kappa_z & 0 & \\kappa_x \\\\\n",
    "\\kappa_y & \\kappa_x & 0\n",
    "\\end{bmatrix}.\n",
    "$$ \n",
    "\n",
    "The *piezoelastically stiffened elastic constant* is\n",
    "$$\n",
    "c^{p}_{KL}=c^{E}_{KL} + \\frac{[e_{Kj} l_j][l_i e_{iL}]}{l_i \\epsilon^{S}_{ij} l_j}.\n",
    "$$\n"
   ]
  },
  {
   "cell_type": "markdown",
   "metadata": {},
   "source": [
    "We can explore this for different crystal cuts with piezo effects both disabled and active."
   ]
  },
  {
   "cell_type": "code",
   "execution_count": null,
   "metadata": {},
   "outputs": [
    {
     "name": "stdout",
     "output_type": "stream",
     "text": [
      "\n",
      " Optical dielectric constant eps_ij.\n",
      "   Plain 2-tensor:\n",
      "    [[5.293+0.j 0.   +0.j 0.   +0.j]\n",
      "     [0.   +0.j 5.293+0.j 0.   +0.j]\n",
      "     [0.   +0.j 0.   +0.j 4.891+0.j]]\n",
      "\n",
      " Optical dielectric constant eps_ij.\n",
      "   Plain 2-tensor:\n",
      "    [[ 5.2930e+00+0.j  0.0000e+00+0.j  0.0000e+00+0.j]\n",
      "     [ 0.0000e+00+0.j  4.8910e+00+0.j -2.4615e-17+0.j]\n",
      "     [ 0.0000e+00+0.j -2.4615e-17+0.j  5.2930e+00+0.j]]\n"
     ]
    }
   ],
   "source": [
    "import materials\n",
    "mat_LiNbO3 = materials.make_material(\"LiNbO3_1973_Auld\")\n",
    "#mat_LiNbO3 = materials.make_material(\"LiNbO3aniso_2021_Steel\")\n",
    "\n",
    "mat_LiNbO3_x = mat_LiNbO3.copy()\n",
    "#mat_LiNbO3_x.disable_piezoelectric_effects()\n",
    "mat_LiNbO3_x.set_orientation('x-cut')\n"
   ]
  },
  {
   "cell_type": "code",
   "execution_count": 53,
   "metadata": {},
   "outputs": [
    {
     "name": "stdout",
     "output_type": "stream",
     "text": [
      "Material: LiNbO3\n",
      "  File: LiNbO3_1973_Auld\n",
      "  Source: B. A. Auld\n",
      "  Date: 1973\n"
     ]
    }
   ],
   "source": [
    "print(mat_LiNbO3_x)"
   ]
  },
  {
   "cell_type": "code",
   "execution_count": 54,
   "metadata": {},
   "outputs": [
    {
     "name": "stdout",
     "output_type": "stream",
     "text": [
      "Material: LiNbO3\n",
      "  File: LiNbO3_1973_Auld\n",
      "  Source: B. A. Auld\n",
      "  Date: 1973\n",
      "  Crystal class:  Trigonal\n",
      "  Crystal group:  3m\n",
      "\n",
      " Optical dielectric constant eps_ij.\n",
      "   Plain 2-tensor:\n",
      "    [[5.293+0.j 0.   +0.j 0.   +0.j]\n",
      "     [0.   +0.j 5.293+0.j 0.   +0.j]\n",
      "     [0.   +0.j 0.   +0.j 4.891+0.j]]\n",
      "\n",
      " Stiffness c_IJ, unit: GPa.\n",
      "   Voigt 4-tensor:\n",
      "    [[ 2.0300e+02  5.3000e+01  7.5000e+01 -1.6533e-15  9.0000e+00  0.0000e+00]\n",
      "     [ 5.3000e+01  2.0300e+02  7.5000e+01  1.6533e-15 -9.0000e+00 -1.7219e-47]\n",
      "     [ 7.5000e+01  7.5000e+01  2.4500e+02  0.0000e+00  0.0000e+00  0.0000e+00]\n",
      "     [-1.6533e-15  1.6533e-15  0.0000e+00  6.0000e+01  0.0000e+00 -9.0000e+00]\n",
      "     [ 9.0000e+00 -9.0000e+00  0.0000e+00  0.0000e+00  6.0000e+01 -1.6533e-15]\n",
      "     [ 0.0000e+00 -4.6606e-47  0.0000e+00 -9.0000e+00 -1.6533e-15  7.5000e+01]]\n",
      "\n",
      " Viscosity eta_IJ., unit: dimensionless.\n",
      "   Voigt 4-tensor:\n",
      "    [[0. 0. 0. 0. 0. 0.]\n",
      "     [0. 0. 0. 0. 0. 0.]\n",
      "     [0. 0. 0. 0. 0. 0.]\n",
      "     [0. 0. 0. 0. 0. 0.]\n",
      "     [0. 0. 0. 0. 0. 0.]\n",
      "     [0. 0. 0. 0. 0. 0.]]\n",
      "\n",
      " Photoelasticity p_IJ., unit: dimensionless.\n",
      "   Voigt 4-tensor:\n",
      "    [[-2.1000e-02  6.0000e-02  1.7200e-01  9.5522e-18 -5.2000e-02 -1.9259e-34]\n",
      "     [ 6.0000e-02 -2.1000e-02  1.7200e-01 -9.5522e-18  5.2000e-02  9.2982e-51]\n",
      "     [ 1.4100e-01  1.4100e-01  1.1800e-01  0.0000e+00  0.0000e+00  0.0000e+00]\n",
      "     [ 2.0023e-17 -2.0023e-17  0.0000e+00  1.2100e-01  0.0000e+00  1.0900e-01]\n",
      "     [-1.0900e-01  1.0900e-01  0.0000e+00  0.0000e+00  1.2100e-01  2.0023e-17]\n",
      "     [-1.9259e-34  4.8213e-51  0.0000e+00  5.2000e-02  9.5522e-18 -4.0500e-02]]\n",
      "\n",
      "\n",
      " Piezoelectric properties:\n",
      "  Piezo effects enabled:\n",
      " \n",
      " Strain piezo coefficient d_iJ, unit: pC/N.\n",
      "   Voigt 3-tensor:\n",
      "    [[  0.0000   0.0000   0.0000   0.0000   0.0000  -0.0000]\n",
      "     [  0.0000   0.0000   0.0000   0.0000   0.0000 -68.0000]\n",
      "     [  0.0000   0.0000   0.0000   0.0000   0.0000   0.0000]]\n",
      " \n",
      " Stress piezo coefficient e_iJ, unit: C/m^2.\n",
      "   Voigt 3-tensor:\n",
      "    [[ 0.0000  0.0000  0.0000  0.0000  0.0000 -0.0000]\n",
      "     [ 0.0000  0.0000  0.0000  0.0000  0.0000 -3.7020]\n",
      "     [ 0.0000  0.0000  0.0000  0.0000  0.0000 -0.0000]]\n",
      " \n",
      " Constant strain dielectric tensor eps^S_ij.\n",
      "   Plain 2-tensor:\n",
      "    [[ 44.0000   0.0000   0.0000]\n",
      "     [  0.0000  44.0000   0.0000]\n",
      "     [  0.0000   0.0000  29.0000]]\n",
      " \n",
      " Constant stress dielectric tensor eps^T_ij.\n",
      "   Plain 2-tensor:\n",
      "    [[44.0000  0.0000  0.0000]\n",
      "     [ 0.0000 44.0000 -0.0000]\n",
      "     [-0.0000  0.0000 29.0000]]\n",
      "\n"
     ]
    }
   ],
   "source": [
    "print(mat_LiNbO3_x.full_str())"
   ]
  },
  {
   "cell_type": "code",
   "execution_count": 44,
   "metadata": {},
   "outputs": [
    {
     "name": "stdout",
     "output_type": "stream",
     "text": [
      "Elastic properties of material LiNbO3_1973_Auld\n",
      "  Density:        4700.000 kg/m^3\n",
      "  Ref. index:     2.3000+0.0000j \n",
      "  Crystal class:  Trigonal\n",
      "  Crystal group:  3m\n",
      "  Stiffness c_IJ:\n",
      " Stiffness c_IJ, unit: GPa.\n",
      "   Voigt 4-tensor:\n",
      "    [[203.0000  53.0000  75.0000  -0.0000   9.0000   0.0000]\n",
      "     [ 53.0000 203.0000  75.0000   0.0000  -9.0000  -0.0000]\n",
      "     [ 75.0000  75.0000 245.0000   0.0000   0.0000   0.0000]\n",
      "     [ -0.0000   0.0000   0.0000  60.0000   0.0000  -9.0000]\n",
      "     [  9.0000  -9.0000   0.0000   0.0000  60.0000  -0.0000]\n",
      "     [  0.0000  -0.0000   0.0000  -9.0000  -0.0000  75.0000]]\n",
      "\n",
      "  Wave mode 1: v_p=7.2199 km/s,  |v_g|=7.2199 km/s,  u_j=[ 0.0000  0.0000  1.0000],  v_g=[ 0.0000  0.0000  7.2199] km/s\n",
      "  Wave mode 2: v_p=3.5729 km/s,  |v_g|=3.6129 km/s,  u_j=[ 1.0000  0.0000  0.0000],  v_g=[ 0.5359 -0.0000  3.5729] km/s\n",
      "  Wave mode 3: v_p=3.5729 km/s,  |v_g|=3.6129 km/s,  u_j=[ 0.0000  1.0000  0.0000],  v_g=[-0.5359  0.0000  3.5729] km/s\n",
      " Piezoelectric properties:\n",
      "  Piezo effects enabled:\n",
      " \n",
      " Strain piezo coefficient d_iJ, unit: pC/N.\n",
      "   Voigt 3-tensor:\n",
      "    [[  0.0000   0.0000   0.0000   0.0000   0.0000  -0.0000]\n",
      "     [  0.0000   0.0000   0.0000   0.0000   0.0000 -68.0000]\n",
      "     [  0.0000   0.0000   0.0000   0.0000   0.0000   0.0000]]\n",
      " \n",
      " Stress piezo coefficient e_iJ, unit: C/m^2.\n",
      "   Voigt 3-tensor:\n",
      "    [[ 0.0000  0.0000  0.0000  0.0000  0.0000 -0.0000]\n",
      "     [ 0.0000  0.0000  0.0000  0.0000  0.0000 -3.7020]\n",
      "     [ 0.0000  0.0000  0.0000  0.0000  0.0000 -0.0000]]\n",
      " \n",
      " Constant strain dielectric tensor eps^S_ij.\n",
      "   Plain 2-tensor:\n",
      "    [[ 44.0000   0.0000   0.0000]\n",
      "     [  0.0000  44.0000   0.0000]\n",
      "     [  0.0000   0.0000  29.0000]]\n",
      " \n",
      " Constant stress dielectric tensor eps^T_ij.\n",
      "   Plain 2-tensor:\n",
      "    [[44.0000  0.0000  0.0000]\n",
      "     [ 0.0000 44.0000 -0.0000]\n",
      "     [-0.0000  0.0000 29.0000]]\n"
     ]
    }
   ],
   "source": [
    "print(mat_LiNbO3_x.elastic_properties())"
   ]
  },
  {
   "cell_type": "markdown",
   "metadata": {},
   "source": [
    "### Piezo effects disabled"
   ]
  },
  {
   "cell_type": "markdown",
   "metadata": {},
   "source": [
    "Starting with piezo effects disabled, the slowness curve (top right) in the first plot below corresponds to Fig. 8.9 in Auld volume 1."
   ]
  },
  {
   "cell_type": "code",
   "execution_count": null,
   "metadata": {},
   "outputs": [],
   "source": [
    "imgoffx = mat_LiNbO3_x.plot_bulk_dispersion_all(\"tmp_xcut_piezo_off\", show_poln=False, flip_x=True)\n",
    "img_pair(imgoffx, \"images/auld_fig8_9.png\",  'X-cut, no piezo - NumBAT', 'X-cut, no piezo - Auld Fig. 8.9', 375, 300)"
   ]
  },
  {
   "cell_type": "markdown",
   "metadata": {},
   "source": [
    "To make this comparison clearer, we can plot just the slowness curve (inverse phase velocity) in the top right. The ``flip_x=True`` flag reverses the sense of the $x$-axis. This compensates for NumBAT plotting dispersion in the $q_x$-$q_z$ plane, while Auld uses the $q_x$-$q_y$ plane."
   ]
  },
  {
   "cell_type": "code",
   "execution_count": null,
   "metadata": {},
   "outputs": [],
   "source": [
    "\n",
    "imgoff2 = mat_LiNbO3_x.plot_bulk_dispersion_ivp(\"tmp_xcut_piezo_offb\", show_poln=False, flip_x=True)\n",
    "img_pair(imgoff2, \"images/auld_fig8_9.png\",  'X-cut, piezo off - NumBAT', 'X cut, piezo off - Auld Fig. 8.9', 420, 300)"
   ]
  },
  {
   "cell_type": "markdown",
   "metadata": {},
   "source": [
    "### Piezo effects enabled"
   ]
  },
  {
   "cell_type": "code",
   "execution_count": null,
   "metadata": {},
   "outputs": [],
   "source": [
    "mat_LiNbO3_x.enable_piezoelectric_effects()\n",
    "imgonx = mat_LiNbO3_x.plot_bulk_dispersion_ivp(\"tmp_xcut_piezo_on\", show_poln=True, flip_x=True)\n",
    "img_pair(imgonx, \"images/auld_fig8_11.png\",  'X-cut, piezo on - NumBAT', 'X-cut, piezo on - Auld Fig. 8.11', 400, 300)\n"
   ]
  },
  {
   "cell_type": "markdown",
   "metadata": {},
   "source": [
    "\n",
    "The slowness curve in the second plot with piezo effects enabled corresponds to Fig. 8.11 in Auld volume 1.\n"
   ]
  },
  {
   "cell_type": "code",
   "execution_count": null,
   "metadata": {},
   "outputs": [],
   "source": [
    "mat_LiNbO3_z = mat_LiNbO3.copy()\n",
    "mat_LiNbO3_z.set_orientation('z-cut')\n",
    "#mat_LiNbO3_z.disable_piezoelectric_effects()\n",
    "\n",
    "imgonz = mat_LiNbO3_z.plot_bulk_dispersion_ivp(\"tmp_zcut_piezo_on\", show_poln=True, flip_x=True)\n",
    "img_pair(imgonz, \"images/auld_fig8_12.png\",  'Z-cut, piezo on - NumBAT', 'Z-cut, piezo on - Auld Fig. 8.12', 400, 300)\n",
    "\n",
    "\n"
   ]
  },
  {
   "cell_type": "code",
   "execution_count": null,
   "metadata": {},
   "outputs": [],
   "source": []
  },
  {
   "cell_type": "code",
   "execution_count": null,
   "metadata": {},
   "outputs": [],
   "source": []
  },
  {
   "cell_type": "code",
   "execution_count": null,
   "metadata": {},
   "outputs": [],
   "source": []
  },
  {
   "cell_type": "code",
   "execution_count": null,
   "metadata": {},
   "outputs": [],
   "source": []
  },
  {
   "cell_type": "markdown",
   "metadata": {},
   "source": [
    "This should give Auld Fig. 8.11."
   ]
  },
  {
   "cell_type": "code",
   "execution_count": null,
   "metadata": {},
   "outputs": [],
   "source": [
    "mat_LiNbO3_negx.enable_piezoelectric_effects()\n",
    "imgon = mat_LiNbO3_negx.plot_bulk_dispersion(\"tmp_negxcut_piezo_on\", show_poln=False)\n",
    "display(Image(imgon, width=500))"
   ]
  },
  {
   "cell_type": "markdown",
   "metadata": {},
   "source": [
    "This should give Auld Fig. 8.12."
   ]
  },
  {
   "cell_type": "code",
   "execution_count": null,
   "metadata": {},
   "outputs": [],
   "source": [
    "mat_LiNbO3_z = mat_LiNbO3.copy()\n",
    "mat_LiNbO3_z.set_orientation('z-cut')\n",
    "\n",
    "mat_LiNbO3_z.enable_piezoelectric_effects()\n",
    "imgon = mat_LiNbO3_z.plot_bulk_dispersion(\"tmp_negxcut_piezo_on\", show_poln=False)\n",
    "display(Image(imgon, width=500))"
   ]
  },
  {
   "cell_type": "markdown",
   "metadata": {},
   "source": [
    "# Other material comparisons"
   ]
  },
  {
   "cell_type": "markdown",
   "metadata": {},
   "source": [
    "Cubic material: GaAs"
   ]
  },
  {
   "cell_type": "code",
   "execution_count": null,
   "metadata": {},
   "outputs": [],
   "source": [
    "mat_GaAs = materials.make_material(\"GaAs_1970_Auld\")"
   ]
  },
  {
   "cell_type": "markdown",
   "metadata": {},
   "source": [
    "The slowness plot (top-right) below reproduces Fig. 7.2 of Auld vol. 1, while\n",
    "the ray surface plot (lower-left) reproduces Fig. 7.9."
   ]
  },
  {
   "cell_type": "code",
   "execution_count": null,
   "metadata": {},
   "outputs": [],
   "source": [
    "mat_GaAs.disable_piezoelectric_effects()\n",
    "\n",
    "fimg = mat_GaAs.plot_bulk_dispersion(\"tmp_defcut\", show_poln=False)\n",
    "display(Image(fimg, width=500))"
   ]
  },
  {
   "cell_type": "markdown",
   "metadata": {},
   "source": [
    "Now let's reproduce Fig. 7.3.\n",
    "To preserve the $z$ axis, rotate $[1,-1,0]$ into the $x$ axis and $[1,-1,1]$ into the horizontal plane, \n",
    "we need a $\\pi/4$ rotation around $z$: "
   ]
  },
  {
   "cell_type": "code",
   "execution_count": null,
   "metadata": {},
   "outputs": [],
   "source": [
    "mat_rot = mat_GaAs.copy()\n",
    "mat_rot.rotate([0,0,1], np.pi/4)\n",
    "fimg = mat_rot.make_crystal_axes_plot('ttx')\n",
    "display(Image(fimg, width=300))"
   ]
  },
  {
   "cell_type": "code",
   "execution_count": null,
   "metadata": {},
   "outputs": [],
   "source": [
    "fimg = mat_rot.plot_bulk_dispersion(\"tmp_defcut\", show_poln=False)\n",
    "display(Image(fimg, width=800))"
   ]
  },
  {
   "cell_type": "markdown",
   "metadata": {},
   "source": [
    "Hexagonal material: Cadmium sulfide"
   ]
  },
  {
   "cell_type": "code",
   "execution_count": null,
   "metadata": {},
   "outputs": [],
   "source": [
    "mat_CdS = materials.make_material(\"CdS_1973_Auld\")\n",
    "mat_CdS.set_orientation('z-cut')\n",
    "#print(mat_CdS.full_str())"
   ]
  },
  {
   "cell_type": "markdown",
   "metadata": {},
   "source": [
    "We rotate to the $z$-cut orientation to get a dispersion cut through the horizontal symmetry plane.\n",
    "\n",
    "The slowness curve (top-right) then reproduces Auld Fig. 7.6."
   ]
  },
  {
   "cell_type": "code",
   "execution_count": null,
   "metadata": {},
   "outputs": [],
   "source": [
    "mat_CdS.set_orientation('z-cut')\n",
    "fimg = mat_CdS.plot_bulk_dispersion(\"tmp_defcut\", show_poln=False)\n",
    "display(Image(fimg, width=600))"
   ]
  },
  {
   "cell_type": "code",
   "execution_count": null,
   "metadata": {},
   "outputs": [],
   "source": [
    "\n",
    "\n",
    "\n",
    "\n"
   ]
  }
 ],
 "metadata": {
  "kernelspec": {
   "display_name": "nbpy3",
   "language": "python",
   "name": "python3"
  },
  "language_info": {
   "codemirror_mode": {
    "name": "ipython",
    "version": 3
   },
   "file_extension": ".py",
   "mimetype": "text/x-python",
   "name": "python",
   "nbconvert_exporter": "python",
   "pygments_lexer": "ipython3",
   "version": "3.13.3"
  }
 },
 "nbformat": 4,
 "nbformat_minor": 2
}
