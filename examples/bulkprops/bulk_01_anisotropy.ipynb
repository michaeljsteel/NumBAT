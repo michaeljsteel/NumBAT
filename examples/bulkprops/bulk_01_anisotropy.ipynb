{
 "cells": [
  {
   "cell_type": "markdown",
   "metadata": {},
   "source": [
    "# Tutorial 9a - Bulk elastic anisotropy"
   ]
  },
  {
   "cell_type": "markdown",
   "metadata": {},
   "source": [
    "Although much of the SBS literature assumes that the elastic materials are isotropic, anisotropy of the elastic response can be an important effect. In general, anisotropy is often more significant in elastic physics than electromagnetic physics, because of the more involved tensor nature of the elastic theory. For instance, *cubic* materials such as silicon have an isotropic linear electromagnetic response but an anisotropic elastic linear response.\n",
    "\n",
    "NumBAT supports arbitrary elastic nonlinearity in calculating elastic modes and the SBS gain of a waveguide. However, even the bulk elastic wave properties of anistropic materials is quite complex. This tutorial explores some of these effects. \n",
    "\n",
    "This exercise is most naturally performed interactively and so this example is written as a Jupyter notebook (see Tutorial 9 for an introduction to NumBAT in Jupyter)."
   ]
  },
  {
   "cell_type": "markdown",
   "metadata": {},
   "source": [
    "## Theory\n",
    "\n",
    "Bulk wave modes in linear elastic materials are found as eigen-solutions of the elastic wave equation for a uniform material.  \n",
    "We start from the elastic wave equation at fixed frequency $\\Omega$:\n",
    "$$\n",
    "\\nabla \\cdot \\bar{T} + \\Omega^2 \\rho(x,y) \\vec U = 0,\n",
    "$$\n",
    "where $\\bar{T}$ is the stress tensor and $\\vec U$ is the displacement field.\n",
    "(In this notebook, we use overlined quantities to denote a general tensor, and drop the overline when using index notation, so $\\bar{T} \\leftrightarrow T_{ij}$.)\n",
    "\n",
    "Using the constitutive equation\n",
    "$$\n",
    "\\bar{T} = \\bar{c} : \\bar{S} \\qquad \\leftrightarrow \\qquad T_{ij} = c_{ijkl} S_{kl},\n",
    "$$\n",
    "where $\\bar{c}$ is the stiffness tensor and $S_{kl}=\\frac{1}{2}(\\frac{\\partial U_k}{\\partial r_l}+\\frac{\\partial U_l}{\\partial r_k}) $ the strain tensor, we find\n",
    "\\begin{align*}\n",
    "\\nabla \\cdot (\\bar{c} : \\bar{S}) + \\omega^2 \\rho(x,y) \\vec U &= 0 \\\\\n",
    "\\nabla \\cdot (\\bar{c} : \\nabla_s \\vec{U}) + \\omega^2 \\rho(x,y) \\vec U &= 0 ,\n",
    "\\end{align*}\n",
    "where $\\nabla_S$ denotes the *symmetric gradient*, so that $S_{ij} = (\\nabla_S \\vec U)_{ij}$.\n",
    "\n",
    "## Bulk wave modes\n",
    "\n",
    "Looking for plane wave solutions of the form\n",
    "$$\n",
    "  \\vec U =  \\vec u e^{i (\\vec q \\cdot \\vec r -\\Omega t) } +  \\vec u^* e^{-i (\\vec q \\cdot \\vec r -\\Omega t) } ,\n",
    "$$\n",
    "leads to the 3x3 matrix eigenvalue equation (see Auld. vol 1, chapter 7)\n",
    "$$\n",
    "q^2 \\Gamma \\vec u = \\rho \\Omega^2 \\vec u, \n",
    "$$\n",
    "or in index form\n",
    "$$ \n",
    "(q^2 \\Gamma_{ij} - \\rho \\Omega^2 \\delta_{ij} )u_j = 0,\n",
    "$$\n",
    "which is known as the *Christoffel* equation. Here the wavevector $\\vec q$ has been written\n",
    "$\\vec q= q \\hat \\kappa$ in terms of the unit vector $\\hat \\kappa$.\n",
    "\n",
    "The 3x3 matrix operator $\\Gamma$ is most conveniently written using the compact Voigt notation as follows. We define the matrix\n",
    "$$\n",
    "\\mathrm{M}=\n",
    "\\begin{bmatrix}\n",
    "\\kappa_x & 0 & 0 & 0 & \\kappa_z & \\kappa_y \\\\\n",
    "0 & \\kappa_y & 0 &  \\kappa_z & 0 & \\kappa_x \\\\\n",
    " 0 & 0 & \\kappa_z & \\kappa_y & \\kappa_x & 0 \n",
    "\\end{bmatrix}.\n",
    "$$\n",
    "Then one can check by direct multiplication that $\\Gamma$ has the form\n",
    "$$\n",
    "\\Gamma(\\vec \\kappa) = \\mathrm{M} C_{IJ} \\mathrm{M}^t,\n",
    "$$\n",
    "where $C_{IJ}$ is the 6x6 Voigt matrix for the stiffness tensor (see Auld chapter 2).\n",
    "\n",
    "Material dispersion is typically negligible in elastic systems, so the stiffness is invariably treated as frequency independent. With that assumption, we can rewrite the Christoffel equation as \n",
    "$$ \n",
    "\\left( \\frac{1}{\\rho} \\Gamma_{ij} - \\frac{\\Omega^2}{q^2} \\delta_{ij} \\right) u_j = 0,\n",
    "$$\n",
    "and identify the eigenvalue as the square of the phase speed $v = \\Omega/q$:\n",
    "$$ \n",
    "\\left( \\frac{1}{\\rho} \\Gamma_{ij}(\\vec \\kappa) - v_p^2 \\delta_{ij} \\right) u_j = 0.\n",
    "$$\n",
    "\n",
    "If we neglect the viscosity, $\\Gamma$ is a real symmetric and positive definite matrix, so we are guaranteed to find three propagating wave modes with real phase velocities $v_{p,i}$ and orthogonal polarisation vectors $\\vec u_i$.\n",
    "\n",
    "\n",
    "In isotropic materials, the Christoffel equation has the expected solutions of one longitudinal wave, and two slower shear waves.\n",
    "In anisotropic materials, the polarisations can be more complicated. However, as $\\Gamma$ is a symmetric matrix, \n",
    "the three wave modes are always orthogonal."
   ]
  },
  {
   "cell_type": "markdown",
   "metadata": {
    "vscode": {
     "languageId": "plaintext"
    }
   },
   "source": [
    "## Group velocity\n",
    "Continuing to neglect any linear wave damping, we can identify the *group velocity*\n",
    "$$\n",
    "\\vec v_g \\equiv \\nabla_{\\vec q}  \\Omega,\n",
    "$$\n",
    "while the *energy velocity* $\\vec v_e$, defined as the ratio of the power flux and the energy density, is\n",
    "$$\n",
    "\\vec v_g \\equiv \\frac{P_e}{u_e}  = \\frac{- \\frac{1}{2}\\vec v \\cdot \\bar {T}}{\\bar{S} : \\bar{C} : \\bar{S}}.\n",
    "$$\n",
    "\n",
    "In this way, we can find both the phase velocity and group velocity as functions of the wavevector direction $\\vec \\kappa$.\n",
    "In the excellent approximation of zero material dispersion, these two velocities are independent of the wave frequency $\\Omega$. This is *not* true in waveguides, where the spatial confinement does lead to signficant dispersion.\n"
   ]
  },
  {
   "cell_type": "markdown",
   "metadata": {
    "vscode": {
     "languageId": "plaintext"
    }
   },
   "source": [
    "## Wave surfaces\n",
    "\n",
    "To understand the directional dependence of the different wave properties, it is common to plot several scalar quantities\n",
    "* the *slowness surface*, which is the reciprocal of the wave speed $\\frac{1}{v_p(\\vec \\kappa)}$\n",
    "* the *normal* or *phase velocity* surface, which is simply the wave speed function $v_p(\\vec \\kappa)$\n",
    "* the *ray surface*, which is the magnitude of the group velocity $|\\vec v_g(\\vec \\kappa)|$\n",
    "\n",
    "Note that while both the phase and group velocities are vectors, since the phase velocity is everywhere parallel to the wavevector direction\n",
    "$\\vec \\kappa$, it is convenient to simply refer to the wave speed $v_p$ written as a scalar. We can't do this with the group velocity, which for anisotropic materials, is not generally parallel to the wavevector."
   ]
  },
  {
   "cell_type": "code",
   "execution_count": 19,
   "metadata": {},
   "outputs": [
    {
     "name": "stdout",
     "output_type": "stream",
     "text": [
      "The autoreload extension is already loaded. To reload it, use:\n",
      "  %reload_ext autoreload\n"
     ]
    }
   ],
   "source": [
    "%load_ext autoreload\n",
    "%autoreload 3\n",
    "\n",
    "import sys\n",
    "import numpy as np\n",
    "from IPython.display import Image, display\n",
    "sys.path.append(\"../../backend\")\n",
    "\n",
    "from plotting.ipythontools import img_single, img_pair\n",
    "\n",
    "import materials"
   ]
  },
  {
   "cell_type": "markdown",
   "metadata": {},
   "source": [
    "## Wave properties of isotropic materials\n",
    "\n",
    "Let's start by calculating the above properties for an isotropic medium, say fused silica.\n",
    "We create the material and print out a few of its basic properties."
   ]
  },
  {
   "cell_type": "code",
   "execution_count": 20,
   "metadata": {},
   "outputs": [
    {
     "name": "stdout",
     "output_type": "stream",
     "text": [
      "Material: SiO2\n",
      "  File: SiO2_2021_Poulton\n",
      "  Source: Poulton\n",
      "  Date: 2021 \n",
      "\n",
      "Elastic properties of material SiO2_2021_Poulton\n",
      "  Density:        2200.000 kg/m^3\n",
      "  Ref. index:     1.4500+0.0000j \n",
      "  Crystal class:  Isotropic\n",
      "  Crystal group:  no sym\n",
      "  c11:            78.500 GPa\n",
      "  c12:            16.100 GPa\n",
      "  c44:            31.200 GPa\n",
      "  Young's mod E:  73.020 GPa\n",
      "  Poisson ratio:  0.170\n",
      "  Velocity long.: 5973.426 m/s\n",
      "  Velocity shear: 3765.875 m/s\n",
      "  Velocity Rayleigh: 3411.154 m/s\n"
     ]
    }
   ],
   "source": [
    "mat_a = materials.make_material(\"SiO2_2021_Poulton\")\n",
    "print(mat_a, '\\n')\n",
    "print(mat_a.elastic_properties())"
   ]
  },
  {
   "cell_type": "markdown",
   "metadata": {},
   "source": [
    "Observe that this material has a *crystal class* of *Isotropic*, and that its stiffness values satisfy the constraint\n",
    "$c_{44} = (c_{11}-c_{12})/2$ which holds for any isotropic material.  \n",
    "\n",
    "Further, being isotropic, it has a well-defined Young's modulus and Poisson ratio. In fact, for isotropic materials, NumBAT allows the material properties to be specified in terms of those quantities rather than the stiffness values if desired.\n",
    "\n",
    "The longitudinal and shear phase speeds are given for propagation along $z$ with $\\vec \\kappa = (0,0,1)$. Of course for this isotropic material, the phase speeds are actually the same in every direction. As expected, the longitudinal velocity is significantly larger the shear velocity. We can also see the Rayleigh or surface wave velocity, which is slower again."
   ]
  },
  {
   "cell_type": "markdown",
   "metadata": {},
   "source": [
    "We can examine the complete material tensors directly and confirm that they have the expected forms for an isotropic material:"
   ]
  },
  {
   "cell_type": "code",
   "execution_count": 21,
   "metadata": {},
   "outputs": [
    {
     "name": "stdout",
     "output_type": "stream",
     "text": [
      "\n",
      "\n",
      "Stiffness: \n",
      " Stiffness c_IJ, unit: GPa.\n",
      "   Voigt 4-tensor:\n",
      "    [[78.5 16.1 16.1  0.   0.   0. ]\n",
      "     [16.1 78.5 16.1  0.   0.   0. ]\n",
      "     [16.1 16.1 78.5  0.   0.   0. ]\n",
      "     [ 0.   0.   0.  31.2  0.   0. ]\n",
      "     [ 0.   0.   0.   0.  31.2  0. ]\n",
      "     [ 0.   0.   0.   0.   0.  31.2]]\n",
      "\n",
      "\n",
      "Photoelasticity: \n",
      " Photoelasticity p_IJ., unit: dimensionless.\n",
      "   Voigt 4-tensor:\n",
      "    [[ 0.121  0.271  0.271  0.     0.     0.   ]\n",
      "     [ 0.271  0.121  0.271  0.     0.     0.   ]\n",
      "     [ 0.271  0.271  0.121  0.     0.     0.   ]\n",
      "     [ 0.     0.     0.    -0.075  0.     0.   ]\n",
      "     [ 0.     0.     0.     0.    -0.075  0.   ]\n",
      "     [ 0.     0.     0.     0.     0.    -0.075]]\n"
     ]
    }
   ],
   "source": [
    "print('\\n\\nStiffness:', mat_a.stiffness_c_IJ)\n",
    "print('\\n\\nPhotoelasticity:', mat_a.photoel_p_IJ)"
   ]
  },
  {
   "cell_type": "markdown",
   "metadata": {},
   "source": [
    "## Crystal rotations"
   ]
  },
  {
   "cell_type": "markdown",
   "metadata": {},
   "source": [
    "In anisotropic crystals, different directions are not equivalent and we need tools to calculate the wave properties \n",
    "in any given propagation direction. Even for crystals with relatively high symmetry, this can give rise to surprisingly \n",
    "complicated behaviour.\n",
    "\n",
    "We can study the directional dependence of wave properties both by considering different choices of wavevector $\\hat{\\kappa}$, but also by fixing the propagation direction and reorienting the crystal by spatial rotations. \n",
    "It turns out to be most useful to use a combination of these two approaches as we will see.\n",
    "\n",
    "NumBAT supports several mechanisms for applying crystal rotations to materials. This allows modelling of waveguides fabricated using different *cuts* of the same material."
   ]
  },
  {
   "cell_type": "markdown",
   "metadata": {},
   "source": [
    "### Rotations of isotropic materials\n",
    "For an isotropic material, a crystal rotation should have no consequential effect.  \n",
    "\n",
    "Let's check that this holds before doing anything fancier.\n",
    "\n",
    "The following code creates a copy of the original material, and then rotates its crystal properties by an angle $\\pi/3$ around the direction of the vector $\\vec n=[1.0,1.0,1.0]$ (which need not be normalised) in the positive right-hand sense."
   ]
  },
  {
   "cell_type": "code",
   "execution_count": 22,
   "metadata": {
    "scrolled": true
   },
   "outputs": [
    {
     "name": "stdout",
     "output_type": "stream",
     "text": [
      "Elastic properties of material SiO2_2021_Poulton\n",
      "  Density:        2200.000 kg/m^3\n",
      "  Ref. index:     1.4500+0.0000j \n",
      "  Crystal class:  Isotropic\n",
      "  Crystal group:  no sym\n",
      "  c11:            78.500 GPa\n",
      "  c12:            16.100 GPa\n",
      "  c44:            31.200 GPa\n",
      "  Young's mod E:  73.020 GPa\n",
      "  Poisson ratio:  0.170\n",
      "  Velocity long.: 5973.426 m/s\n",
      "  Velocity shear: 3765.875 m/s\n",
      "  Velocity Rayleigh: 3411.154 m/s\n",
      "\n",
      " Stiffness c_IJ, unit: GPa.\n",
      "   Voigt 4-tensor:\n",
      "    [[ 7.8500e+01  1.6100e+01  1.6100e+01  7.1185e-16  6.7575e-15  2.1424e-15]\n",
      "     [ 1.6100e+01  7.8500e+01  1.6100e+01  5.1461e-15  1.9558e-15  5.1461e-15]\n",
      "     [ 1.6100e+01  1.6100e+01  7.8500e+01  6.4339e-15  4.8501e-15 -7.1867e-16]\n",
      "     [-2.2271e-15  3.3167e-15  3.9717e-15  3.1200e+01  5.4193e-16  3.0635e-16]\n",
      "     [ 3.2801e-15 -2.7286e-15  4.2338e-15  2.1831e-15  3.1200e+01  2.7579e-16]\n",
      "     [ 2.5412e-15  2.3630e-15  1.5705e-16  1.9753e-15  1.9724e-15  3.1200e+01]]\n",
      "\n",
      "\n",
      " Relative change in stiffness tensor: 7.5326e-16\n"
     ]
    }
   ],
   "source": [
    "mat_b = mat_a.copy()\n",
    "\n",
    "nvec = np.array([1.0,1.0,1.0])  # Create a rotation axis along the vector [1,1,1]. It does not need to be normalised.\n",
    "phi = np.pi/3.\n",
    "\n",
    "mat_b.rotate(nvec, phi)\n",
    "\n",
    "print(mat_b.elastic_properties())\n",
    "print(mat_b.stiffness_c_IJ)\n",
    "\n",
    "# Measure the difference in the original and rotated stiffness tensors\n",
    "\n",
    "err = np.linalg.norm(mat_b.stiffness_c_IJ.mat - mat_a.stiffness_c_IJ.mat)/np.abs(mat_a.stiffness_c_IJ.mat).max()\n",
    "print(f'\\n\\n Relative change in stiffness tensor: {err:.4e}')"
   ]
  },
  {
   "cell_type": "markdown",
   "metadata": {},
   "source": [
    "We can see from the last line that all the properties are unchanged to numerical precision.\n",
    "\n",
    "Rotations tend to introduce round-off errors at the machine precision that show up in entries that should be exactly zero.\n",
    "Since this can be distracting, we can request that the values at numerical precision are set to zero:"
   ]
  },
  {
   "cell_type": "code",
   "execution_count": 23,
   "metadata": {},
   "outputs": [
    {
     "name": "stdout",
     "output_type": "stream",
     "text": [
      "\n",
      " Stiffness c_IJ, unit: GPa.\n",
      "   Voigt 4-tensor:\n",
      "    [[78.5 16.1 16.1  0.   0.   0. ]\n",
      "     [16.1 78.5 16.1  0.   0.   0. ]\n",
      "     [16.1 16.1 78.5  0.   0.   0. ]\n",
      "     [ 0.   0.   0.  31.2  0.   0. ]\n",
      "     [ 0.   0.   0.   0.  31.2  0. ]\n",
      "     [ 0.   0.   0.   0.   0.  31.2]]\n"
     ]
    }
   ],
   "source": [
    "print(mat_b.stiffness_c_IJ.as_str(chop=True))"
   ]
  },
  {
   "cell_type": "markdown",
   "metadata": {},
   "source": [
    "### Crystal orientation diagram\n",
    "However, not *everything* is identical in NumBAT's representations of the original and rotated material, even though the two materials are physically the same .\n",
    "\n",
    "NumBAT materials include internal *crystal axes* $\\{\\hat{c}_x, \\hat{c}_y, \\hat{c}_z\\}$ that are a distinct concept from the *waveguide* (laboratory) axes $\\{\\hat{x}, \\hat{y}, \\hat{z}\\}$.  In NumBAT calculations, the waveguide cross-section always lies in the $\\hat{x}-\\hat{y}$ laboratory coordinate plane and the propagation direction is always along $\\hat{z}$. To ensure a right-handed coordinate set, $\\hat{z}$ should be viewed as pointing *out* of the screen. \n",
    "\n",
    "It's not that often that we need to worry about the distinction between propagation in or out of the screen, but there are some low symmetry materials where the two directions are inequivalent, as we see in the following tutorial. It also plays a role in determining the correct relative signs of the different field components.\n",
    "\n",
    "The crystal axes $\\{\\hat{c}_x, \\hat{c}_y, \\hat{c}_z\\}$ define the intrinsic directions for specifying the material stiffness, photoelastic and viscosity tensors.\n",
    "When a material is first loaded from its `json` file, the two sets of axes coincide, so that the Voigt indices $1..6$ correspond to the pairs $xx$, $yy$, $zz$, $xz$, $yz$, $xy$.\n",
    "When a rotation is performed, it is the *crystal* axes that move, so that the anisotropic material properties are \"dragged through\" the stationary waveguide structure. \n",
    "This can be a little confusing but is simpler than allowing the waveguide structure and propagation direction to rotate instead. It also corresponds directly to the idea of building devices from crystals purchased with different cut planes. \n",
    "\n",
    "To help ensure the correct orientation is selected, both sets of axes can be plotted together using the `Material.make_crystal_axes_plot` as follows:"
   ]
  },
  {
   "cell_type": "code",
   "execution_count": 24,
   "metadata": {},
   "outputs": [
    {
     "data": {
      "image/png": "[encoded data removed]",
      "text/plain": [
       "<IPython.core.display.Image object>"
      ]
     },
     "metadata": {
      "image/png": {
       "width": 300
      }
     },
     "output_type": "display_data"
    },
    {
     "data": {
      "image/png": "[encoded data removed]",
      "text/plain": [
       "<IPython.core.display.Image object>"
      ]
     },
     "metadata": {
      "image/png": {
       "width": 300
      }
     },
     "output_type": "display_data"
    }
   ],
   "source": [
    "prefa = 'tmp_mata'\n",
    "prefb = 'tmp_matb'\n",
    "\n",
    "mat_a.make_crystal_axes_plot(prefa)\n",
    "mat_b.make_crystal_axes_plot(prefb)\n",
    "\n",
    "display(Image(prefa+'-crystal.png', width=300))\n",
    "display(Image(prefb+'-crystal.png', width=300))"
   ]
  },
  {
   "cell_type": "markdown",
   "metadata": {},
   "source": [
    "Observe that the crystal axes for the first material are in the default orientation aligned with the laboratory axes. The crystal axes for the second material show the rotation around $(1,1,1)$ that we applied earlier. \n",
    "\n",
    "In these diagrams, the blue box gives a sense of the orientation of the waveguide with propagation out of the screen along $\\vec k \\propto \\hat{z}$."
   ]
  },
  {
   "cell_type": "markdown",
   "metadata": {},
   "source": [
    "## Anisotropic materials\n",
    "\n",
    "We now turn to anisotropic materials where the specific crystal orientation begins to matter. \n",
    "\n",
    "For we consider GaAs, which is a *cubic* material with symmetry group $4'3m$.\n",
    "GaAs is actually a *piezoelectric* material which brings added complexity to the elastic behaviour.\n",
    "We disable these effects in this tutorial and return to them in a subsequent tutorial.\n",
    "\n",
    "Let's look at the bulk properties of GaAs:"
   ]
  },
  {
   "cell_type": "code",
   "execution_count": 25,
   "metadata": {},
   "outputs": [
    {
     "name": "stdout",
     "output_type": "stream",
     "text": [
      "Material: GaAs [100]\n",
      "  File: GaAs_1970_Auld\n",
      "  Source: Auld\n",
      "  Date: 1970 \n",
      "\n",
      "Elastic properties of material GaAs_1970_Auld\n",
      "  Density:        5307.000 kg/m^3\n",
      "  Ref. index:     3.3702+0.0000j \n",
      "  Crystal class:  Cubic\n",
      "  Crystal group:  4'3m\n",
      "   \n",
      " Stiffness c_IJ, unit: GPa.\n",
      "   Voigt 4-tensor:\n",
      "    [[ 118.8000   53.8000   53.8000    0.0000    0.0000    0.0000]\n",
      "     [  53.8000  118.8000   53.8000    0.0000    0.0000    0.0000]\n",
      "     [  53.8000   53.8000  118.8000    0.0000    0.0000    0.0000]\n",
      "     [   0.0000    0.0000    0.0000   59.4000    0.0000    0.0000]\n",
      "     [   0.0000    0.0000    0.0000    0.0000   59.4000    0.0000]\n",
      "     [   0.0000    0.0000    0.0000    0.0000    0.0000   59.4000]]\n",
      "\n",
      "  Wave mode 1: v_p=4.7313 km/s,  |v_g|=4.7313 km/s,  u_j=[ 0.0000  0.0000  1.0000],  v_g=[ 0.0000  0.0000  4.7313] km/s\n",
      "  Wave mode 2: v_p=3.3456 km/s,  |v_g|=3.3456 km/s,  u_j=[ 1.0000  0.0000  0.0000],  v_g=[ 0.0000  0.0000  3.3456] km/s\n",
      "  Wave mode 3: v_p=3.3456 km/s,  |v_g|=3.3456 km/s,  u_j=[ 0.0000  1.0000  0.0000],  v_g=[ 0.0000  0.0000  3.3456] km/s\n",
      "\n",
      " Piezoelectric properties:\n",
      "  Piezo effects supported but disabled\n"
     ]
    }
   ],
   "source": [
    "mat_gaas = materials.make_material(\"GaAs_1970_Auld\")\n",
    "mat_gaas.disable_piezoelectric_effects()\n",
    "\n",
    "print(mat_gaas, '\\n')\n",
    "print(mat_gaas.elastic_properties())"
   ]
  },
  {
   "cell_type": "markdown",
   "metadata": {},
   "source": [
    "Look at the lines reporting the properties of the three wave modes: phase speed $v_p$, group velocity $\\vec v_g$, and \n",
    "displacement polarisation eigenvectors $\\vec{u}$. \n",
    "\n",
    "With the default orientation, the separation into longitudinal and shear modes is simple, and for each mode, the phase and group velocities are identical. Moreover, as expected the longitudinal mode is oriented along $z$ and the degenerate shear modes lie in the $x$-$y$ plane.\n",
    "\n",
    "### Rotating an anistropic material\n",
    "However, things become more interesting if we start rotating the crystal. \n",
    "\n",
    "First, let's make a $\\pi/2$ rotation around the $y$ axis:\n"
   ]
  },
  {
   "cell_type": "code",
   "execution_count": 26,
   "metadata": {},
   "outputs": [
    {
     "name": "stdout",
     "output_type": "stream",
     "text": [
      "Elastic properties of material GaAs_1970_Auld\n",
      "  Density:        5307.000 kg/m^3\n",
      "  Ref. index:     3.3702+0.0000j \n",
      "  Crystal class:  Cubic\n",
      "  Crystal group:  4'3m\n",
      "   \n",
      " Stiffness c_IJ, unit: GPa.\n",
      "   Voigt 4-tensor:\n",
      "    [[118.8000  53.8000  53.8000   0.0000  -0.0000   0.0000]\n",
      "     [ 53.8000 118.8000  53.8000   0.0000   0.0000   0.0000]\n",
      "     [ 53.8000  53.8000 118.8000   0.0000   0.0000   0.0000]\n",
      "     [  0.0000   0.0000   0.0000  59.4000   0.0000   0.0000]\n",
      "     [ -0.0000   0.0000   0.0000   0.0000  59.4000   0.0000]\n",
      "     [  0.0000   0.0000   0.0000   0.0000   0.0000  59.4000]]\n",
      "\n",
      "  Wave mode 1: v_p=4.7313 km/s,  |v_g|=4.7313 km/s,  u_j=[ 0.0000  0.0000  1.0000],  v_g=[ 0.0000  0.0000  4.7313] km/s\n",
      "  Wave mode 2: v_p=3.3456 km/s,  |v_g|=3.3456 km/s,  u_j=[ 1.0000  0.0000  0.0000],  v_g=[-0.0000  0.0000  3.3456] km/s\n",
      "  Wave mode 3: v_p=3.3456 km/s,  |v_g|=3.3456 km/s,  u_j=[ 0.0000  1.0000  0.0000],  v_g=[ 0.0000  0.0000  3.3456] km/s\n",
      "\n",
      " Piezoelectric properties:\n",
      "  Piezo effects supported but disabled\n"
     ]
    }
   ],
   "source": [
    "nvec = np.array([0.0,1.0,0.0])\n",
    "phi = np.pi/2.\n",
    "\n",
    "mat_gaas2= mat_gaas.copy()\n",
    "mat_gaas2.rotate(nvec, phi)\n",
    "\n",
    "print(mat_gaas2.elastic_properties())"
   ]
  },
  {
   "cell_type": "markdown",
   "metadata": {},
   "source": [
    "Nothing changes! Since the crystal symmetry is cubic, the $\\pi/2$ rotation around a crystal axis has left the material unchanged and so all the wave properties are the same.\n",
    "\n",
    "Now let's try a $\\pi/4$ rotation around the $y$ axis:"
   ]
  },
  {
   "cell_type": "code",
   "execution_count": 27,
   "metadata": {},
   "outputs": [
    {
     "name": "stdout",
     "output_type": "stream",
     "text": [
      "Elastic properties of material GaAs_1970_Auld\n",
      "  Density:        5307.000 kg/m^3\n",
      "  Ref. index:     3.3702+0.0000j \n",
      "  Crystal class:  Cubic\n",
      "  Crystal group:  4'3m\n",
      "   \n",
      " Stiffness c_IJ, unit: GPa.\n",
      "   Voigt 4-tensor:\n",
      "    [[145.7000  53.8000  26.9000   0.0000   0.0000   0.0000]\n",
      "     [ 53.8000 118.8000  53.8000   0.0000   0.0000   0.0000]\n",
      "     [ 26.9000  53.8000 145.7000   0.0000  -0.0000   0.0000]\n",
      "     [  0.0000   0.0000   0.0000  59.4000   0.0000   0.0000]\n",
      "     [  0.0000   0.0000  -0.0000   0.0000  32.5000   0.0000]\n",
      "     [  0.0000   0.0000   0.0000   0.0000   0.0000  59.4000]]\n",
      "\n",
      "  Wave mode 1: v_p=5.2397 km/s,  |v_g|=5.2397 km/s,  u_j=[-0.0000  0.0000  1.0000],  v_g=[-0.0000  0.0000  5.2397] km/s\n",
      "  Wave mode 2: v_p=3.3456 km/s,  |v_g|=3.3456 km/s,  u_j=[ 0.0000  1.0000  0.0000],  v_g=[ 0.0000  0.0000  3.3456] km/s\n",
      "  Wave mode 3: v_p=2.4747 km/s,  |v_g|=2.4747 km/s,  u_j=[ 1.0000  0.0000  0.0000],  v_g=[ 0.0000  0.0000  2.4747] km/s\n",
      "\n",
      " Piezoelectric properties:\n",
      "  Piezo effects supported but disabled\n"
     ]
    }
   ],
   "source": [
    "nvec = np.array([0.0,1.0,0.0])\n",
    "phi = np.pi/4.\n",
    "\n",
    "mat_gaas2 = mat_gaas.copy()\n",
    "mat_gaas2.rotate(nvec, phi)\n",
    "\n",
    "print(mat_gaas2.elastic_properties())"
   ]
  },
  {
   "cell_type": "markdown",
   "metadata": {},
   "source": [
    "Observe that the polarisation states indicated by the components of the $\\vec u$ vectors are still unchanged: there is a  longitudinal mode oriented along $z$ and two shear modes with vibrations in the $x$-$y$ plane. Moreover, the group velocity of each mode is still aligned with the wavevector $\\vec q \\propto \\hat{z}$. \n",
    "\n",
    "However the two shear modes are no longer degenerate: they have different phase and group speeds, with the $x$-polarised mode having slowed by about 26%. As the crystal axis diagram below shows, this makes sense. The polarisation vectors of the two shear modes point along $\\hat{x}$ and $\\hat{y}$, but these two laboratory directions are no longer equivalent directions in the crystal."
   ]
  },
  {
   "cell_type": "code",
   "execution_count": 28,
   "metadata": {},
   "outputs": [
    {
     "data": {
      "image/png": "[encoded data removed]",
      "text/plain": [
       "<IPython.core.display.Image object>"
      ]
     },
     "metadata": {
      "image/png": {
       "width": 300
      }
     },
     "output_type": "display_data"
    }
   ],
   "source": [
    "prefg='tmp_gaas2'\n",
    "mat_gaas2.make_crystal_axes_plot(prefg)\n",
    "\n",
    "display(Image(prefg+'-crystal.png', width=300))"
   ]
  },
  {
   "cell_type": "markdown",
   "metadata": {},
   "source": [
    "Things get really interesting if we apply a rotation that is not commensurate with the crystal symmetries: a positive $\\pi/3$ rotation around the $[1,1,1]$ direction:"
   ]
  },
  {
   "cell_type": "code",
   "execution_count": 29,
   "metadata": {},
   "outputs": [
    {
     "name": "stdout",
     "output_type": "stream",
     "text": [
      "Elastic properties of material GaAs_1970_Auld\n",
      "  Density:        5307.000 kg/m^3\n",
      "  Ref. index:     3.3702+0.0000j \n",
      "  Crystal class:  Cubic\n",
      "  Crystal group:  4'3m\n",
      "   \n",
      " Stiffness c_IJ, unit: GPa.\n",
      "   Voigt 4-tensor:\n",
      "    [[150.6815  37.8593  37.8593   7.9704  -3.9852  -3.9852]\n",
      "     [ 37.8593 150.6815  37.8593  -3.9852   7.9704  -3.9852]\n",
      "     [ 37.8593  37.8593 150.6815  -3.9852  -3.9852   7.9704]\n",
      "     [  7.9704  -3.9852  -3.9852  43.4593   7.9704   7.9704]\n",
      "     [ -3.9852   7.9704  -3.9852   7.9704  43.4593   7.9704]\n",
      "     [ -3.9852  -3.9852   7.9704   7.9704   7.9704  43.4593]]\n",
      "\n",
      "  Wave mode 1: v_p=5.3341 km/s,  |v_g|=5.3484 km/s,  u_j=[-0.0400 -0.0400  0.9984],  v_g=[-0.2763 -0.2763  5.3341] km/s\n",
      "  Wave mode 2: v_p=3.1034 km/s,  |v_g|=3.3219 km/s,  u_j=[ 0.7060  0.7060  0.0565],  v_g=[ 0.8378  0.8378  3.1034] km/s\n",
      "  Wave mode 3: v_p=2.5860 km/s,  |v_g|=2.6583 km/s,  u_j=[-0.7071  0.7071 -0.0000],  v_g=[-0.4356 -0.4356  2.5860] km/s\n",
      "\n",
      " Piezoelectric properties:\n",
      "  Piezo effects supported but disabled\n"
     ]
    }
   ],
   "source": [
    "nvec = np.array([1.0,1.0,1.0])\n",
    "phi = np.pi/3.\n",
    "\n",
    "mat_gaas3 = mat_gaas.copy()\n",
    "mat_gaas3.rotate(nvec, phi)\n",
    "print(mat_gaas3.elastic_properties())"
   ]
  },
  {
   "cell_type": "markdown",
   "metadata": {},
   "source": [
    "Now the phase and group velocities are different and the eigenstates are hybrid in character with polarisation vectors pointing along irregular directions. Nevertheless, the first mode is close to longitudinal, the second mode is close to shear, and the third is pure shear. This phenomenon of \"quasi-longitudinal\", \"quasi-shear\" and pure shear modes is common."
   ]
  },
  {
   "cell_type": "markdown",
   "metadata": {},
   "source": [
    "### Dispersion diagrams\n",
    "We can obtain a much fuller picture by plotting several bulk dispersion properties as a function of the wavevector in 2D and 3D.\n",
    "\n",
    "Here's the dispersion maps for propagation in the $x$-$z$ plane for the default orientation of GaAs."
   ]
  },
  {
   "cell_type": "code",
   "execution_count": 30,
   "metadata": {},
   "outputs": [
    {
     "data": {
      "text/html": [
       "\n",
       "        <div style=\"margin-right: 10px;\">\n",
       "            <img src=\"tmpgaas-bulkdisp-all.png?1754874021039\" height=\"400px\">\n",
       "            <p style=\"text-align: left;\">GaAs bulk dispersion</p>\n",
       "        </div>"
      ],
      "text/plain": [
       "<IPython.core.display.HTML object>"
      ]
     },
     "metadata": {},
     "output_type": "display_data"
    }
   ],
   "source": [
    "prefix = 'tmpgaas'\n",
    "mat_gaas.plot_bulk_dispersion_all(prefix)\n",
    "img_single(prefix+'-bulkdisp-all.png', 'GaAs bulk dispersion', 400)"
   ]
  },
  {
   "cell_type": "markdown",
   "metadata": {},
   "source": [
    "These plots respectively show contours of the *phase velocity* surface  (top-left), the *slowness* surface $1/v_p(\\vec \\kappa)$ (top-right), the *ray* or group velocity surface (bottom-left) and the full 3D slowness surface (bottom-right).\n",
    "\n",
    "The colours in the first three plots correspond to the component of each wave mode's elastic polarisation along the propagation direction, ie $r=\\hat{\\kappa} \\cdot \\hat{u} = \\hat{z} \\cdot \\hat{u}$. The lines and dots also indicate the polarisation states. It is apparent that the pink coloured mode is close to longitudinal and the blue modes are close to transverse (shear). It turns out that for a given wavevector, the group velocity is *normal* to the slowness surface. Tracing around the outer curve quasi-shear mode in the first plot can help to understand the cusps in the corresponding curve of the group velocity plot.\n",
    "\n",
    "Here we compare the slowness calculation with the corresponding figure from Auld. The `mark_velocities` argument takes a list of velocities to be marked (as a small green dot) on the coordinate axes to identify points of interest. (In this case, the value $2.5\\times 10^{-4}$ s/m marked on the Auld plot.)"
   ]
  },
  {
   "cell_type": "code",
   "execution_count": 31,
   "metadata": {},
   "outputs": [
    {
     "data": {
      "text/html": [
       "\n",
       "    <div style=\"display: flex; justify-content: center; align-items: flex-start;\">\n",
       "        <div style=\"margin-right: 10px;\">\n",
       "            <img src=\"tmpgaas_ivp-bulkdisp-ivp.png?1754874022127\" height=\"360px\">\n",
       "            <p style=\"text-align: center;\">GaAs X-cut, (piezo off) - NumBAT</p>\n",
       "        </div>\n",
       "        <div>\n",
       "            <img src=\"images/auld_fig7_2.png?1754874022127\" height=\"360px\">\n",
       "            <p style=\"text-align: center;\">GaAs X cut, piezo off - Auld Fig. 7.2</p>\n",
       "        </div>\n",
       "    </div>"
      ],
      "text/plain": [
       "<IPython.core.display.HTML object>"
      ]
     },
     "metadata": {},
     "output_type": "display_data"
    }
   ],
   "source": [
    "imggaas_ivp = mat_gaas.plot_bulk_dispersion_ivp(\"tmpgaas_ivp\", mark_velocities=(1/2.5e-4,))\n",
    "img_pair(imggaas_ivp, \"images/auld_fig7_2.png\",  'GaAs X-cut, (piezo off) - NumBAT', 'GaAs X cut, piezo off - Auld Fig. 7.2', 360, 360)"
   ]
  },
  {
   "cell_type": "markdown",
   "metadata": {},
   "source": [
    "By default, bulk dispersion plots are always shown in the $x$-$z$ plane corresponding to the propagation direction in NumBAT waveguide calculations. To see other cuts, we can rotate the crystal. Alternatively one can use the `cut_plane` argument explained at the end of this file to perform different slices through the crystal. However, rotating the crystal corresponds more naturally to the experimental reality and allows a check that the bulk behaviour is expected before performing full waveguide calculations. \n",
    "\n",
    "Here is the case for a $\\pi/4$ rotation within one of the cubic crystal faces."
   ]
  },
  {
   "cell_type": "code",
   "execution_count": 32,
   "metadata": {},
   "outputs": [
    {
     "data": {
      "text/html": [
       "\n",
       "        <div style=\"margin-right: 10px;\">\n",
       "            <img src=\"tmpgaas2-bulkdisp-all.png?1754874024674\" height=\"400px\">\n",
       "            <p style=\"text-align: left;\">GaAs 45° rotation</p>\n",
       "        </div>"
      ],
      "text/plain": [
       "<IPython.core.display.HTML object>"
      ]
     },
     "metadata": {},
     "output_type": "display_data"
    }
   ],
   "source": [
    "prefix = 'tmpgaas2'\n",
    "mat_gaas2.plot_bulk_dispersion_all(prefix)\n",
    "img_single(prefix+'-bulkdisp-all.png', 'GaAs 45° rotation', 400)"
   ]
  },
  {
   "cell_type": "markdown",
   "metadata": {},
   "source": [
    "And here is the case for GaAs with the $\\pi/3$ rotation:"
   ]
  },
  {
   "cell_type": "code",
   "execution_count": 33,
   "metadata": {},
   "outputs": [
    {
     "data": {
      "text/html": [
       "\n",
       "        <div style=\"margin-right: 10px;\">\n",
       "            <img src=\"tmpgaas3-bulkdisp-all.png?1754874026906\" height=\"400px\">\n",
       "            <p style=\"text-align: left;\">GaAs 60° rotation</p>\n",
       "        </div>"
      ],
      "text/plain": [
       "<IPython.core.display.HTML object>"
      ]
     },
     "metadata": {},
     "output_type": "display_data"
    }
   ],
   "source": [
    "prefix = 'tmpgaas3'\n",
    "mat_gaas3.plot_bulk_dispersion_all(prefix)\n",
    "img_single(prefix+'-bulkdisp-all.png', 'GaAs 60° rotation', 400)"
   ]
  },
  {
   "cell_type": "markdown",
   "metadata": {},
   "source": [
    "## Special crystal orientations"
   ]
  },
  {
   "cell_type": "markdown",
   "metadata": {},
   "source": [
    "Rotations in NumBAT can be specified in several ways.\n",
    "\n",
    "As well as the angle and unit vector, the coordinate axes can be named directly, and rotation calls can be made successively\n",
    "to apply sequences of rotations. Here's a sequence of 3 rotations, rather like a so-called \"Euler rotation\"."
   ]
  },
  {
   "cell_type": "code",
   "execution_count": 34,
   "metadata": {},
   "outputs": [
    {
     "data": {
      "image/png": "[encoded data removed]",
      "text/plain": [
       "<IPython.core.display.Image object>"
      ]
     },
     "metadata": {
      "image/png": {
       "width": 300
      }
     },
     "output_type": "display_data"
    }
   ],
   "source": [
    "mat_3 = mat_gaas.copy()\n",
    "\n",
    "mat_3.rotate('x-axis', np.pi/4)        # Apply a positive pi/4 rotation around the lab x axis\n",
    "mat_3.rotate('z', np.pi/5)             # Now apply a positive pi/5 rotation around the lab z axis\n",
    "mat_3.rotate('x-axis', -4*np.pi/3)     # Now apply a negative -4pi/3 rotation around the lab x axis\n",
    "\n",
    "pref='tmp3'\n",
    "mat_3.make_crystal_axes_plot(pref)\n",
    "display(Image(pref+'-crystal.png', width=300))"
   ]
  },
  {
   "cell_type": "markdown",
   "metadata": {},
   "source": [
    "To return to the starting configuration, use `reset_orientation()` (or just make a new material from scratch)."
   ]
  },
  {
   "cell_type": "code",
   "execution_count": 35,
   "metadata": {},
   "outputs": [
    {
     "data": {
      "image/png": "[encoded data removed]",
      "text/plain": [
       "<IPython.core.display.Image object>"
      ]
     },
     "metadata": {
      "image/png": {
       "width": 300
      }
     },
     "output_type": "display_data"
    }
   ],
   "source": [
    "mat_3.reset_orientation()\n",
    "mat_3.make_crystal_axes_plot(pref)\n",
    "display(Image(pref+'-crystal.png', width=300))"
   ]
  },
  {
   "cell_type": "markdown",
   "metadata": {},
   "source": [
    "Some materials define special directions which are commonly encountered. For example, many important semiconductors such as lithium niobate can be obtained in so-called *x-cut*, *y-cut* or *z-cut* varieties.\n",
    "\n",
    "The orientations corresponding to each of these materials can be obtained by applying sequences of rotations like above. However, it is also possible to define specific rotations in the `.json` file.\n",
    "\n",
    "For lithium niobate, which has trigonal symmetry, the default orientation is *y-cut*, with the optical symmetry axis $\\hat{c}_z$ pointing along the $\\hat{z}$ direction:"
   ]
  },
  {
   "cell_type": "code",
   "execution_count": 36,
   "metadata": {},
   "outputs": [
    {
     "data": {
      "image/png": "[encoded data removed]",
      "text/plain": [
       "<IPython.core.display.Image object>"
      ]
     },
     "metadata": {
      "image/png": {
       "width": 300
      }
     },
     "output_type": "display_data"
    }
   ],
   "source": [
    "mat_LiNb_y = materials.make_material('LiNbO3_1973_Auld')\n",
    "mat_LiNb_y.disable_piezoelectric_effects()\n",
    "pref='tmp_linb'\n",
    "\n",
    "mat_LiNb_y.make_crystal_axes_plot(pref+'-ycut')\n",
    "display(Image(pref+'-ycut-crystal.png', width=300))"
   ]
  },
  {
   "cell_type": "markdown",
   "metadata": {},
   "source": [
    "Instead, selecting the *z-cut* orientation reorients the $\\hat{c}_z$ axis to point along $-\\hat{y}$ by applying a $\\pi/2$ rotation around the positive $\\hat{x}$ axis:"
   ]
  },
  {
   "cell_type": "code",
   "execution_count": 37,
   "metadata": {},
   "outputs": [
    {
     "data": {
      "image/png": "[encoded data removed]",
      "text/plain": [
       "<IPython.core.display.Image object>"
      ]
     },
     "metadata": {
      "image/png": {
       "width": 300
      }
     },
     "output_type": "display_data"
    }
   ],
   "source": [
    "mat_LiNb_z = mat_LiNb_y.copy()\n",
    "mat_LiNb_z.set_orientation('z-cut')\n",
    "mat_LiNb_z.make_crystal_axes_plot(pref+'-zcut')\n",
    "display(Image(pref+'-zcut-crystal.png', width=300))"
   ]
  },
  {
   "cell_type": "markdown",
   "metadata": {},
   "source": [
    "The different direction names here are admittedly confusing, because our choice of coordinates for the waveguide directions is not universal. The key point is that for the $z$-cut orientation, the $\\hat{c}_z$ axis points upwards out of the waveguide which is the standard convention."
   ]
  },
  {
   "cell_type": "markdown",
   "metadata": {},
   "source": [
    "The different orientations are reflected in the bulk dispersion properties of the different cases as shown below (we add in the $y$-cut case too). The 3D plots are identical, but the projections in the $x$-$z$ plane are different. The $z$-cut case shows the full 6-fold symmetry of the hexagonal crystal. The orientation of the $x$-cut case leads to a 4-fold symmetry for propagation in the $x$-$z$ plane."
   ]
  },
  {
   "cell_type": "code",
   "execution_count": 38,
   "metadata": {},
   "outputs": [
    {
     "name": "stdout",
     "output_type": "stream",
     "text": [
      "Elastic properties of material LiNbO3_1973_Auld\n",
      "  Density:        4700.000 kg/m^3\n",
      "  Ref. index:     0.0000 \n",
      "  Crystal class:  Trigonal\n",
      "  Crystal group:  3m\n",
      "   \n",
      " Stiffness c_IJ, unit: GPa.\n",
      "   Voigt 4-tensor:\n",
      "    [[203.0000  53.0000  75.0000   9.0000   0.0000   0.0000]\n",
      "     [ 53.0000 203.0000  75.0000  -9.0000   0.0000   0.0000]\n",
      "     [ 75.0000  75.0000 245.0000   0.0000   0.0000   0.0000]\n",
      "     [  9.0000  -9.0000   0.0000  60.0000   0.0000   0.0000]\n",
      "     [  0.0000   0.0000   0.0000   0.0000  60.0000   9.0000]\n",
      "     [  0.0000   0.0000   0.0000   0.0000   9.0000  73.5000]]\n",
      "\n",
      "  Wave mode 1: v_p=7.2199 km/s,  |v_g|=7.2199 km/s,  u_j=[ 0.0000  0.0000  1.0000],  v_g=[ 0.0000  0.0000  7.2199] km/s\n",
      "  Wave mode 2: v_p=3.5729 km/s,  |v_g|=3.6129 km/s,  u_j=[ 1.0000  0.0000  0.0000],  v_g=[ 0.0000  0.5359  3.5729] km/s\n",
      "  Wave mode 3: v_p=3.5729 km/s,  |v_g|=3.6129 km/s,  u_j=[ 0.0000  1.0000  0.0000],  v_g=[ 0.0000 -0.5359  3.5729] km/s\n",
      "\n",
      " Piezoelectric properties:\n",
      "  Piezo effects supported but disabled\n",
      "Elastic properties of material LiNbO3_1973_Auld\n",
      "  Density:        4700.000 kg/m^3\n",
      "  Ref. index:     0.0000 \n",
      "  Crystal class:  Trigonal\n",
      "  Crystal group:  3m\n",
      "   \n",
      " Stiffness c_IJ, unit: GPa.\n",
      "   Voigt 4-tensor:\n",
      "    [[203.0000  75.0000  53.0000  -9.0000   0.0000   0.0000]\n",
      "     [ 75.0000 245.0000  75.0000   0.0000   0.0000   0.0000]\n",
      "     [ 53.0000  75.0000 203.0000   9.0000   0.0000   0.0000]\n",
      "     [ -9.0000   0.0000   9.0000  60.0000   0.0000   0.0000]\n",
      "     [  0.0000   0.0000   0.0000   0.0000  73.5000  -9.0000]\n",
      "     [  0.0000   0.0000   0.0000   0.0000  -9.0000  60.0000]]\n",
      "\n",
      "  Wave mode 1: v_p=6.5811 km/s,  |v_g|=6.6051 km/s,  u_j=[ 0.0000  0.0626  0.9980],  v_g=[ 0.0000  0.5624  6.5811] km/s\n",
      "  Wave mode 2: v_p=3.9545 km/s,  |v_g|=3.9841 km/s,  u_j=[ 1.0000  0.0000  0.0000],  v_g=[ 0.0000 -0.4842  3.9545] km/s\n",
      "  Wave mode 3: v_p=3.5561 km/s,  |v_g|=3.5914 km/s,  u_j=[ 0.0000  0.9980 -0.0626],  v_g=[ 0.0000 -0.5023  3.5561] km/s\n",
      "\n",
      " Piezoelectric properties:\n",
      "  Piezo effects supported but disabled\n"
     ]
    }
   ],
   "source": [
    "print(mat_LiNb_y.elastic_properties())\n",
    "print(mat_LiNb_z.elastic_properties())"
   ]
  },
  {
   "cell_type": "code",
   "execution_count": 39,
   "metadata": {},
   "outputs": [
    {
     "data": {
      "text/html": [
       "\n",
       "        <div style=\"margin-right: 10px;\">\n",
       "            <img src=\"tmp_linb-xcut-bulkdisp-all.png?1754874126247\" height=\"400px\">\n",
       "            <p style=\"text-align: left;\">LiNbO3 x-cut bulk dispersion (no piezo)</p>\n",
       "        </div>"
      ],
      "text/plain": [
       "<IPython.core.display.HTML object>"
      ]
     },
     "metadata": {},
     "output_type": "display_data"
    },
    {
     "data": {
      "text/html": [
       "\n",
       "        <div style=\"margin-right: 10px;\">\n",
       "            <img src=\"tmp_linb-ycut-bulkdisp-all.png?1754874126248\" height=\"400px\">\n",
       "            <p style=\"text-align: left;\">LiNbO3 y-cut bulk dispersion (no piezo)</p>\n",
       "        </div>"
      ],
      "text/plain": [
       "<IPython.core.display.HTML object>"
      ]
     },
     "metadata": {},
     "output_type": "display_data"
    },
    {
     "data": {
      "text/html": [
       "\n",
       "        <div style=\"margin-right: 10px;\">\n",
       "            <img src=\"tmp_linb-zcut-bulkdisp-all.png?1754874126248\" height=\"400px\">\n",
       "            <p style=\"text-align: left;\">LiNbO3 z-cut bulk dispersion (no piezo)</p>\n",
       "        </div>"
      ],
      "text/plain": [
       "<IPython.core.display.HTML object>"
      ]
     },
     "metadata": {},
     "output_type": "display_data"
    }
   ],
   "source": [
    "mat_LiNb_x = mat_LiNb_y.copy()\n",
    "mat_LiNb_x.set_orientation('x-cut')\n",
    "\n",
    "fnx=mat_LiNb_x.plot_bulk_dispersion_all(pref+'-xcut', label='LiNbO3 x-cut')\n",
    "fny=mat_LiNb_y.plot_bulk_dispersion_all(pref+'-ycut', label='LiNbO3 y-cut')\n",
    "fnz=mat_LiNb_z.plot_bulk_dispersion_all(pref+'-zcut', label='LiNbO3 z-cut')\n",
    "\n",
    "img_single(fnx, 'LiNbO3 x-cut bulk dispersion (no piezo)', 400)\n",
    "img_single(fny, 'LiNbO3 y-cut bulk dispersion (no piezo)', 400)\n",
    "img_single(fnz, 'LiNbO3 z-cut bulk dispersion (no piezo)', 400)\n"
   ]
  },
  {
   "cell_type": "markdown",
   "metadata": {},
   "source": [
    "## Bulk dispersion and core-cladding guidance"
   ]
  },
  {
   "cell_type": "markdown",
   "metadata": {},
   "source": [
    "A useful application of the bulk dispersion curves is as a tool to predict the guidance properties of two media by comparing their slowness curves.\n",
    "\n",
    "Consider the first non-fibre conventional waveguide to show SBS: a chalcogenide ($\\mathrm{As}_2\\mathrm{S}_3$) strip waveguide on a silica substrate. \n",
    "\n"
   ]
  },
  {
   "cell_type": "code",
   "execution_count": 40,
   "metadata": {},
   "outputs": [
    {
     "name": "stdout",
     "output_type": "stream",
     "text": [
      "Elastic properties of material SiO2_2021_Poulton\n",
      "  Density:        2200.000 kg/m^3\n",
      "  Ref. index:     1.4500+0.0000j \n",
      "  Crystal class:  Isotropic\n",
      "  Crystal group:  no sym\n",
      "  c11:            78.500 GPa\n",
      "  c12:            16.100 GPa\n",
      "  c44:            31.200 GPa\n",
      "  Young's mod E:  73.020 GPa\n",
      "  Poisson ratio:  0.170\n",
      "  Velocity long.: 5973.426 m/s\n",
      "  Velocity shear: 3765.875 m/s\n",
      "  Velocity Rayleigh: 3411.154 m/s \n",
      "\n",
      "\n",
      "Elastic properties of material As2S3_2021_Poulton\n",
      "  Density:        3200.000 kg/m^3\n",
      "  Ref. index:     2.4500+0.0000j \n",
      "  Crystal class:  Isotropic\n",
      "  Crystal group:  no sym\n",
      "  c11:            18.900 GPa\n",
      "  c12:            6.000 GPa\n",
      "  c44:            6.400 GPa\n",
      "  Young's mod E:  15.897 GPa\n",
      "  Poisson ratio:  0.242\n",
      "  Velocity long.: 2430.278 m/s\n",
      "  Velocity shear: 1414.214 m/s\n",
      "  Velocity Rayleigh: 1298.833 m/s\n"
     ]
    }
   ],
   "source": [
    "mat_SiO2 = materials.make_material('SiO2_2021_Poulton')\n",
    "mat_As2S3 = materials.make_material('As2S3_2021_Poulton')\n",
    "\n",
    "print(mat_SiO2.elastic_properties(), '\\n\\n')\n",
    "print(mat_As2S3.elastic_properties())"
   ]
  },
  {
   "cell_type": "markdown",
   "metadata": {},
   "source": [
    "Noting that the chalcogenide refractive index is higher, we are motivated by optical guidance requirements to use it as the core material.\n",
    "\n",
    "We then note that both the elastic wave velocities for the chalcogenide are lower than the shear velocity for the silica. Consequently, we can expect the chalcogenide to form a suitable elastic cladding, which is indeed the case and explains why this system successfully showed SBS in 2012.\n",
    "\n",
    "For isotropic materials, this is sufficient investigation, but we can confirm the result by comparing the slowness curves for both materials on one plot:"
   ]
  },
  {
   "cell_type": "code",
   "execution_count": 42,
   "metadata": {},
   "outputs": [
    {
     "data": {
      "text/html": [
       "\n",
       "        <div style=\"margin-right: 10px;\">\n",
       "            <img src=\"comp_sio2_as2s3-compare-bulkdisp.png?1754874265913\" height=\"400px\">\n",
       "            <p style=\"text-align: left;\">SiO2 vs As2S3 bulk dispersion</p>\n",
       "        </div>"
      ],
      "text/plain": [
       "<IPython.core.display.HTML object>"
      ]
     },
     "metadata": {},
     "output_type": "display_data"
    }
   ],
   "source": [
    "fimg = materials.compare_bulk_dispersion(mat_SiO2, mat_As2S3, 'comp_sio2_as2s3')\n",
    "img_single(fimg, 'SiO2 vs As2S3 bulk dispersion', 400)"
   ]
  },
  {
   "cell_type": "markdown",
   "metadata": {},
   "source": [
    "The slowness curves for silica are shown in red/orange, those for the chalcogenide are shown in blue and magenta. Since the latter are entirely contained in the former, the chalcogenide is an elastically slow material and forms an ideal cladding."
   ]
  },
  {
   "cell_type": "markdown",
   "metadata": {},
   "source": [
    "Now consider the silicon/silica or SOI system."
   ]
  },
  {
   "cell_type": "code",
   "execution_count": 44,
   "metadata": {},
   "outputs": [
    {
     "name": "stdout",
     "output_type": "stream",
     "text": [
      "Elastic properties of material SiO2_2021_Poulton\n",
      "  Density:        2200.000 kg/m^3\n",
      "  Ref. index:     1.4500+0.0000j \n",
      "  Crystal class:  Isotropic\n",
      "  Crystal group:  no sym\n",
      "  c11:            78.500 GPa\n",
      "  c12:            16.100 GPa\n",
      "  c44:            31.200 GPa\n",
      "  Young's mod E:  73.020 GPa\n",
      "  Poisson ratio:  0.170\n",
      "  Velocity long.: 5973.426 m/s\n",
      "  Velocity shear: 3765.875 m/s\n",
      "  Velocity Rayleigh: 3411.154 m/s \n",
      "\n",
      "\n",
      "Elastic properties of material Si_1970_Auld\n",
      "  Density:        2332.000 kg/m^3\n",
      "  Ref. index:     3.5000+0.0000j \n",
      "  Crystal class:  Cubic\n",
      "  Crystal group:  no sym\n",
      "   \n",
      " Stiffness c_IJ, unit: GPa.\n",
      "   Voigt 4-tensor:\n",
      "    [[ 165.7000   79.5600   79.5600    0.0000    0.0000    0.0000]\n",
      "     [  79.5600  165.7000   79.5600    0.0000    0.0000    0.0000]\n",
      "     [  79.5600   79.5600  165.7000    0.0000    0.0000    0.0000]\n",
      "     [   0.0000    0.0000    0.0000   63.9000    0.0000    0.0000]\n",
      "     [   0.0000    0.0000    0.0000    0.0000   63.9000    0.0000]\n",
      "     [   0.0000    0.0000    0.0000    0.0000    0.0000   63.9000]]\n",
      "\n",
      "  Wave mode 1: v_p=8.4294 km/s,  |v_g|=8.4294 km/s,  u_j=[ 0.0000  0.0000  1.0000],  v_g=[ 0.0000  0.0000  8.4294] km/s\n",
      "  Wave mode 2: v_p=5.2346 km/s,  |v_g|=5.2346 km/s,  u_j=[ 1.0000  0.0000  0.0000],  v_g=[ 0.0000  0.0000  5.2346] km/s\n",
      "  Wave mode 3: v_p=5.2346 km/s,  |v_g|=5.2346 km/s,  u_j=[ 0.0000  1.0000  0.0000],  v_g=[ 0.0000  0.0000  5.2346] km/s\n"
     ]
    }
   ],
   "source": [
    "mat_SiO2 = materials.make_material('SiO2_2021_Poulton')\n",
    "mat_Si = materials.make_material('Si_1970_Auld')\n",
    "\n",
    "print(mat_SiO2.elastic_properties(), '\\n\\n')\n",
    "print(mat_Si.elastic_properties())"
   ]
  },
  {
   "cell_type": "code",
   "execution_count": 45,
   "metadata": {},
   "outputs": [
    {
     "data": {
      "text/html": [
       "\n",
       "        <div style=\"margin-right: 10px;\">\n",
       "            <img src=\"comp_sio2_si-compare-bulkdisp.png?1754874288871\" height=\"400px\">\n",
       "            <p style=\"text-align: left;\">SiO2 vs Si bulk dispersion</p>\n",
       "        </div>"
      ],
      "text/plain": [
       "<IPython.core.display.HTML object>"
      ]
     },
     "metadata": {},
     "output_type": "display_data"
    }
   ],
   "source": [
    "fimg = materials.compare_bulk_dispersion(mat_SiO2, mat_Si, 'comp_sio2_si')\n",
    "img_single(fimg, 'SiO2 vs Si bulk dispersion', 400)"
   ]
  },
  {
   "cell_type": "markdown",
   "metadata": {},
   "source": [
    "Here we see that the slowness curves are interleaved but both families of waves are slower in silica than their corresponding modes in silicon. Consequently, we can't guide both sound and light in a conventional SOI waveguide, and all SBS demonstrations in this class of platform have involved special techniques such as undercut waveguides or pillar structures."
   ]
  },
  {
   "cell_type": "markdown",
   "metadata": {},
   "source": [
    "A similar case arises with lithium niobate and silica (and a number of other potential substrates). Lithium niobate and silica form an excellent core-cladding combination for light guidance but the elastic wave situation is as follows:"
   ]
  },
  {
   "cell_type": "code",
   "execution_count": 46,
   "metadata": {},
   "outputs": [
    {
     "data": {
      "text/html": [
       "\n",
       "        <div style=\"margin-right: 10px;\">\n",
       "            <img src=\"comp_sio2_linb_x-compare-bulkdisp.png?1754874345283\" height=\"400px\">\n",
       "            <p style=\"text-align: left;\">SiO2 vs LiNbO3 x-cut bulk dispersion</p>\n",
       "        </div>"
      ],
      "text/plain": [
       "<IPython.core.display.HTML object>"
      ]
     },
     "metadata": {},
     "output_type": "display_data"
    },
    {
     "data": {
      "text/html": [
       "\n",
       "        <div style=\"margin-right: 10px;\">\n",
       "            <img src=\"comp_sio2_linb_z-compare-bulkdisp.png?1754874345283\" height=\"400px\">\n",
       "            <p style=\"text-align: left;\">SiO2 vs LiNbO3 z-cut bulk dispersion</p>\n",
       "        </div>"
      ],
      "text/plain": [
       "<IPython.core.display.HTML object>"
      ]
     },
     "metadata": {},
     "output_type": "display_data"
    }
   ],
   "source": [
    "\n",
    "fimg1=materials.compare_bulk_dispersion(mat_SiO2, mat_LiNb_x, 'comp_sio2_linb_x')\n",
    "fimg2=materials.compare_bulk_dispersion(mat_SiO2, mat_LiNb_z, 'comp_sio2_linb_z')\n",
    "img_single(fimg1, 'SiO2 vs LiNbO3 x-cut bulk dispersion', 400)\n",
    "img_single(fimg2, 'SiO2 vs LiNbO3 z-cut bulk dispersion', 400)"
   ]
  },
  {
   "cell_type": "markdown",
   "metadata": {},
   "source": [
    "This material combination fails for both common crystal orientations.\n",
    "\n",
    "However, as several groups have realised, while these elastic properties forbid total internal reflection elastic guidance\n",
    "in a conventional waveguide, and it does not forbid efficient elastic guidance as a Rayleigh-like surface mode."
   ]
  },
  {
   "cell_type": "markdown",
   "metadata": {},
   "source": [
    "## Dispersion relations with different cut planes"
   ]
  },
  {
   "cell_type": "markdown",
   "metadata": {},
   "source": [
    "\n",
    "By default, NumBAT draws dispersion plots in the conventional $x$-$z$ propagation plane and up to now, we have examined propagation along different crystal planes by actively rotating the crystal into the desired orientation for propagation in the $x$-$z$ plane.\n",
    "\n",
    "However, if the plane of interest aligns with a Cartesian axis, we can explicitly select a cut plane using the parameter `cut_plane` with values `xy`, `yz` or `xz`.\n",
    "\n",
    "For example, here are two equivalent ways of viewing slowness curves in two orthogonal planes of lithium niobate. Note that this a piezo-electric material. Consideration of those effects is left to the following tutorial. "
   ]
  },
  {
   "cell_type": "markdown",
   "metadata": {},
   "source": [
    "In the first approach, we specify the desired cut plane with the `cut_plane` argument. Notice that the axis labels are consistent:"
   ]
  },
  {
   "cell_type": "code",
   "execution_count": 47,
   "metadata": {},
   "outputs": [
    {
     "data": {
      "text/html": [
       "\n",
       "    <div style=\"display: flex; justify-content: center; align-items: flex-start;\">\n",
       "        <div style=\"margin-right: 10px;\">\n",
       "            <img src=\"tmp_xy_off-bulkdisp-ivp.png?1754874397373\" height=\"300px\">\n",
       "            <p style=\"text-align: center;\">xy plane piezo off</p>\n",
       "        </div>\n",
       "        <div>\n",
       "            <img src=\"images/auld_fig8_10.png?1754874397373\" height=\"300px\">\n",
       "            <p style=\"text-align: center;\">xy plane piezo off</p>\n",
       "        </div>\n",
       "    </div>"
      ],
      "text/plain": [
       "<IPython.core.display.HTML object>"
      ]
     },
     "metadata": {},
     "output_type": "display_data"
    },
    {
     "data": {
      "text/html": [
       "\n",
       "    <div style=\"display: flex; justify-content: center; align-items: flex-start;\">\n",
       "        <div style=\"margin-right: 10px;\">\n",
       "            <img src=\"tmp_yz_off-bulkdisp-ivp.png?1754874397531\" height=\"300px\">\n",
       "            <p style=\"text-align: center;\">yz plane piezo off</p>\n",
       "        </div>\n",
       "        <div>\n",
       "            <img src=\"images/auld_fig8_9.png?1754874397531\" height=\"300px\">\n",
       "            <p style=\"text-align: center;\">yz plane piezo off</p>\n",
       "        </div>\n",
       "    </div>"
      ],
      "text/plain": [
       "<IPython.core.display.HTML object>"
      ]
     },
     "metadata": {},
     "output_type": "display_data"
    }
   ],
   "source": [
    "import materials\n",
    "mat_LiNbO3 = materials.make_material(\"LiNbO3_1973_Auld\")\n",
    "mat_LiNbO3.disable_piezoelectric_effects()\n",
    "\n",
    "imsz=300\n",
    "vels = (1/1.8e-4,)\n",
    "img_xy_off = mat_LiNbO3.plot_bulk_dispersion_ivp(\"tmp_xy_off\", show_poln=True, cut_plane=\"xy\", mark_velocities=vels)\n",
    "img_pair(img_xy_off, \"images/auld_fig8_10.png\", 'xy plane piezo off', 'xy plane piezo off', imsz, imsz)\n",
    "\n",
    "img_yz_off = mat_LiNbO3.plot_bulk_dispersion_ivp(\"tmp_yz_off\", show_poln=True, cut_plane=\"yz\", mark_velocities=vels)\n",
    "img_pair(img_yz_off, \"images/auld_fig8_9.png\", 'yz plane piezo off', 'yz plane piezo off', imsz, imsz)\n"
   ]
  },
  {
   "cell_type": "markdown",
   "metadata": {},
   "source": [
    "In the second approach, we apply a rotation to move the desired cut plane into the $x$-$z$ plane. Now the axis labels always refer to the $x$ and $z$ directions.\n",
    "\n",
    "The $X$ cut case illustrates the fact that for lithium niobate, the $X$-cut and $-X$-cut orientations are not equivalent and show mirror behaviour for the dispersion.  "
   ]
  },
  {
   "cell_type": "code",
   "execution_count": 48,
   "metadata": {},
   "outputs": [
    {
     "data": {
      "text/html": [
       "\n",
       "    <div style=\"display: flex; justify-content: center; align-items: flex-start;\">\n",
       "        <div style=\"margin-right: 10px;\">\n",
       "            <img src=\"tmp_zrot_off-bulkdisp-ivp.png?1754874407975\" height=\"300px\">\n",
       "            <p style=\"text-align: center;\">Z cut piezo off</p>\n",
       "        </div>\n",
       "        <div>\n",
       "            <img src=\"images/auld_fig8_10.png?1754874407975\" height=\"300px\">\n",
       "            <p style=\"text-align: center;\">Z cut piezo off</p>\n",
       "        </div>\n",
       "    </div>"
      ],
      "text/plain": [
       "<IPython.core.display.HTML object>"
      ]
     },
     "metadata": {},
     "output_type": "display_data"
    },
    {
     "data": {
      "text/html": [
       "\n",
       "    <div style=\"display: flex; justify-content: center; align-items: flex-start;\">\n",
       "        <div style=\"margin-right: 10px;\">\n",
       "            <img src=\"tmp_xrot_off-bulkdisp-ivp.png?1754874408136\" height=\"300px\">\n",
       "            <p style=\"text-align: center;\">X cut piezo off</p>\n",
       "        </div>\n",
       "        <div>\n",
       "            <img src=\"images/auld_fig8_9.png?1754874408136\" height=\"300px\">\n",
       "            <p style=\"text-align: center;\">X cut piezo off</p>\n",
       "        </div>\n",
       "    </div>"
      ],
      "text/plain": [
       "<IPython.core.display.HTML object>"
      ]
     },
     "metadata": {},
     "output_type": "display_data"
    },
    {
     "data": {
      "text/html": [
       "\n",
       "    <div style=\"display: flex; justify-content: center; align-items: flex-start;\">\n",
       "        <div style=\"margin-right: 10px;\">\n",
       "            <img src=\"tmp_xrot_noff-bulkdisp-ivp.png?1754874408372\" height=\"300px\">\n",
       "            <p style=\"text-align: center;\">-X cut piezo off</p>\n",
       "        </div>\n",
       "        <div>\n",
       "            <img src=\"images/auld_fig8_9.png?1754874408372\" height=\"300px\">\n",
       "            <p style=\"text-align: center;\">X cut piezo off</p>\n",
       "        </div>\n",
       "    </div>"
      ],
      "text/plain": [
       "<IPython.core.display.HTML object>"
      ]
     },
     "metadata": {},
     "output_type": "display_data"
    }
   ],
   "source": [
    "# Zcut orientation moves x-y axes into the horizontal x-z plane\n",
    "mat_LiNbO3_zc = mat_LiNbO3.copy()\n",
    "mat_LiNbO3_zc.set_orientation('z-cut')\n",
    "\n",
    "imgrot_z_off = mat_LiNbO3_zc.plot_bulk_dispersion_ivp(\"tmp_zrot_off\", show_poln=True, mark_velocities=vels)\n",
    "img_pair(imgrot_z_off, \"images/auld_fig8_10.png\", 'Z cut piezo off', 'Z cut piezo off', imsz, imsz)\n",
    "\n",
    "# Xcut orientation moves y-z axes into the horizontal x-z plane\n",
    "mat_LiNbO3_xc = mat_LiNbO3.copy()\n",
    "mat_LiNbO3_nxc = mat_LiNbO3.copy()\n",
    "mat_LiNbO3_xc.set_orientation('x-cut')\n",
    "mat_LiNbO3_nxc.set_orientation('negx-cut')\n",
    "\n",
    "imgrot_x_off = mat_LiNbO3_xc.plot_bulk_dispersion_ivp(\"tmp_xrot_off\", show_poln=True, mark_velocities=vels)\n",
    "img_pair(imgrot_x_off, \"images/auld_fig8_9.png\", 'X cut piezo off', 'X cut piezo off', imsz, imsz)\n",
    "\n",
    "imgrot_x_noff = mat_LiNbO3_nxc.plot_bulk_dispersion_ivp(\"tmp_xrot_noff\", show_poln=True, mark_velocities=vels)\n",
    "img_pair(imgrot_x_noff, \"images/auld_fig8_9.png\", '-X cut piezo off', 'X cut piezo off', imsz, imsz)\n"
   ]
  }
 ],
 "metadata": {
  "kernelspec": {
   "display_name": "nbpy3",
   "language": "python",
   "name": "python3"
  },
  "language_info": {
   "codemirror_mode": {
    "name": "ipython",
    "version": 3
   },
   "file_extension": ".py",
   "mimetype": "text/x-python",
   "name": "python",
   "nbconvert_exporter": "python",
   "pygments_lexer": "ipython3",
   "version": "3.13.3"
  }
 },
 "nbformat": 4,
 "nbformat_minor": 2
}
