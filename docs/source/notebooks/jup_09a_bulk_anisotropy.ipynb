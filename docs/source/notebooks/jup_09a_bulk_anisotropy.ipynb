{
 "cells": [
  {
   "cell_type": "markdown",
   "metadata": {},
   "source": [
    "# Tutorial 9a - Bulk elastic anisotropy"
   ]
  },
  {
   "cell_type": "markdown",
   "metadata": {},
   "source": [
    "Although much of the SBS literature assumes that the elastic materials are isotropic, anisotropy of the elastic response can be an important effect. In general, anisotropy is often more significant in elastic physics than electromagnetic physics, because of the more involved tensor nature of the elastic theory. For instance, *cubic* materials such as silicon have an isotropic linear electromagnetic response but an anisotropic elastic linear response.\n",
    "\n",
    "NumBAT supports arbitrary elastic nonlinearity in calculating elastic modes and the SBS gain of a waveguide. However, even the bulk elastic wave properties of anistropic materials is quite complex. This tutorial explores some of these effects. \n",
    "\n",
    "This exercise is most naturally performed interactively and so this example is written as a Jupyter notebook (see Tutorial 9 for an introduction to NumBAT in Jupyter)."
   ]
  },
  {
   "cell_type": "markdown",
   "metadata": {},
   "source": [
    "## Theory\n",
    "\n",
    "Bulk wave modes in linear elastic materials are found as eigen-solutions of the elastic wave equation for a uniform material.  \n",
    "Starting from the elastic wave equation\n",
    "$$\n",
    "\\nabla \\cdot \\bar{T} + \\omega^2 \\rho(x,y) \\vec U = 0,\n",
    "$$\n",
    "using the constitutive equation\n",
    "$$\n",
    "\\bar{T} = \\bar{c} : \\bar{S} \\qquad \\leftrightarrow \\qquad T_{ij} = c_{ijkl} S_{kl},\n",
    "$$\n",
    "where $\\bar{c}$ is the stiffness tensor and $\\bar{S}$ the strain tensor, we find\n",
    "\\begin{align*}\n",
    "\\nabla \\cdot (\\bar{c} : \\bar{S}) + \\omega^2 \\rho(x,y) \\vec U &= 0 \\\\\n",
    "\\nabla \\cdot (\\bar{c} : \\nabla_s \\vec{U}) + \\omega^2 \\rho(x,y) \\vec U &= 0 ,\n",
    "\\end{align*}\n",
    "where $\\nabla_S$ denotes the *symmetric gradient*.\n",
    "\n",
    "## Bulk wave modes\n",
    "\n",
    "Looking for plane wave solutions of the form\n",
    "$$\n",
    "  \\vec U =  \\vec u e^{i (\\vec q \\cdot \\vec r -\\Omega t) } +  \\vec u^* e^{-i (\\vec q \\cdot \\vec r -\\Omega t) } ,\n",
    "$$\n",
    "leads to the 3x3 matrix eigenvalue equation (see Auld. vol 1, chapter 7)\n",
    "$$\n",
    "k^2 \\Gamma \\vec u = \\rho \\Omega^2 \\vec u \n",
    "$$\n",
    "or in index form\n",
    "$$ \n",
    "k^2 \\Gamma_{ij} - \\rho \\Omega^2 \\delta_{ij} u_j = 0.\n",
    "$$\n",
    "known as the *Christoffel* equation.\n",
    "\n",
    "The matrix operator $\\Gamma$ is most conveniently written using the compact Voigt notation as follows. Writing the wavevector $\\vec k= k \\hat \\kappa$ in terms of the unit vector $\\hat \\kappa$, we define the matrix\n",
    "$$\n",
    "\\mathrm{M}=\n",
    "\\begin{bmatrix}\n",
    "\\kappa_x & 0 & 0 & 0 & \\kappa_z & \\kappa_y \\\\\n",
    "0 & \\kappa_y & 0 &  \\kappa_z & 0 & \\kappa_x \\\\\n",
    " 0 & 0 & \\kappa_z & \\kappa_y & \\kappa_x & 0 .\n",
    "\\end{bmatrix}\n",
    "$$\n",
    "Then $\\Gamma$ has the form\n",
    "$$\n",
    "\\Gamma(\\vec \\kappa) = \\mathrm{M} C_{IJ} \\mathrm{M}^t,\n",
    "$$\n",
    "where $C_{IJ}$ is the 6x6 Voigt matrix for the stiffness tensor.\n",
    "\n",
    "Since the stiffness is invariably treated as frequency independent, we can rewrite the Christoffel equation as \n",
    "$$ \n",
    "\\left( \\frac{1}{\\rho} \\Gamma_{ij} - \\frac{\\Omega^2}{k^2} \\delta_{ij} \\right) u_j = 0,\n",
    "$$\n",
    "and identify the eigenvalue as the square of the phase speed $v = \\Omega/k$:\n",
    "$$ \n",
    "\\left( \\frac{1}{\\rho} \\Gamma_{ij}(\\vec \\kappa) - v^2 \\delta_{ij} \\right) u_j = 0.\n",
    "$$\n",
    "\n",
    "If we neglect the viscosity, $\\Gamma$ is a real symmetric matrix, so we are guaranteed to find three propagating wave modes with \n",
    "real phase velocities $v_i$ and orthogonal polarisation vectors $\\vec u_i$.\n",
    "\n",
    "\n",
    "In isotropic materials, the Christoffel equation has the expected solutions of one longitudinal wave, and two slower shear waves.\n",
    "In anisotropic materials, the polarisations can be more complicated. However, as $\\Gamma$ is a symmetric matrix, \n",
    "all three wave modes are orthogonal."
   ]
  },
  {
   "cell_type": "markdown",
   "metadata": {
    "vscode": {
     "languageId": "plaintext"
    }
   },
   "source": [
    "## Group velocity\n",
    "Continuing to neglect any linear wave damping, we can identify the *group velocity*\n",
    "$$\n",
    "\\vec v_g \\equiv \\nabla_{\\vec k}  \\Omega,\n",
    "$$\n",
    "with the *energy velocity* $\\vec v_e$, defined as the ratio of the power flux and the energy density:\n",
    "$$\n",
    "\\vec v_g \\equiv \\frac{P_e}{u_e}  = \\frac{- \\frac{1}{2}\\vec v \\cdot \\bar {T}}{\\bar{S} : \\bar{C} : \\bar{S}}.\n",
    "$$\n",
    "\n",
    "In this way, we can find both the phase velocity and group velocity as functions of the wavevector direction $\\vec \\kappa$.\n",
    "In the (excellent) dispersionless approximation, these are independent of the wave frequency $\\Omega$. (This of course is *not* true in waveguides.)\n"
   ]
  },
  {
   "cell_type": "markdown",
   "metadata": {
    "vscode": {
     "languageId": "plaintext"
    }
   },
   "source": [
    "## Wave surfaces\n",
    "\n",
    "It is common to plot several quantities\n",
    "  - the *slowness surface*, which is the reciprocal of the wave speed $\\frac{1}{v_p(\\vec \\kappa)}$\n",
    "  - the *normal* or *phase velocity* surface, which is simply the wave speed function $v_p(\\vec \\kappa)$\n",
    "  - the *ray surface*, which is the magnitude of the group velocity $|\\vec v_g(\\vec \\kappa)|$\n",
    "\n",
    "Note that while both the phase and group velocities are vectors, since the phase velocity is everywhere parallel to the wavevector direction\n",
    "$\\vec \\kappa$, it is convenient to simply refer to the wave speed $v_p$ written as a scalar."
   ]
  },
  {
   "cell_type": "markdown",
   "metadata": {},
   "source": [
    "## Wave properties of isotropic materials\n",
    "\n",
    "Let's start by calculating the above properties for an isotropic medium, say fused silica.\n",
    "We create the material and print out a few of its basic properties."
   ]
  },
  {
   "cell_type": "code",
   "execution_count": 5,
   "metadata": {},
   "outputs": [
    {
     "name": "stdout",
     "output_type": "stream",
     "text": [
      "\n",
      "          Material: SiO2\n",
      "          File: SiO2_2021_Poulton\n",
      "          Source: Poulton\n",
      "          Date: 2021\n",
      "           \n",
      "\n",
      "Material:       SiO2_2021_Poulton\n",
      "Density:        2200.000 kg/m^3\n",
      "c11:            78.500 GPa\n",
      "c12:            16.100 GPa\n",
      "c44:            31.200 GPa\n",
      "Young's mod E:  73.020 GPa\n",
      "Poisson ratio:  0.170\n",
      "Velocity long.: 5973.426 m/s\n",
      "Velocity shear: 3765.875 m/s\n"
     ]
    }
   ],
   "source": [
    "\n",
    "\n",
    "import sys\n",
    "import numpy as np\n",
    "\n",
    "sys.path.append(\"../backend\")\n",
    "import numbat\n",
    "import materials\n",
    "\n",
    "mat_a = materials.make_material(\"SiO2_2021_Poulton\")\n",
    "\n",
    "print(mat_a, '\\n')\n",
    "\n",
    "print(mat_a.elastic_properties())"
   ]
  },
  {
   "cell_type": "markdown",
   "metadata": {},
   "source": [
    "Observe that this material has a *crystal class* of *Isotropic*, and that its stiffness values satisfy the constraint\n",
    "$c_{44} = (c_{11}-c_{12})/2$ which holds for any isotropic material.  \n",
    "\n",
    "Further, being isotropic, it has a well-defined Young's modulus and Poisson ratio. In fact, NumBAT allows the material properties to be specified in terms of those quantities rather than the stiffness values if desired.\n",
    "\n",
    "The phase speeds are given for propagation along $z$ with $\\vec \\kappa = (0,0,1)$, though of course for this material, the values are the same in every direction."
   ]
  },
  {
   "cell_type": "markdown",
   "metadata": {},
   "source": []
  },
  {
   "cell_type": "markdown",
   "metadata": {},
   "source": []
  }
 ],
 "metadata": {
  "kernelspec": {
   "display_name": "mypy3",
   "language": "python",
   "name": "python3"
  },
  "language_info": {
   "codemirror_mode": {
    "name": "ipython",
    "version": 3
   },
   "file_extension": ".py",
   "mimetype": "text/x-python",
   "name": "python",
   "nbconvert_exporter": "python",
   "pygments_lexer": "ipython3",
   "version": "3.11.6"
  }
 },
 "nbformat": 4,
 "nbformat_minor": 2
}
